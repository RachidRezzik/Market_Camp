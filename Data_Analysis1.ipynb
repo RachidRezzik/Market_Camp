{
 "cells": [
  {
   "cell_type": "code",
   "execution_count": 448,
   "metadata": {},
   "outputs": [],
   "source": [
    "def warn(*args, **kwargs):\n",
    "    pass\n",
    "import warnings\n",
    "warnings.warn = warn\n",
    "\n",
    "import pandas as pd\n",
    "import numpy as np\n",
    "pd.set_option('display.max_rows', 500)\n",
    "pd.set_option('display.max_columns', 500)\n",
    "pd.set_option('display.width', 1000)"
   ]
  },
  {
   "cell_type": "markdown",
   "metadata": {},
   "source": [
    "**Note: Dataset Contains customer/marketing data as of 6/30/2014. \n",
    "Amount spent on wine, meat, fish, sweets, and gold product is over the last two years. For each of the six campaigns, it cost 2 euros to contact a customer and the company receives 22 euros if the customer accepts the offer.**"
   ]
  },
  {
   "cell_type": "code",
   "execution_count": 449,
   "metadata": {
    "scrolled": true
   },
   "outputs": [
    {
     "name": "stdout",
     "output_type": "stream",
     "text": [
      "<class 'pandas.core.frame.DataFrame'>\n",
      "RangeIndex: 2240 entries, 0 to 2239\n",
      "Data columns (total 29 columns):\n",
      "ID                     2240 non-null int64\n",
      "Year_Birth             2240 non-null int64\n",
      "Education              2240 non-null object\n",
      "Relationship_Status    2240 non-null object\n",
      "Income                 2216 non-null float64\n",
      "Kids                   2240 non-null int64\n",
      "Teens                  2240 non-null int64\n",
      "Enroll_Date            2240 non-null object\n",
      "Recency                2240 non-null int64\n",
      "Wine ($)               2240 non-null int64\n",
      "Fruit ($)              2240 non-null int64\n",
      "Meat ($)               2240 non-null int64\n",
      "Fish ($)               2240 non-null int64\n",
      "Sweets ($)             2240 non-null int64\n",
      "Gold_Products ($)      2240 non-null int64\n",
      "Discount_Purchases     2240 non-null int64\n",
      "Web_Purchases          2240 non-null int64\n",
      "Catalog_Purchases      2240 non-null int64\n",
      "Store_Purchases        2240 non-null int64\n",
      "June_Web_Visits        2240 non-null int64\n",
      "Complaint              2240 non-null int64\n",
      "Campaign1              2240 non-null int64\n",
      "Campaign2              2240 non-null int64\n",
      "Campaign3              2240 non-null int64\n",
      "Campaign4              2240 non-null int64\n",
      "Campaign5              2240 non-null int64\n",
      "Campaign6              2240 non-null int64\n",
      "Contact_Cost           2240 non-null int64\n",
      "Offer_Revenue          2240 non-null int64\n",
      "dtypes: float64(1), int64(25), object(3)\n",
      "memory usage: 507.6+ KB\n"
     ]
    }
   ],
   "source": [
    "marketing = pd.read_csv('marketing_campaign.csv')\n",
    "marketing.info()"
   ]
  },
  {
   "cell_type": "markdown",
   "metadata": {},
   "source": [
    "Missing income information for several customers, will utilize average income for their respective education and age.\n",
    "\n",
    "Age column will be engineered from birth dates into different group values (Ex: 20 - 29, 30 - 39...)"
   ]
  },
  {
   "cell_type": "code",
   "execution_count": 450,
   "metadata": {},
   "outputs": [
    {
     "name": "stdout",
     "output_type": "stream",
     "text": [
      "1\n"
     ]
    }
   ],
   "source": [
    "## Checking for any mistaken customer duplicate entries ###\n",
    "print(max(marketing.ID.value_counts()))"
   ]
  },
  {
   "cell_type": "code",
   "execution_count": 451,
   "metadata": {},
   "outputs": [
    {
     "data": {
      "text/plain": [
       "239     1893\n",
       "339     1899\n",
       "192     1900\n",
       "1950    1940\n",
       "424     1941\n",
       "        ... \n",
       "747     1995\n",
       "1850    1995\n",
       "696     1995\n",
       "1170    1996\n",
       "46      1996\n",
       "Name: Year_Birth, Length: 2240, dtype: int64"
      ]
     },
     "execution_count": 451,
     "metadata": {},
     "output_type": "execute_result"
    }
   ],
   "source": [
    "### Exploring birth years of customers ###\n",
    "marketing['Year_Birth'].sort_values(ascending=True)"
   ]
  },
  {
   "cell_type": "markdown",
   "metadata": {},
   "source": [
    "The three oldest customers above have most likely passed away, I will exclude them in this study "
   ]
  },
  {
   "cell_type": "code",
   "execution_count": 452,
   "metadata": {},
   "outputs": [],
   "source": [
    "marketing = marketing.drop(index=[239, 339, 192], axis=0)"
   ]
  },
  {
   "cell_type": "code",
   "execution_count": 453,
   "metadata": {},
   "outputs": [
    {
     "name": "stdout",
     "output_type": "stream",
     "text": [
      "Youngest Customer: 18 \n",
      "Oldest Customer: 74\n",
      "Age_Group\n",
      "Forties       676\n",
      "Thirties      557\n",
      "Fifties       467\n",
      "Sixties       300\n",
      "Twenties      214\n",
      "Seventies      16\n",
      "Late-Teens      7\n",
      "Name: Age_Group, dtype: int64\n"
     ]
    }
   ],
   "source": [
    "### Creating Age Groups (Do not know which month customers were born, we'll assume they were born after June 30th) ###\n",
    "marketing['Age'] = 2014 - marketing['Year_Birth']\n",
    "print('Youngest Customer:', min(marketing['Age']), '\\nOldest Customer:', max(marketing['Age']))\n",
    "marketing['Age_Group'] = ''\n",
    "for idx, row in marketing.iterrows():\n",
    "    if 18 <= row['Age'] < 20:\n",
    "        marketing.loc[idx, 'Age_Group'] = 'Late-Teens'\n",
    "    elif 20 <= row['Age'] < 30:\n",
    "        marketing.loc[idx, 'Age_Group'] = 'Twenties'\n",
    "    elif 30 <= row['Age'] < 40:\n",
    "        marketing.loc[idx, 'Age_Group'] = 'Thirties'\n",
    "    elif 40 <= row['Age'] < 50:\n",
    "        marketing.loc[idx, 'Age_Group'] = 'Forties'\n",
    "    elif 50 <= row['Age'] < 60:\n",
    "        marketing.loc[idx, 'Age_Group'] = 'Fifties'\n",
    "    elif 60 <= row['Age'] < 70:\n",
    "        marketing.loc[idx, 'Age_Group'] = 'Sixties'\n",
    "    elif 70 <= row['Age'] < 80:\n",
    "        marketing.loc[idx, 'Age_Group'] = 'Seventies'\n",
    "marketing = marketing.drop(['Year_Birth', 'Age'], axis=1)\n",
    "marketing = marketing[['ID', 'Age_Group', 'Education', 'Relationship_Status', 'Income', 'Kids', 'Teens', 'Enroll_Date', 'Recency', 'Wine ($)', 'Fruit ($)', 'Meat ($)', 'Fish ($)', 'Sweets ($)', 'Gold_Products ($)', 'Discount_Purchases', 'Web_Purchases', 'Catalog_Purchases', 'Store_Purchases', 'June_Web_Visits', 'Campaign1', 'Campaign2', 'Campaign3', 'Campaign4', 'Campaign5', 'Campaign6', 'Complaint', 'Contact_Cost', 'Offer_Revenue']]\n",
    "print(marketing.groupby('Age_Group')['Age_Group'].count().sort_values(ascending=False))\n"
   ]
  },
  {
   "cell_type": "markdown",
   "metadata": {},
   "source": [
    "Most customers are in their forties"
   ]
  },
  {
   "cell_type": "code",
   "execution_count": 454,
   "metadata": {},
   "outputs": [
    {
     "name": "stdout",
     "output_type": "stream",
     "text": [
      "Relationship_Status\n",
      "Married            864\n",
      "In-Relationship    579\n",
      "Single             486\n",
      "Divorced           231\n",
      "Widow               77\n",
      "Name: Relationship_Status, dtype: int64\n"
     ]
    }
   ],
   "source": [
    "### Simplifying Relationship status ###\n",
    "for idx, row in marketing.iterrows():\n",
    "    if row['Relationship_Status'] == 'YOLO' or row['Relationship_Status'] == 'Alone' or row['Relationship_Status'] == 'Absurd':\n",
    "        marketing.loc[idx, 'Relationship_Status'] = 'Single'\n",
    "    elif row['Relationship_Status'] == 'Together':\n",
    "        marketing.loc[idx, 'Relationship_Status'] = 'In-Relationship'\n",
    "print(marketing.groupby('Relationship_Status')['Relationship_Status'].count().sort_values(ascending=False))\n"
   ]
  },
  {
   "cell_type": "code",
   "execution_count": 455,
   "metadata": {},
   "outputs": [
    {
     "name": "stdout",
     "output_type": "stream",
     "text": [
      "count      2237.000000\n",
      "mean      52239.753759\n",
      "std       25046.050354\n",
      "min        1730.000000\n",
      "25%       35523.000000\n",
      "50%       51390.000000\n",
      "75%       68281.000000\n",
      "max      666666.000000\n",
      "Name: Income, dtype: float64\n",
      "\n",
      "^^^Max Income of 666666.0 is 4.105162041170711 greater than the second highest income of 162397.0\n",
      "\n",
      "This one very wealthy individual is skewing our distribution and descriptive statistics. While it may be possible that one of the countrys wealthiest individuals shops at this store, I chose to exclude he/she from this analysis as they did not respond to any of the 6 campaigns for the offer\n"
     ]
    },
    {
     "data": {
      "image/png": "[encoded data removed]",
      "text/plain": [
       "<Figure size 432x288 with 1 Axes>"
      ]
     },
     "metadata": {
      "needs_background": "light"
     },
     "output_type": "display_data"
    },
    {
     "name": "stdout",
     "output_type": "stream",
     "text": [
      "count      2236.000000\n",
      "mean      51964.965635\n",
      "std       21414.882468\n",
      "min        1730.000000\n",
      "25%       35502.500000\n",
      "50%       51381.500000\n",
      "75%       68275.750000\n",
      "max      162397.000000\n",
      "Name: Income, dtype: float64\n"
     ]
    }
   ],
   "source": [
    "### Imputing missing Income values based on education & age group ###\n",
    "import matplotlib.pyplot as plt\n",
    "\n",
    "marketing = marketing.fillna(0)\n",
    "for idx, row in marketing.iterrows():\n",
    "    if row['Income'] == 0:\n",
    "        education = row['Education']\n",
    "        age_group = row['Age_Group']\n",
    "        df = marketing.loc[(marketing['Education'] == education) & (marketing['Age_Group'] == age_group)]\n",
    "        marketing.loc[idx, 'Income'] = np.mean(df['Income'])\n",
    "print(marketing['Income'].describe())\n",
    "income = sorted(list(marketing['Income'].values))\n",
    "print('\\n^^^Max Income of', max(income), 'is', max(income)/income[-2], 'greater than the second highest income of', income[-2])\n",
    "print('\\nThis one very wealthy individual is skewing our distribution and descriptive statistics. While it may be possible that one of the countrys wealthiest individuals shops at this store, I chose to exclude he/she from this analysis as they did not respond to any of the 6 campaigns for the offer')\n",
    "marketing = marketing.loc[marketing['Income'] < 600000]\n",
    "plt.hist(marketing['Income'], edgecolor='black')\n",
    "plt.title('Income Distribution')\n",
    "plt.xlabel('Income')\n",
    "plt.ylabel('Count')\n",
    "plt.show()\n",
    "print(marketing['Income'].describe())\n",
    "marketing.to_csv('MARKETING.csv', index=False)"
   ]
  },
  {
   "cell_type": "code",
   "execution_count": 458,
   "metadata": {},
   "outputs": [
    {
     "data": {
      "image/png": "[encoded data removed]",
      "text/plain": [
       "<Figure size 432x288 with 1 Axes>"
      ]
     },
     "metadata": {
      "needs_background": "light"
     },
     "output_type": "display_data"
    },
    {
     "name": "stdout",
     "output_type": "stream",
     "text": [
      "count    2236.000000\n",
      "mean      354.773256\n",
      "std       202.181561\n",
      "min         1.000000\n",
      "25%       181.750000\n",
      "50%       357.000000\n",
      "75%       530.000000\n",
      "max       700.000000\n",
      "Name: Days_Enrolled, dtype: float64 \n",
      "\n",
      "Customer acquisition rate was relatively steady over the two years\n"
     ]
    }
   ],
   "source": [
    "### Using Enrollment Date to get idea of how long customers have been enrolled with the store ###\n",
    "from datetime import datetime\n",
    "\n",
    "marketing = pd.read_csv('MARKETING.csv')\n",
    "date1 = datetime.strptime('2014-06-30', \"%Y-%m-%d\").date()\n",
    "marketing['Enroll_Date'] = pd.to_datetime(marketing['Enroll_Date']).dt.date\n",
    "\n",
    "def numOfDays(date1, date2): \n",
    "    return abs(date2-date1).days\n",
    "\n",
    "num_of_days = []\n",
    "for value in list(marketing['Enroll_Date'].values):\n",
    "    days = numOfDays(date1, value)\n",
    "    num_of_days.append(days)\n",
    "    \n",
    "marketing['Days_Enrolled'] = pd.Series([int(d) for d in num_of_days])\n",
    "plt.hist(marketing['Days_Enrolled'], edgecolor='black', color='red')\n",
    "plt.xlabel('Days Enrolled')\n",
    "plt.ylabel('Count')\n",
    "plt.show()\n",
    "print(marketing['Days_Enrolled'].describe(), '\\n\\nCustomer acquisition rate was relatively steady over the two years')"
   ]
  },
  {
   "cell_type": "code",
   "execution_count": 475,
   "metadata": {},
   "outputs": [
    {
     "name": "stdout",
     "output_type": "stream",
     "text": [
      "*Campaign1*\n",
      "Profit/Loss: -886 Acceptance (%): 7.289803220035779\n",
      "*Campaign2*\n",
      "Profit/Loss: -798 Acceptance (%): 7.468694096601074\n",
      "*Campaign3*\n",
      "Profit/Loss: -908 Acceptance (%): 7.2450805008944545\n",
      "*Campaign4*\n",
      "Profit/Loss: -1304 Acceptance (%): 6.440071556350627\n",
      "*Campaign5*\n",
      "Profit/Loss: -3812 Acceptance (%): 1.3416815742397137\n",
      "*Campaign6*\n",
      "Profit/Loss: 2876 Acceptance (%): 14.937388193202148\n",
      "\n",
      "Average Profit/Loss: -805.3333333333334\n",
      "\n",
      "Average Acceptance (%): 7.453786523553966\n"
     ]
    }
   ],
   "source": [
    "### Analyzing the 6 campaigns by Profit/Loss and Acceptance % ###\n",
    "cost_contact = 2\n",
    "revenue = 22\n",
    "campaign_prof_loss = []\n",
    "campaign_acceptance = []\n",
    "campaigns = ['Campaign1', 'Campaign2', 'Campaign3', 'Campaign4', 'Campaign5', 'Campaign6']\n",
    "for campaign in campaigns:\n",
    "    costs = len(marketing[campaign]) * cost_contact\n",
    "    rev = sum(marketing[campaign]) * revenue\n",
    "    profit = rev - costs\n",
    "    acceptance = sum(marketing[campaign])/len(marketing[campaign]) * 100\n",
    "    campaign_prof_loss.append(profit)\n",
    "    campaign_acceptance.append(acceptance)\n",
    "    print('*' + str(campaign) + '*' + '\\nProfit/Loss:', profit, 'Acceptance (%):', acceptance) \n",
    "print('\\nAverage Profit/Loss:', np.mean(campaign_prof_loss))\n",
    "print('\\nAverage Acceptance (%):', np.mean(campaign_acceptance))"
   ]
  },
  {
   "cell_type": "code",
   "execution_count": 478,
   "metadata": {},
   "outputs": [
    {
     "name": "stdout",
     "output_type": "stream",
     "text": [
      "count    2236.000000\n",
      "mean        2.489565\n",
      "std         5.942273\n",
      "min         0.000000\n",
      "25%         0.000000\n",
      "50%         0.000000\n",
      "75%         0.000000\n",
      "max        16.666667\n",
      "Name: Cust_Accept (%), dtype: float64\n",
      "\n",
      "Only 334 customers accepted the offer at least once during the six campaigns\n",
      "\n",
      "The offer was accepted 1000 times out of 13416 attempts for an overall acceptance percentage of 7.45%\n"
     ]
    }
   ],
   "source": [
    "### Adding Acceptance (%) for each customer after the six campaigns ###\n",
    "\n",
    "marketing['Cust_Accept (%)'] = 0\n",
    "for idx, row in marketing.iterrows():\n",
    "    for campaign in campaigns:\n",
    "        acceptance_count = 0\n",
    "        if row[campaign] == 1:\n",
    "            acceptance_count += 1\n",
    "    acceptance_rate = (acceptance_count / 6) * 100\n",
    "    marketing.loc[idx, 'Cust_Accept (%)'] = acceptance_rate\n",
    "print(marketing['Cust_Accept (%)'].describe())\n",
    "num_acc = len(marketing.loc[marketing['Cust_Accept (%)'] > 0])\n",
    "print('\\nOnly', num_acc, 'customers accepted the offer at least once during the six campaigns')\n",
    "\n",
    "sum_accepted = 0\n",
    "total_attempts = 6 * 2236\n",
    "for campaign in campaigns:\n",
    "    sum_accepted += sum(marketing[campaign])\n",
    "overall = sum_accepted / total_attempts * 100\n",
    "print('\\nThe offer was accepted', sum_accepted, 'times out of', total_attempts, 'attempts for an overall acceptance percentage of', str(round(overall, 2)) + '%')\n"
   ]
  }
 ],
 "metadata": {
  "kernelspec": {
   "display_name": "Python 3",
   "language": "python",
   "name": "python3"
  },
  "language_info": {
   "codemirror_mode": {
    "name": "ipython",
    "version": 3
   },
   "file_extension": ".py",
   "mimetype": "text/x-python",
   "name": "python",
   "nbconvert_exporter": "python",
   "pygments_lexer": "ipython3",
   "version": "3.7.4"
  }
 },
 "nbformat": 4,
 "nbformat_minor": 2
}
