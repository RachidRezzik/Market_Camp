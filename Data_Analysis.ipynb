{
 "cells": [
  {
   "cell_type": "code",
   "execution_count": 105,
   "metadata": {},
   "outputs": [],
   "source": [
    "def warn(*args, **kwargs):\n",
    "    pass\n",
    "import warnings\n",
    "warnings.warn = warn\n",
    "\n",
    "import pandas as pd\n",
    "import numpy as np\n",
    "pd.set_option('display.max_rows', 500)\n",
    "pd.set_option('display.max_columns', 500)\n",
    "pd.set_option('display.width', 1000)"
   ]
  },
  {
   "cell_type": "markdown",
   "metadata": {},
   "source": [
    "Note: We are assuming the Dataset Contains customer/marketing data as of 10/30/2014. This is also when the latest campaign ended (Campaign 6).  \n",
    "\n",
    "All of the customers were enrolled during each of the six marketing campaigns. \n",
    "\n",
    "Amount spent on wine, meat, fish, sweets, and gold product is over the last two years. For each of the six campaigns, it cost 2 euros to contact a customer and the company receives 22 euros if the customer accepts the offer."
   ]
  },
  {
   "cell_type": "code",
   "execution_count": 106,
   "metadata": {
    "scrolled": true
   },
   "outputs": [
    {
     "name": "stdout",
     "output_type": "stream",
     "text": [
      "<class 'pandas.core.frame.DataFrame'>\n",
      "RangeIndex: 2240 entries, 0 to 2239\n",
      "Data columns (total 29 columns):\n",
      "ID                     2240 non-null int64\n",
      "Year_Birth             2240 non-null int64\n",
      "Education              2240 non-null object\n",
      "Relationship_Status    2240 non-null object\n",
      "Income                 2216 non-null float64\n",
      "Kids                   2240 non-null int64\n",
      "Teens                  2240 non-null int64\n",
      "Enroll_Date            2240 non-null object\n",
      "Recency                2240 non-null int64\n",
      "Wine ($)               2240 non-null int64\n",
      "Fruit ($)              2240 non-null int64\n",
      "Meat ($)               2240 non-null int64\n",
      "Fish ($)               2240 non-null int64\n",
      "Sweets ($)             2240 non-null int64\n",
      "Gold_Products ($)      2240 non-null int64\n",
      "Discount_Purchases     2240 non-null int64\n",
      "Web_Purchases          2240 non-null int64\n",
      "Catalog_Purchases      2240 non-null int64\n",
      "Store_Purchases        2240 non-null int64\n",
      "June_Web_Visits        2240 non-null int64\n",
      "Complaint              2240 non-null int64\n",
      "Campaign1              2240 non-null int64\n",
      "Campaign2              2240 non-null int64\n",
      "Campaign3              2240 non-null int64\n",
      "Campaign4              2240 non-null int64\n",
      "Campaign5              2240 non-null int64\n",
      "Campaign6              2240 non-null int64\n",
      "Contact_Cost           2240 non-null int64\n",
      "Offer_Revenue          2240 non-null int64\n",
      "dtypes: float64(1), int64(25), object(3)\n",
      "memory usage: 507.6+ KB\n"
     ]
    }
   ],
   "source": [
    "marketing = pd.read_csv('marketing_campaign.csv')\n",
    "marketing.info()"
   ]
  },
  {
   "cell_type": "markdown",
   "metadata": {},
   "source": [
    "Missing income information for several customers, will utilize average income for their respective education and age.\n",
    "\n",
    "Age column will be engineered from birth dates into different group values (Ex: 20 - 29, 30 - 39...)"
   ]
  },
  {
   "cell_type": "code",
   "execution_count": 107,
   "metadata": {},
   "outputs": [
    {
     "name": "stdout",
     "output_type": "stream",
     "text": [
      "1\n"
     ]
    }
   ],
   "source": [
    "## Checking for any mistaken customer duplicate entries ###\n",
    "print(max(marketing.ID.value_counts()))"
   ]
  },
  {
   "cell_type": "code",
   "execution_count": 108,
   "metadata": {},
   "outputs": [
    {
     "data": {
      "text/plain": [
       "239     1893\n",
       "339     1899\n",
       "192     1900\n",
       "1950    1940\n",
       "424     1941\n",
       "        ... \n",
       "747     1995\n",
       "1850    1995\n",
       "696     1995\n",
       "1170    1996\n",
       "46      1996\n",
       "Name: Year_Birth, Length: 2240, dtype: int64"
      ]
     },
     "execution_count": 108,
     "metadata": {},
     "output_type": "execute_result"
    }
   ],
   "source": [
    "### Exploring birth years of customers ###\n",
    "marketing['Year_Birth'].sort_values(ascending=True)"
   ]
  },
  {
   "cell_type": "markdown",
   "metadata": {},
   "source": [
    "The three oldest customers above have most likely passed away, I will exclude them in this study "
   ]
  },
  {
   "cell_type": "code",
   "execution_count": 109,
   "metadata": {},
   "outputs": [],
   "source": [
    "marketing = marketing.drop(index=[239, 339, 192], axis=0)"
   ]
  },
  {
   "cell_type": "code",
   "execution_count": 110,
   "metadata": {},
   "outputs": [
    {
     "name": "stdout",
     "output_type": "stream",
     "text": [
      "Youngest Customer: 18 \n",
      "Oldest Customer: 74\n",
      "Age_Group\n",
      "Forties       676\n",
      "Thirties      557\n",
      "Fifties       467\n",
      "Sixties       300\n",
      "Twenties      214\n",
      "Seventies      16\n",
      "Late-Teens      7\n",
      "Name: Age_Group, dtype: int64\n"
     ]
    }
   ],
   "source": [
    "### Creating Age Groups (Do not know which month customers were born, we'll assume they were born after June 30th) ###\n",
    "marketing['Age'] = 2014 - marketing['Year_Birth']\n",
    "print('Youngest Customer:', min(marketing['Age']), '\\nOldest Customer:', max(marketing['Age']))\n",
    "marketing['Age_Group'] = ''\n",
    "for idx, row in marketing.iterrows():\n",
    "    if 18 <= row['Age'] < 20:\n",
    "        marketing.loc[idx, 'Age_Group'] = 'Late-Teens'\n",
    "    elif 20 <= row['Age'] < 30:\n",
    "        marketing.loc[idx, 'Age_Group'] = 'Twenties'\n",
    "    elif 30 <= row['Age'] < 40:\n",
    "        marketing.loc[idx, 'Age_Group'] = 'Thirties'\n",
    "    elif 40 <= row['Age'] < 50:\n",
    "        marketing.loc[idx, 'Age_Group'] = 'Forties'\n",
    "    elif 50 <= row['Age'] < 60:\n",
    "        marketing.loc[idx, 'Age_Group'] = 'Fifties'\n",
    "    elif 60 <= row['Age'] < 70:\n",
    "        marketing.loc[idx, 'Age_Group'] = 'Sixties'\n",
    "    elif 70 <= row['Age'] < 80:\n",
    "        marketing.loc[idx, 'Age_Group'] = 'Seventies'\n",
    "marketing = marketing.drop(['Year_Birth', 'Age'], axis=1)\n",
    "marketing = marketing[['ID', 'Age_Group', 'Education', 'Relationship_Status', 'Income', 'Kids', 'Teens', 'Enroll_Date', 'Recency', 'Wine ($)', 'Fruit ($)', 'Meat ($)', 'Fish ($)', 'Sweets ($)', 'Gold_Products ($)', 'Discount_Purchases', 'Web_Purchases', 'Catalog_Purchases', 'Store_Purchases', 'June_Web_Visits', 'Campaign1', 'Campaign2', 'Campaign3', 'Campaign4', 'Campaign5', 'Campaign6', 'Complaint', 'Contact_Cost', 'Offer_Revenue']]\n",
    "print(marketing.groupby('Age_Group')['Age_Group'].count().sort_values(ascending=False))\n"
   ]
  },
  {
   "cell_type": "markdown",
   "metadata": {},
   "source": [
    "Most customers are in their forties"
   ]
  },
  {
   "cell_type": "code",
   "execution_count": 111,
   "metadata": {},
   "outputs": [
    {
     "name": "stdout",
     "output_type": "stream",
     "text": [
      "Relationship_Status\n",
      "Married            864\n",
      "In-Relationship    579\n",
      "Single             486\n",
      "Divorced           231\n",
      "Widow               77\n",
      "Name: Relationship_Status, dtype: int64\n"
     ]
    }
   ],
   "source": [
    "### Simplifying Relationship status ###\n",
    "for idx, row in marketing.iterrows():\n",
    "    if row['Relationship_Status'] == 'YOLO' or row['Relationship_Status'] == 'Alone' or row['Relationship_Status'] == 'Absurd':\n",
    "        marketing.loc[idx, 'Relationship_Status'] = 'Single'\n",
    "    elif row['Relationship_Status'] == 'Together':\n",
    "        marketing.loc[idx, 'Relationship_Status'] = 'In-Relationship'\n",
    "print(marketing.groupby('Relationship_Status')['Relationship_Status'].count().sort_values(ascending=False))\n"
   ]
  },
  {
   "cell_type": "code",
   "execution_count": 112,
   "metadata": {},
   "outputs": [
    {
     "name": "stdout",
     "output_type": "stream",
     "text": [
      "count      2237.000000\n",
      "mean      52239.753759\n",
      "std       25046.050354\n",
      "min        1730.000000\n",
      "25%       35523.000000\n",
      "50%       51390.000000\n",
      "75%       68281.000000\n",
      "max      666666.000000\n",
      "Name: Income, dtype: float64\n",
      "\n",
      "^^^Max Income of 666666.0 is 4.105162041170711 greater than the second highest income of 162397.0\n",
      "\n",
      "This one very wealthy individual is skewing our distribution and descriptive statistics. While it may be possible that one of the countrys wealthiest individuals shops at this store, I chose to exclude he/she from this analysis as they did not respond to any of the 6 campaigns for the offer\n"
     ]
    },
    {
     "data": {
      "image/png": "[encoded data removed]",
      "text/plain": [
       "<Figure size 432x288 with 1 Axes>"
      ]
     },
     "metadata": {
      "needs_background": "light"
     },
     "output_type": "display_data"
    },
    {
     "name": "stdout",
     "output_type": "stream",
     "text": [
      "count      2236.000000\n",
      "mean      51964.965635\n",
      "std       21414.882468\n",
      "min        1730.000000\n",
      "25%       35502.500000\n",
      "50%       51381.500000\n",
      "75%       68275.750000\n",
      "max      162397.000000\n",
      "Name: Income, dtype: float64\n"
     ]
    }
   ],
   "source": [
    "### Imputing missing Income values based on education & age group ###\n",
    "import matplotlib.pyplot as plt\n",
    "\n",
    "marketing = marketing.fillna(0)\n",
    "for idx, row in marketing.iterrows():\n",
    "    if row['Income'] == 0:\n",
    "        education = row['Education']\n",
    "        age_group = row['Age_Group']\n",
    "        df = marketing.loc[(marketing['Education'] == education) & (marketing['Age_Group'] == age_group)]\n",
    "        marketing.loc[idx, 'Income'] = np.mean(df['Income'])\n",
    "print(marketing['Income'].describe())\n",
    "income = sorted(list(marketing['Income'].values))\n",
    "print('\\n^^^Max Income of', max(income), 'is', max(income)/income[-2], 'greater than the second highest income of', income[-2])\n",
    "print('\\nThis one very wealthy individual is skewing our distribution and descriptive statistics. While it may be possible that one of the countrys wealthiest individuals shops at this store, I chose to exclude he/she from this analysis as they did not respond to any of the 6 campaigns for the offer')\n",
    "marketing = marketing.loc[~(marketing['Income'] == 666666)]\n",
    "plt.hist(marketing['Income'], edgecolor='black')\n",
    "plt.title('Income Distribution')\n",
    "plt.xlabel('Income')\n",
    "plt.ylabel('Count')\n",
    "plt.show()\n",
    "print(marketing['Income'].describe())"
   ]
  },
  {
   "cell_type": "code",
   "execution_count": 113,
   "metadata": {},
   "outputs": [
    {
     "data": {
      "image/png": "[encoded data removed]",
      "text/plain": [
       "<Figure size 432x288 with 1 Axes>"
      ]
     },
     "metadata": {
      "needs_background": "light"
     },
     "output_type": "display_data"
    },
    {
     "name": "stdout",
     "output_type": "stream",
     "text": [
      "count    2232.000000\n",
      "mean      354.651882\n",
      "std       202.214846\n",
      "min         1.000000\n",
      "25%       181.750000\n",
      "50%       356.500000\n",
      "75%       530.000000\n",
      "max       700.000000\n",
      "Name: Days_Enrolled, dtype: float64 \n",
      "\n",
      "Customer acquisition rate has been relatively steady.\n"
     ]
    }
   ],
   "source": [
    "### Using Enrollment Date to get idea of how long customers have been enrolled with the store ###\n",
    "from datetime import datetime\n",
    "\n",
    "date1 = datetime.strptime('2014-06-30', \"%Y-%m-%d\").date()\n",
    "marketing['Enroll_Date'] = pd.to_datetime(marketing['Enroll_Date']).dt.date\n",
    "\n",
    "def numOfDays(date1, date2): \n",
    "    return abs(date2-date1).days\n",
    "\n",
    "num_of_days = []\n",
    "for value in list(marketing['Enroll_Date'].values):\n",
    "    days = numOfDays(date1, value)\n",
    "    num_of_days.append(days)\n",
    "    \n",
    "marketing['Days_Enrolled'] = pd.Series([int(d) for d in num_of_days])\n",
    "plt.hist(marketing['Days_Enrolled'], edgecolor='black', color='red')\n",
    "plt.xlabel('Days Enrolled')\n",
    "plt.ylabel('Count')\n",
    "plt.show()\n",
    "print(marketing['Days_Enrolled'].describe(), '\\n\\nCustomer acquisition rate has been relatively steady.')"
   ]
  },
  {
   "cell_type": "code",
   "execution_count": 114,
   "metadata": {},
   "outputs": [],
   "source": [
    "### Engineering some more features: Average Purchase Frequency and Average Spend on a Purchase ###\n",
    "marketing['Total Spent ($)'] = marketing['Wine ($)'] + marketing['Fruit ($)'] + marketing['Meat ($)'] + marketing['Fish ($)'] + marketing['Sweets ($)'] + marketing['Gold_Products ($)']\n",
    "marketing['Number_Purchases'] = marketing['Discount_Purchases'] + marketing['Web_Purchases'] + marketing['Catalog_Purchases'] + marketing['Store_Purchases']\n",
    "marketing['Avg_Purch_Freq'] = (marketing['Days_Enrolled'] / marketing['Number_Purchases']).replace(np.inf, np.nan)\n",
    "marketing['Avg_Spend ($)'] = (marketing['Total Spent ($)'] / marketing['Number_Purchases']).replace(np.inf, np.nan)\n",
    "# marketing = marketing.drop(['Total Spent ($)', 'Number_Purchases'], axis=1)"
   ]
  },
  {
   "cell_type": "markdown",
   "metadata": {},
   "source": [
    "Upon examining the average spend data, the max average spend was 1,679 on one single purchase for a customer who had enrolled in 2012. The next highest average spend is 187, so I'm choosing to beleive this customer will not return and we can exclude them from analysis. Customers who have never made a single purchase were also excluded. In total this was just 5 customers that were excluded. "
   ]
  },
  {
   "cell_type": "code",
   "execution_count": 115,
   "metadata": {},
   "outputs": [
    {
     "data": {
      "image/png": "[encoded data removed]",
      "text/plain": [
       "<Figure size 432x288 with 1 Axes>"
      ]
     },
     "metadata": {
      "needs_background": "light"
     },
     "output_type": "display_data"
    },
    {
     "name": "stdout",
     "output_type": "stream",
     "text": [
      "count    2227.000000\n",
      "mean       33.847326\n",
      "std        32.778878\n",
      "min         0.052632\n",
      "25%        12.404545\n",
      "50%        23.521739\n",
      "75%        43.033333\n",
      "max       354.000000\n",
      "Name: Avg_Purch_Freq, dtype: float64\n"
     ]
    },
    {
     "data": {
      "image/png": "[encoded data removed]",
      "text/plain": [
       "<Figure size 432x288 with 1 Axes>"
      ]
     },
     "metadata": {
      "needs_background": "light"
     },
     "output_type": "display_data"
    },
    {
     "name": "stdout",
     "output_type": "stream",
     "text": [
      "count    2231.000000\n",
      "mean       32.587883\n",
      "std        28.511521\n",
      "min         0.533333\n",
      "25%         9.714286\n",
      "50%        23.384615\n",
      "75%        45.281773\n",
      "max       186.500000\n",
      "Name: Avg_Spend ($), dtype: float64\n"
     ]
    }
   ],
   "source": [
    "marketing = marketing.loc[~((marketing['Avg_Spend ($)'] == 1679) | (marketing['Avg_Spend ($)'].isnull()))]\n",
    "plt.hist(marketing['Avg_Purch_Freq'], bins=10, edgecolor='black', color='green')\n",
    "plt.ylabel('Count')\n",
    "plt.xlabel('Average Purchase Frequency (Days)')\n",
    "plt.show()\n",
    "print(marketing['Avg_Purch_Freq'].describe())\n",
    "plt.hist(marketing['Avg_Spend ($)'], edgecolor='black', color='purple')\n",
    "plt.ylabel('Count')\n",
    "plt.xlabel('Average Spend Per Purchase ($)')\n",
    "plt.show()\n",
    "print(marketing['Avg_Spend ($)'].describe())"
   ]
  },
  {
   "cell_type": "code",
   "execution_count": 116,
   "metadata": {},
   "outputs": [
    {
     "name": "stdout",
     "output_type": "stream",
     "text": [
      "*Campaign1*\n",
      "Profit/Loss: -876 Acceptance (%): 7.306140744060959\n",
      "*Campaign2*\n",
      "Profit/Loss: -810 Acceptance (%): 7.440609592111161\n",
      "*Campaign3*\n",
      "Profit/Loss: -898 Acceptance (%): 7.261317794710892\n",
      "*Campaign4*\n",
      "Profit/Loss: -1294 Acceptance (%): 6.454504706409682\n",
      "*Campaign5*\n",
      "Profit/Loss: -3802 Acceptance (%): 1.344688480502017\n",
      "*Campaign6*\n",
      "Profit/Loss: 2886 Acceptance (%): 14.970865082922458\n"
     ]
    }
   ],
   "source": [
    "### Analyzing the 6 campaigns by Profit/Loss and Acceptance % ###\n",
    "cost_contact = 2\n",
    "revenue = 22\n",
    "campaigns = ['Campaign1', 'Campaign2', 'Campaign3', 'Campaign4', 'Campaign5', 'Campaign6']\n",
    "for campaign in campaigns:\n",
    "    costs = len(marketing[campaign]) * cost_contact\n",
    "    rev = sum(marketing[campaign]) * revenue\n",
    "    profit = rev - costs\n",
    "    acceptance = sum(marketing[campaign])/len(marketing[campaign]) * 100\n",
    "    print('*' + str(campaign) + '*' + '\\nProfit/Loss:', profit, 'Acceptance (%):', acceptance) "
   ]
  },
  {
   "cell_type": "code",
   "execution_count": 117,
   "metadata": {},
   "outputs": [
    {
     "name": "stdout",
     "output_type": "stream",
     "text": [
      "count    2231.000000\n",
      "mean        7.463021\n",
      "std        14.863884\n",
      "min         0.000000\n",
      "25%         0.000000\n",
      "50%         0.000000\n",
      "75%        16.666667\n",
      "max        83.333333\n",
      "Name: Cust_Accept (%), dtype: float64\n",
      "\n",
      "Value Counts (%)\n",
      " 0.000000     1624\n",
      "16.666667     368\n",
      "33.333333     142\n",
      "50.000000      51\n",
      "66.666667      36\n",
      "83.333333      10\n",
      "Name: Cust_Accept (%), dtype: int64\n",
      "\n",
      " 607 customers accepted the offer at least once during the six campaigns\n",
      "\n",
      "The offer was accepted 999 times out of 13386 attempts for an overall acceptance percentage of 7.46% and an overall loss of -4794\n"
     ]
    }
   ],
   "source": [
    "### Adding Acceptance (%) for each customer after the six campaigns ###\n",
    "marketing['Cust_Accept (%)'] = 0\n",
    "marketing['Accept_One'] = 0\n",
    "for idx, row in marketing.iterrows():\n",
    "    acceptance_count = 0\n",
    "    for campaign in campaigns:\n",
    "        if row[campaign] == 1:\n",
    "            acceptance_count += 1\n",
    "    if acceptance_count > 0:\n",
    "        marketing.loc[idx, 'Accept_One'] = 1\n",
    "    acceptance_rate = (acceptance_count / 6) * 100\n",
    "    marketing.loc[idx, 'Cust_Accept (%)'] = acceptance_rate\n",
    "print(marketing['Cust_Accept (%)'].describe())\n",
    "num_acc = sum(marketing['Accept_One'])\n",
    "print('\\nValue Counts (%)\\n', marketing['Cust_Accept (%)'].value_counts())\n",
    "print('\\n', num_acc, 'customers accepted the offer at least once during the six campaigns')\n",
    "\n",
    "sum_accepted = 0\n",
    "total_attempts = 6 * len(marketing)\n",
    "for campaign in campaigns:\n",
    "    sum_accepted += sum(marketing[campaign])\n",
    "overall = sum_accepted / total_attempts * 100\n",
    "print('\\nThe offer was accepted', sum_accepted, 'times out of', total_attempts, 'attempts for an overall acceptance percentage of', str(round(overall, 2)) + '% and an overall loss of', (sum_accepted * 22) - (total_attempts * 2))"
   ]
  },
  {
   "cell_type": "code",
   "execution_count": 118,
   "metadata": {},
   "outputs": [
    {
     "name": "stdout",
     "output_type": "stream",
     "text": [
      "  Age_Group  Acceptance %  Total Customers\n",
      "    Fifties     29.336188              467\n",
      "    Sixties     28.762542              299\n",
      "    Forties     26.557864              674\n",
      "   Thirties     24.909747              554\n",
      "   Twenties     25.700935              214\n",
      "  Seventies     56.250000               16\n",
      " Late-Teens     42.857143                7\n"
     ]
    },
    {
     "data": {
      "image/png": "[encoded data removed]",
      "text/plain": [
       "<Figure size 432x288 with 1 Axes>"
      ]
     },
     "metadata": {
      "needs_background": "light"
     },
     "output_type": "display_data"
    }
   ],
   "source": [
    "import seaborn as sns\n",
    "import collections\n",
    "\n",
    "ax = sns.countplot('Accept_One', hue='Age_Group', data=marketing)\n",
    "plt.ylabel('Number of Customers')\n",
    "plt.xlabel('Acceptance')\n",
    "\n",
    "dict_percent = collections.defaultdict(list)\n",
    "for category in list(marketing['Age_Group'].unique()):\n",
    "    dict_percent['Age_Group'].append(category)\n",
    "    total = len(marketing.loc[marketing['Age_Group'] == category])\n",
    "    accept = len(marketing.loc[(marketing['Age_Group'] == category) & (marketing['Accept_One'] == 1)])\n",
    "    percent = (accept / total) * 100\n",
    "    dict_percent['Acceptance %'].append(percent)\n",
    "    dict_percent['Total Customers'].append(total)\n",
    "\n",
    "df_percents = pd.DataFrame(dict_percent)\n",
    "print(df_percents.to_string(index=False))\n",
    "\n"
   ]
  },
  {
   "cell_type": "code",
   "execution_count": 119,
   "metadata": {},
   "outputs": [
    {
     "name": "stdout",
     "output_type": "stream",
     "text": [
      "  Education  Acceptance %  Total Customers\n",
      " Graduation     26.536064             1123\n",
      "        PhD     32.438017              484\n",
      "     Master     27.027027              370\n",
      "      Basic     12.962963               54\n",
      "   2n Cycle     22.500000              200\n"
     ]
    },
    {
     "data": {
      "image/png": "[encoded data removed]",
      "text/plain": [
       "<Figure size 432x288 with 1 Axes>"
      ]
     },
     "metadata": {
      "needs_background": "light"
     },
     "output_type": "display_data"
    }
   ],
   "source": [
    "ax = sns.countplot('Accept_One', hue='Education', data=marketing)\n",
    "plt.ylabel('Number of Customers')\n",
    "plt.xlabel('Acceptance')\n",
    "\n",
    "dict_percent = collections.defaultdict(list)\n",
    "for category in list(marketing['Education'].unique()):\n",
    "    dict_percent['Education'].append(category)\n",
    "    total = len(marketing.loc[marketing['Education'] == category])\n",
    "    accept = len(marketing.loc[(marketing['Education'] == category) & (marketing['Accept_One'] == 1)])\n",
    "    percent = (accept / total) * 100\n",
    "    dict_percent['Acceptance %'].append(percent)\n",
    "    dict_percent['Total Customers'].append(total)\n",
    "\n",
    "df_percents = pd.DataFrame(dict_percent)\n",
    "print(df_percents.to_string(index=False))\n"
   ]
  },
  {
   "cell_type": "code",
   "execution_count": 120,
   "metadata": {},
   "outputs": [
    {
     "name": "stdout",
     "output_type": "stream",
     "text": [
      "Relationship_Status  Acceptance %  Total Customers\n",
      "             Single     31.134021              485\n",
      "    In-Relationship     24.783362              577\n",
      "            Married     25.144844              863\n",
      "           Divorced     30.131004              229\n",
      "              Widow     35.064935               77\n"
     ]
    },
    {
     "data": {
      "text/plain": [
       "'Offer seemed to be more successful with single individuals'"
      ]
     },
     "execution_count": 120,
     "metadata": {},
     "output_type": "execute_result"
    },
    {
     "data": {
      "image/png": "[encoded data removed]",
      "text/plain": [
       "<Figure size 432x288 with 1 Axes>"
      ]
     },
     "metadata": {
      "needs_background": "light"
     },
     "output_type": "display_data"
    }
   ],
   "source": [
    "ax = sns.countplot('Accept_One', hue='Relationship_Status', data=marketing)\n",
    "plt.ylabel('Number of Customers')\n",
    "plt.xlabel('Acceptance')\n",
    "\n",
    "dict_percent = collections.defaultdict(list)\n",
    "for category in list(marketing['Relationship_Status'].unique()):\n",
    "    dict_percent['Relationship_Status'].append(category)\n",
    "    total = len(marketing.loc[marketing['Relationship_Status'] == category])\n",
    "    accept = len(marketing.loc[(marketing['Relationship_Status'] == category) & (marketing['Accept_One'] == 1)])\n",
    "    percent = (accept / total) * 100\n",
    "    dict_percent['Acceptance %'].append(percent)\n",
    "    dict_percent['Total Customers'].append(total)\n",
    "\n",
    "df_percents = pd.DataFrame(dict_percent)\n",
    "print(df_percents.to_string(index=False))\n",
    "'Offer seemed to be more successful with single individuals'"
   ]
  },
  {
   "cell_type": "code",
   "execution_count": 134,
   "metadata": {},
   "outputs": [
    {
     "name": "stdout",
     "output_type": "stream",
     "text": [
      "count    2231.000000\n",
      "mean        0.952488\n",
      "std         0.751967\n",
      "min         0.000000\n",
      "25%         0.000000\n",
      "50%         1.000000\n",
      "75%         1.000000\n",
      "max         3.000000\n",
      "Name: Children, dtype: float64\n"
     ]
    },
    {
     "data": {
      "image/png": "[encoded data removed]",
      "text/plain": [
       "<Figure size 432x288 with 1 Axes>"
      ]
     },
     "metadata": {
      "needs_background": "light"
     },
     "output_type": "display_data"
    },
    {
     "name": "stdout",
     "output_type": "stream",
     "text": [
      " Children  Acceptance %  Total Customers\n",
      "        0     44.707741              633\n",
      "        2     19.239905              421\n",
      "        1     20.996441             1124\n",
      "        3     13.207547               53\n"
     ]
    },
    {
     "data": {
      "image/png": "[encoded data removed]",
      "text/plain": [
       "<Figure size 432x288 with 1 Axes>"
      ]
     },
     "metadata": {
      "needs_background": "light"
     },
     "output_type": "display_data"
    },
    {
     "data": {
      "text/plain": [
       "'The offer was very popular with those that do not have any children. This compliments what we saw earlier in single adults having a better acceptance to the offer'"
      ]
     },
     "execution_count": 134,
     "metadata": {},
     "output_type": "execute_result"
    }
   ],
   "source": [
    "### Simplifying Kids and Teens columns into one 'Children' column ###\n",
    "\n",
    "marketing['Children'] = 0\n",
    "for idx, row in marketing.iterrows():\n",
    "    marketing.loc[idx, 'Children'] = row['Kids'] + row['Teens']\n",
    "print(marketing['Children'].describe())\n",
    "\n",
    "plt.hist(marketing['Children'], edgecolor='black', color='orange')\n",
    "plt.ylabel('Count')\n",
    "plt.xlabel('Children')\n",
    "plt.show()\n",
    "\n",
    "dict_percent = collections.defaultdict(list)\n",
    "for category in list(marketing['Children'].unique()):\n",
    "    dict_percent['Children'].append(category)\n",
    "    total = len(marketing.loc[marketing['Children'] == category])\n",
    "    accept = len(marketing.loc[(marketing['Children'] == category) & (marketing['Accept_One'] == 1)])\n",
    "    percent = (accept / total) * 100\n",
    "    dict_percent['Acceptance %'].append(percent)\n",
    "    dict_percent['Total Customers'].append(total)\n",
    "df_percents = pd.DataFrame(dict_percent)\n",
    "print(df_percents.to_string(index=False))\n",
    "\n",
    "ax = sns.countplot('Accept_One', hue='Children', data=marketing)\n",
    "plt.ylabel('Number of Customers')\n",
    "plt.xlabel('Acceptance')\n",
    "plt.show()\n",
    "\n",
    "'The offer was very popular with those that do not have any children. This compliments what we saw earlier in single adults having a better acceptance to the offer'\n"
   ]
  },
  {
   "cell_type": "code",
   "execution_count": 143,
   "metadata": {},
   "outputs": [
    {
     "name": "stdout",
     "output_type": "stream",
     "text": [
      "       Product  Total Customer Spend ($)  Product %\n",
      "          Wine                    679990  50.247472\n",
      "         Fruit                     58747   4.341076\n",
      "          Meat                    371763  27.471214\n",
      "          Fish                     83916   6.200925\n",
      "        Sweets                     60546   4.474012\n",
      " Gold_Products                     98320   7.265300\n"
     ]
    },
    {
     "data": {
      "image/png": "[encoded data removed]",
      "text/plain": [
       "<Figure size 432x288 with 1 Axes>"
      ]
     },
     "metadata": {
      "needs_background": "light"
     },
     "output_type": "display_data"
    },
    {
     "name": "stdout",
     "output_type": "stream",
     "text": [
      "Favorite_Product  Acceptance %  Total Customers\n",
      "            Wine     29.208250             1503\n",
      "            Meat     24.888889              450\n",
      "   Gold_Products     25.257732              194\n",
      "            Fish      3.571429               56\n",
      "          Sweets     23.529412               17\n",
      "           Fruit      9.090909               11\n"
     ]
    },
    {
     "data": {
      "text/plain": [
       "'The acceptance was very poor among customers who spend most of their money on fish products'"
      ]
     },
     "execution_count": 143,
     "metadata": {},
     "output_type": "execute_result"
    }
   ],
   "source": [
    "### Analyzing total customer spend by product ###\n",
    "dict_products = collections.defaultdict(list)\n",
    "total_cust_spend = sum(marketing['Wine ($)']) + sum(marketing['Fruit ($)']) + sum(marketing['Meat ($)']) + sum(marketing['Fish ($)']) + sum(marketing['Sweets ($)']) + sum(marketing['Gold_Products ($)'])\n",
    "for product in ['Wine ($)', 'Fruit ($)', 'Meat ($)', 'Fish ($)', 'Sweets ($)', 'Gold_Products ($)']:\n",
    "    dict_products['Product'].append(product[:-4])\n",
    "    prod_spend = sum(marketing[product])\n",
    "    dict_products['Total Customer Spend ($)'].append(prod_spend)\n",
    "    percent_spend = (prod_spend / total_cust_spend) * 100\n",
    "    dict_products['Product %'].append(percent_spend)\n",
    "df_products = pd.DataFrame(dict_products)\n",
    "print(df_products.to_string(index=False))\n",
    "\n",
    "### Classifying Customers Based on what product they spend the most money on ###\n",
    "marketing['Favorite_Product'] = ''\n",
    "for idx, row in marketing.iterrows():\n",
    "    cust_spend = []\n",
    "    for product in ['Wine ($)', 'Fruit ($)', 'Meat ($)', 'Fish ($)', 'Sweets ($)', 'Gold_Products ($)']:\n",
    "        cust_spend.append(row[product])\n",
    "    most_spend = max(cust_spend)\n",
    "    for product_name in ['Wine ($)', 'Fruit ($)', 'Meat ($)', 'Fish ($)', 'Sweets ($)', 'Gold_Products ($)']: \n",
    "        if row[product_name] == most_spend:\n",
    "            marketing.loc[idx, 'Favorite_Product'] = product_name[:-4]\n",
    "\n",
    "ax = sns.countplot('Accept_One', hue='Favorite_Product', data=marketing)\n",
    "plt.ylabel('Number of Customers')\n",
    "plt.xlabel('Acceptance')\n",
    "plt.show()\n",
    "            \n",
    "dict_percent = collections.defaultdict(list)\n",
    "for category in list(marketing['Favorite_Product'].unique()):\n",
    "    dict_percent['Favorite_Product'].append(category)\n",
    "    total = len(marketing.loc[marketing['Favorite_Product'] == category])\n",
    "    accept = len(marketing.loc[(marketing['Favorite_Product'] == category) & (marketing['Accept_One'] == 1)])\n",
    "    percent = (accept / total) * 100\n",
    "    dict_percent['Acceptance %'].append(percent)\n",
    "    dict_percent['Total Customers'].append(total)\n",
    "df_percents = pd.DataFrame(dict_percent)\n",
    "print(df_percents.to_string(index=False))\n",
    "'The acceptance was very poor among customers who spend most of their money on fish products'"
   ]
  },
  {
   "cell_type": "code",
   "execution_count": 153,
   "metadata": {},
   "outputs": [
    {
     "name": "stdout",
     "output_type": "stream",
     "text": [
      "Purchase Channel  Total # of Purchases  Channel %\n",
      "        Discount                  5201  15.640224\n",
      "             Web                  9140  27.485415\n",
      "         Catalog                  5955  17.907620\n",
      "           Store                 12958  38.966741\n"
     ]
    },
    {
     "data": {
      "image/png": "[encoded data removed]",
      "text/plain": [
       "<Figure size 432x288 with 1 Axes>"
      ]
     },
     "metadata": {
      "needs_background": "light"
     },
     "output_type": "display_data"
    },
    {
     "name": "stdout",
     "output_type": "stream",
     "text": [
      "Favorite_Channel  Acceptance %  Total Customers\n",
      "         Catalog     53.146853              143\n",
      "           Store     22.646007             1678\n",
      "             Web     39.730640              297\n",
      "        Discount     29.203540              113\n"
     ]
    },
    {
     "data": {
      "text/plain": [
       "'Here we see that the offer is very succesful among those who make most of their purchases via catalog. More than half of them accepted the offer which is very encouraging. The offer also performed pretty well with those who make most of their purchases on the web.'"
      ]
     },
     "execution_count": 153,
     "metadata": {},
     "output_type": "execute_result"
    }
   ],
   "source": [
    "### Analyzing total purchase count by purchase channel ###\n",
    "dict_channels = collections.defaultdict(list)\n",
    "total_num_purchases = sum(marketing['Discount_Purchases']) + sum(marketing['Web_Purchases']) + sum(marketing['Catalog_Purchases']) + sum(marketing['Store_Purchases'])\n",
    "for channel in ['Discount_Purchases', 'Web_Purchases', 'Catalog_Purchases', 'Store_Purchases']:\n",
    "    dict_channels['Purchase Channel'].append(channel[:-10])\n",
    "    num_purchases = sum(marketing[channel])\n",
    "    dict_channels['Total # of Purchases'].append(num_purchases)\n",
    "    percent_purchases = (num_purchases / total_num_purchases) * 100\n",
    "    dict_channels['Channel %'].append(percent_purchases)\n",
    "df_products = pd.DataFrame(dict_channels)\n",
    "print(df_products.to_string(index=False))\n",
    "\n",
    "## Classifying Customers Based on what purchase channel they utilized most ###\n",
    "marketing['Favorite_Channel'] = ''\n",
    "for idx, row in marketing.iterrows():\n",
    "    cust_purchase_counts = []\n",
    "    for channel in ['Discount_Purchases', 'Web_Purchases', 'Catalog_Purchases', 'Store_Purchases']:\n",
    "        cust_purchase_counts.append(row[channel])\n",
    "    most_purchases = max(cust_purchase_counts)\n",
    "    for channel_name in ['Discount_Purchases', 'Web_Purchases', 'Catalog_Purchases', 'Store_Purchases']: \n",
    "        if row[channel_name] == most_purchases:\n",
    "            marketing.loc[idx, 'Favorite_Channel'] = channel_name[:-10]\n",
    "\n",
    "ax = sns.countplot('Accept_One', hue='Favorite_Channel', data=marketing)\n",
    "plt.ylabel('Number of Customers')\n",
    "plt.xlabel('Acceptance')\n",
    "plt.show()\n",
    "            \n",
    "dict_percent = collections.defaultdict(list)\n",
    "for category in list(marketing['Favorite_Channel'].unique()):\n",
    "    dict_percent['Favorite_Channel'].append(category)\n",
    "    total = len(marketing.loc[marketing['Favorite_Channel'] == category])\n",
    "    accept = len(marketing.loc[(marketing['Favorite_Channel'] == category) & (marketing['Accept_One'] == 1)])\n",
    "    percent = (accept / total) * 100\n",
    "    dict_percent['Acceptance %'].append(percent)\n",
    "    dict_percent['Total Customers'].append(total)\n",
    "df_percents = pd.DataFrame(dict_percent)\n",
    "print(df_percents.to_string(index=False))\n",
    "'Here we see that the offer is very succesful among those who make most of their purchases via catalog. More than half of them accepted the offer which is very encouraging. The offer also performed pretty well with those who make most of their purchases on the web.'"
   ]
  }
 ],
 "metadata": {
  "kernelspec": {
   "display_name": "Python 3",
   "language": "python",
   "name": "python3"
  },
  "language_info": {
   "codemirror_mode": {
    "name": "ipython",
    "version": 3
   },
   "file_extension": ".py",
   "mimetype": "text/x-python",
   "name": "python",
   "nbconvert_exporter": "python",
   "pygments_lexer": "ipython3",
   "version": "3.7.4"
  }
 },
 "nbformat": 4,
 "nbformat_minor": 2
}
