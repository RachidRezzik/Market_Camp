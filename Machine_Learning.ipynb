{
 "cells": [
  {
   "cell_type": "code",
   "execution_count": 83,
   "metadata": {},
   "outputs": [],
   "source": [
    "import pandas as pd\n",
    "import numpy as np\n",
    "from sklearn.model_selection import train_test_split\n",
    "import seaborn as sns\n",
    "import matplotlib.pyplot as plt\n",
    "\n",
    "\n",
    "def warn(*args, **kwargs):\n",
    "    pass\n",
    "import warnings\n",
    "warnings.warn = warn"
   ]
  },
  {
   "cell_type": "code",
   "execution_count": 84,
   "metadata": {},
   "outputs": [
    {
     "data": {
      "text/plain": [
       "Index(['Age', 'Education', 'Relationship_Status', 'Income', 'Children',\n",
       "       'Wine ($)', 'Fruit ($)', 'Meat ($)', 'Fish ($)', 'Sweets ($)',\n",
       "       'Gold_Products ($)', 'Discount_Purchases', 'Web_Purchases',\n",
       "       'Catalog_Purchases', 'Store_Purchases', 'Days_Enrolled',\n",
       "       'Avg_Purch_Freq', 'Avg_Spend ($)', 'Cust_Accept (%)'],\n",
       "      dtype='object')"
      ]
     },
     "execution_count": 84,
     "metadata": {},
     "output_type": "execute_result"
    }
   ],
   "source": [
    "marketing = pd.read_csv('Cust_Records.csv')\n",
    "marketing.columns"
   ]
  },
  {
   "cell_type": "code",
   "execution_count": 85,
   "metadata": {},
   "outputs": [
    {
     "name": "stdout",
     "output_type": "stream",
     "text": [
      "<class 'pandas.core.frame.DataFrame'>\n",
      "RangeIndex: 2227 entries, 0 to 2226\n",
      "Data columns (total 19 columns):\n",
      "Age                    2227 non-null int64\n",
      "Education              2227 non-null object\n",
      "Relationship_Status    2227 non-null object\n",
      "Income                 2227 non-null float64\n",
      "Children               2227 non-null int64\n",
      "Wine ($)               2227 non-null int64\n",
      "Fruit ($)              2227 non-null int64\n",
      "Meat ($)               2227 non-null int64\n",
      "Fish ($)               2227 non-null int64\n",
      "Sweets ($)             2227 non-null int64\n",
      "Gold_Products ($)      2227 non-null int64\n",
      "Discount_Purchases     2227 non-null int64\n",
      "Web_Purchases          2227 non-null int64\n",
      "Catalog_Purchases      2227 non-null int64\n",
      "Store_Purchases        2227 non-null int64\n",
      "Days_Enrolled          2227 non-null float64\n",
      "Avg_Purch_Freq         2227 non-null float64\n",
      "Avg_Spend ($)          2227 non-null float64\n",
      "Cust_Accept (%)        2227 non-null float64\n",
      "dtypes: float64(5), int64(12), object(2)\n",
      "memory usage: 330.7+ KB\n"
     ]
    }
   ],
   "source": [
    "marketing.info()"
   ]
  },
  {
   "cell_type": "markdown",
   "metadata": {},
   "source": [
    "*Preprocessing for Customer Segmentation Below*"
   ]
  },
  {
   "cell_type": "code",
   "execution_count": 86,
   "metadata": {},
   "outputs": [
    {
     "name": "stdout",
     "output_type": "stream",
     "text": [
      "          0         1         2         3         4        5        6  \\\n",
      "0  0.989123  0.437415 -1.438334  0.986611  1.431069  1.39743  1.57789   \n",
      "\n",
      "          7         8         9  ...  Education_2n Cycle  Education_Basic  \\\n",
      "0  1.407776  1.060355  0.651735  ...                   0                0   \n",
      "\n",
      "   Education_Graduation  Education_Master  Education_PhD  \\\n",
      "0                     1                 0              0   \n",
      "\n",
      "   Relationship_Status_Divorced  Relationship_Status_In-Relationship  \\\n",
      "0                             0                                    0   \n",
      "\n",
      "   Relationship_Status_Married  Relationship_Status_Single  \\\n",
      "0                            0                           1   \n",
      "\n",
      "   Relationship_Status_Widow  \n",
      "0                          0  \n",
      "\n",
      "[1 rows x 26 columns]\n"
     ]
    }
   ],
   "source": [
    "from sklearn.preprocessing import StandardScaler\n",
    "from scipy import stats\n",
    "\n",
    "marketing_ml = marketing.drop('Cust_Accept (%)', axis=1)\n",
    "\n",
    "## Unskewing Data with Log(1 + x) transform ###\n",
    "unskewed = marketing_ml[['Age', 'Income', 'Children',\n",
    "       'Wine ($)', 'Fruit ($)', 'Meat ($)', 'Fish ($)', 'Sweets ($)',\n",
    "       'Gold_Products ($)', 'Discount_Purchases', 'Web_Purchases',\n",
    "       'Catalog_Purchases', 'Store_Purchases', 'Days_Enrolled',\n",
    "       'Avg_Purch_Freq', 'Avg_Spend ($)']]\n",
    "unskewed = np.log1p(unskewed)\n",
    "unskewed = pd.DataFrame(unskewed)\n",
    "\n",
    "### Scaling Numerical Features ###\n",
    "scaler = StandardScaler()\n",
    "numerical = scaler.fit_transform(unskewed)\n",
    "numerical = pd.DataFrame(numerical)\n",
    "\n",
    "### Numerically Encoding Categorical Features ###\n",
    "categorical = pd.get_dummies(data=marketing_ml, columns=['Education', 'Relationship_Status'], drop_first=False)\n",
    "\n",
    "### Appending the categorical features to end on unskewed DF ###\n",
    "ml = pd.concat([numerical, categorical[['Education_2n Cycle', 'Education_Basic', 'Education_Graduation',\n",
    "       'Education_Master', 'Education_PhD', 'Relationship_Status_Divorced',\n",
    "       'Relationship_Status_In-Relationship', 'Relationship_Status_Married',\n",
    "       'Relationship_Status_Single', 'Relationship_Status_Widow']]], axis=1)\n",
    "print(ml.head(1))\n",
    "\n"
   ]
  },
  {
   "cell_type": "code",
   "execution_count": 87,
   "metadata": {},
   "outputs": [
    {
     "data": {
      "text/plain": [
       "Text(0.5, 1.0, 'Elbow Plot')"
      ]
     },
     "execution_count": 87,
     "metadata": {},
     "output_type": "execute_result"
    },
    {
     "data": {
      "image/png": "[encoded data removed]",
      "text/plain": [
       "<Figure size 432x288 with 1 Axes>"
      ]
     },
     "metadata": {
      "needs_background": "light"
     },
     "output_type": "display_data"
    }
   ],
   "source": [
    "from sklearn.cluster import KMeans\n",
    "import seaborn as sns\n",
    "\n",
    "X = ml\n",
    "sse = {}\n",
    "for k in range(1, 11):\n",
    "    kmeans = KMeans(n_clusters=k, random_state=27)\n",
    "    kmeans.fit(X)\n",
    "    sse[k] = kmeans.inertia_\n",
    "sns.pointplot(x=list(sse.keys()), y=list(sse.values()))\n",
    "plt.xlabel(\"Number of cluster\")\n",
    "plt.ylabel(\"SSE\")\n",
    "plt.title('Elbow Plot')"
   ]
  },
  {
   "cell_type": "code",
   "execution_count": 88,
   "metadata": {
    "scrolled": false
   },
   "outputs": [
    {
     "name": "stdout",
     "output_type": "stream",
     "text": [
      "Cluster Counts\n",
      "0    853\n",
      "2    722\n",
      "1    652\n",
      "Name: Cluster, dtype: int64\n",
      "\n",
      "Percentage of Cluster Totals by Education\n",
      "Cluster  Education \n",
      "0        2n Cycle      11.0\n",
      "         Basic          6.0\n",
      "         Graduation    48.0\n",
      "         Master        16.0\n",
      "         PhD           19.0\n",
      "1        2n Cycle       6.0\n",
      "         Graduation    48.0\n",
      "         Master        20.0\n",
      "         PhD           26.0\n",
      "2        2n Cycle       9.0\n",
      "         Basic          0.0\n",
      "         Graduation    55.0\n",
      "         Master        15.0\n",
      "         PhD           20.0\n",
      "Name: Education, dtype: float64\n",
      "\n",
      "Percentage of Cluster Totals by Relationship Status\n",
      "Cluster  Relationship_Status\n",
      "0        Divorced                9.0\n",
      "         In-Relationship        25.0\n",
      "         Married                39.0\n",
      "         Single                 23.0\n",
      "         Widow                   2.0\n",
      "1        Divorced               11.0\n",
      "         In-Relationship        27.0\n",
      "         Married                39.0\n",
      "         Single                 18.0\n",
      "         Widow                   4.0\n",
      "2        Divorced               10.0\n",
      "         In-Relationship        25.0\n",
      "         Married                38.0\n",
      "         Single                 23.0\n",
      "         Widow                   5.0\n",
      "Name: Education, dtype: float64\n",
      "\n",
      "Numerical Data - Grouped by Cluster (Means)\n"
     ]
    },
    {
     "data": {
      "text/html": [
       "<div>\n",
       "<style scoped>\n",
       "    .dataframe tbody tr th:only-of-type {\n",
       "        vertical-align: middle;\n",
       "    }\n",
       "\n",
       "    .dataframe tbody tr th {\n",
       "        vertical-align: top;\n",
       "    }\n",
       "\n",
       "    .dataframe thead th {\n",
       "        text-align: right;\n",
       "    }\n",
       "</style>\n",
       "<table border=\"1\" class=\"dataframe\">\n",
       "  <thead>\n",
       "    <tr style=\"text-align: right;\">\n",
       "      <th></th>\n",
       "      <th>Age</th>\n",
       "      <th>Income</th>\n",
       "      <th>Children</th>\n",
       "      <th>Wine ($)</th>\n",
       "      <th>Fruit ($)</th>\n",
       "      <th>Meat ($)</th>\n",
       "      <th>Fish ($)</th>\n",
       "      <th>Sweets ($)</th>\n",
       "      <th>Gold_Products ($)</th>\n",
       "      <th>Discount_Purchases</th>\n",
       "      <th>Web_Purchases</th>\n",
       "      <th>Catalog_Purchases</th>\n",
       "      <th>Store_Purchases</th>\n",
       "      <th>Days_Enrolled</th>\n",
       "      <th>Avg_Purch_Freq</th>\n",
       "      <th>Avg_Spend ($)</th>\n",
       "      <th>Cust_Accept (%)</th>\n",
       "    </tr>\n",
       "    <tr>\n",
       "      <th>Cluster</th>\n",
       "      <th></th>\n",
       "      <th></th>\n",
       "      <th></th>\n",
       "      <th></th>\n",
       "      <th></th>\n",
       "      <th></th>\n",
       "      <th></th>\n",
       "      <th></th>\n",
       "      <th></th>\n",
       "      <th></th>\n",
       "      <th></th>\n",
       "      <th></th>\n",
       "      <th></th>\n",
       "      <th></th>\n",
       "      <th></th>\n",
       "      <th></th>\n",
       "      <th></th>\n",
       "    </tr>\n",
       "  </thead>\n",
       "  <tbody>\n",
       "    <tr>\n",
       "      <td>0</td>\n",
       "      <td>41.783118</td>\n",
       "      <td>32789.066114</td>\n",
       "      <td>1.245018</td>\n",
       "      <td>24.318875</td>\n",
       "      <td>3.720985</td>\n",
       "      <td>18.848769</td>\n",
       "      <td>5.234467</td>\n",
       "      <td>4.490035</td>\n",
       "      <td>12.906213</td>\n",
       "      <td>1.841735</td>\n",
       "      <td>1.839390</td>\n",
       "      <td>0.424385</td>\n",
       "      <td>2.909730</td>\n",
       "      <td>481.307151</td>\n",
       "      <td>77.834633</td>\n",
       "      <td>9.415135</td>\n",
       "      <td>2.735444</td>\n",
       "    </tr>\n",
       "    <tr>\n",
       "      <td>1</td>\n",
       "      <td>48.415644</td>\n",
       "      <td>53925.580408</td>\n",
       "      <td>1.271472</td>\n",
       "      <td>356.641104</td>\n",
       "      <td>14.311350</td>\n",
       "      <td>107.467791</td>\n",
       "      <td>19.226994</td>\n",
       "      <td>14.943252</td>\n",
       "      <td>48.857362</td>\n",
       "      <td>3.944785</td>\n",
       "      <td>5.544479</td>\n",
       "      <td>2.489264</td>\n",
       "      <td>6.639571</td>\n",
       "      <td>473.257669</td>\n",
       "      <td>27.373839</td>\n",
       "      <td>28.665282</td>\n",
       "      <td>6.543967</td>\n",
       "    </tr>\n",
       "    <tr>\n",
       "      <td>2</td>\n",
       "      <td>45.970914</td>\n",
       "      <td>72660.262605</td>\n",
       "      <td>0.315789</td>\n",
       "      <td>588.490305</td>\n",
       "      <td>63.934903</td>\n",
       "      <td>394.867036</td>\n",
       "      <td>92.522161</td>\n",
       "      <td>65.000000</td>\n",
       "      <td>76.650970</td>\n",
       "      <td>1.447368</td>\n",
       "      <td>5.452909</td>\n",
       "      <td>5.483380</td>\n",
       "      <td>8.469529</td>\n",
       "      <td>473.970914</td>\n",
       "      <td>23.935387</td>\n",
       "      <td>63.497101</td>\n",
       "      <td>13.850416</td>\n",
       "    </tr>\n",
       "  </tbody>\n",
       "</table>\n",
       "</div>"
      ],
      "text/plain": [
       "               Age        Income  Children    Wine ($)  Fruit ($)    Meat ($)  \\\n",
       "Cluster                                                                         \n",
       "0        41.783118  32789.066114  1.245018   24.318875   3.720985   18.848769   \n",
       "1        48.415644  53925.580408  1.271472  356.641104  14.311350  107.467791   \n",
       "2        45.970914  72660.262605  0.315789  588.490305  63.934903  394.867036   \n",
       "\n",
       "          Fish ($)  Sweets ($)  Gold_Products ($)  Discount_Purchases  \\\n",
       "Cluster                                                                 \n",
       "0         5.234467    4.490035          12.906213            1.841735   \n",
       "1        19.226994   14.943252          48.857362            3.944785   \n",
       "2        92.522161   65.000000          76.650970            1.447368   \n",
       "\n",
       "         Web_Purchases  Catalog_Purchases  Store_Purchases  Days_Enrolled  \\\n",
       "Cluster                                                                     \n",
       "0             1.839390           0.424385         2.909730     481.307151   \n",
       "1             5.544479           2.489264         6.639571     473.257669   \n",
       "2             5.452909           5.483380         8.469529     473.970914   \n",
       "\n",
       "         Avg_Purch_Freq  Avg_Spend ($)  Cust_Accept (%)  \n",
       "Cluster                                                  \n",
       "0             77.834633       9.415135         2.735444  \n",
       "1             27.373839      28.665282         6.543967  \n",
       "2             23.935387      63.497101        13.850416  "
      ]
     },
     "execution_count": 88,
     "metadata": {},
     "output_type": "execute_result"
    }
   ],
   "source": [
    "kmeans = KMeans(n_clusters = 3)\n",
    "kmeans.fit(ml)\n",
    "labels = kmeans.labels_\n",
    "marketing['Cluster'] = labels\n",
    "print('Cluster Counts')\n",
    "print(marketing['Cluster'].value_counts())\n",
    "education = marketing.groupby(['Cluster', 'Education'])['Education'].count()\n",
    "print('\\nPercentage of Cluster Totals by Education')\n",
    "print(round((education / education.groupby(level=0).sum()) * 100))\n",
    "relationship = marketing.groupby(['Cluster', 'Relationship_Status'])['Education'].count()\n",
    "print('\\nPercentage of Cluster Totals by Relationship Status')\n",
    "print(round((relationship / relationship.groupby(level=0).sum()) * 100))\n",
    "print('\\nNumerical Data - Grouped by Cluster (Means)')\n",
    "marketing.groupby('Cluster').mean()"
   ]
  },
  {
   "cell_type": "markdown",
   "metadata": {},
   "source": [
    "*Regression to Predict Cust_Accept (%)*"
   ]
  },
  {
   "cell_type": "code",
   "execution_count": 95,
   "metadata": {},
   "outputs": [
    {
     "data": {
      "image/png": "[encoded data removed]",
      "text/plain": [
       "<Figure size 432x288 with 1 Axes>"
      ]
     },
     "metadata": {
      "needs_background": "light"
     },
     "output_type": "display_data"
    },
    {
     "name": "stdout",
     "output_type": "stream",
     "text": [
      "0.000000     1623\n",
      "16.666667     365\n",
      "33.333333     142\n",
      "50.000000      51\n",
      "66.666667      36\n",
      "83.333333      10\n",
      "Name: Cust_Accept (%), dtype: int64\n"
     ]
    }
   ],
   "source": [
    "### Imbalanced Target ###\n",
    "plt.hist(marketing['Cust_Accept (%)'], bins=6, edgecolor='black')\n",
    "plt.xlabel('Cust_Accept (%)')\n",
    "plt.ylabel('Count')\n",
    "plt.show()\n",
    "print(marketing['Cust_Accept (%)'].value_counts())"
   ]
  },
  {
   "cell_type": "code",
   "execution_count": 89,
   "metadata": {},
   "outputs": [],
   "source": [
    "### Random Forest Regressor, HyperParameter Tuning ###\n",
    "from sklearn.ensemble import RandomForestRegressor\n",
    "from sklearn.model_selection import GridSearchCV\n",
    "from sklearn.model_selection import train_test_split\n",
    "\n",
    "X = ml.values\n",
    "y = marketing['Cust_Accept (%)'].values\n",
    "X_train, X_test, y_train, y_test = train_test_split(X, y, test_size=.25, random_state=42)\n",
    "rfr = RandomForestRegressor(n_jobs=-1, oob_score=True)\n",
    "grid_search = GridSearchCV(rfr, \n",
    "                           param_grid={\n",
    "                                       \"n_estimators\": [100, 200, 600, 1000],\n",
    "                                       \"min_samples_leaf\": [5, 3, 2, 1],\n",
    "                                       \"max_features\": ['sqrt', 'log2', .5, None]\n",
    "                                       },\n",
    "                           n_jobs=-1,\n",
    "                           cv=5,\n",
    "                           iid=False, # just return the average score across folds\n",
    "                           return_train_score=False, scoring = 'r2')\n",
    "grid_search.fit(X_train, y_train)\n",
    "y_pred_test = grid_search.predict(X_test)\n",
    "best_rfr = grid_search.best_estimator_"
   ]
  },
  {
   "cell_type": "code",
   "execution_count": 90,
   "metadata": {},
   "outputs": [
    {
     "name": "stdout",
     "output_type": "stream",
     "text": [
      "\n",
      " *Most Important Education Category*\n",
      "                 cols       imp\n",
      " Education_Graduation  0.008699\n",
      "\n",
      " *Most Important Relationship_Status Category*\n",
      "                        cols       imp\n",
      " Relationship_Status_Married  0.006926\n",
      "\n",
      " *Most Important Purchases Category*\n",
      "              cols       imp\n",
      " Catalog_Purchases  0.050014\n",
      "\n",
      " *Most Important ($) Category*\n",
      "     cols       imp\n",
      " Wine ($)  0.174912\n"
     ]
    },
    {
     "data": {
      "image/png": "[encoded data removed]",
      "text/plain": [
       "<Figure size 864x504 with 1 Axes>"
      ]
     },
     "metadata": {
      "needs_background": "light"
     },
     "output_type": "display_data"
    },
    {
     "name": "stdout",
     "output_type": "stream",
     "text": [
      "\n",
      "OOB Score:  0.4350199843157163\n",
      "\n",
      "Best Params: {'max_features': 'sqrt', 'min_samples_leaf': 1, 'n_estimators': 1000}\n",
      "\n",
      "Testing RMSE: 10.366984795650158\n",
      "\n",
      "Testing R2:  0.4331103900048644\n"
     ]
    }
   ],
   "source": [
    "### Analyzing Performance & Feature Importance Towards Cust Accept % ###\n",
    "\n",
    "from sklearn.metrics import r2_score, mean_squared_error, make_scorer\n",
    "from sklearn.model_selection import GridSearchCV\n",
    "\n",
    "\n",
    "def rf_feat_importance(m, df):\n",
    "    return pd.DataFrame({'cols':df.columns, 'imp':m.feature_importances_}).sort_values('imp', ascending=False)\n",
    "\n",
    "def plot_fi(fi): \n",
    "    return fi.plot('cols', 'imp', 'barh', figsize=(12,7), legend=False)\n",
    "\n",
    "fi = rf_feat_importance(best_rfr, categorical)\n",
    "for feature in ['Education', 'Relationship_Status', 'Purchases', '($)']:\n",
    "    print('\\n', '*Most Important', feature, 'Category*' )\n",
    "    new = fi.loc[fi['cols'].str.contains(feature)]\n",
    "    print(new.sort_values('imp', ascending=False).head(1).to_string(index=False))\n",
    "\n",
    "plot_fi(fi)\n",
    "plt.show()\n",
    "\n",
    "print('\\nOOB Score: ', best_rfr.oob_score_)\n",
    "print('\\nBest Params:', grid_search.best_params_)\n",
    "print('\\nTesting RMSE:', np.sqrt(mean_squared_error(y_test, y_pred_test)))\n",
    "print('\\nTesting R2: ', grid_search.score(X_test, y_test))"
   ]
  }
 ],
 "metadata": {
  "kernelspec": {
   "display_name": "Python 3",
   "language": "python",
   "name": "python3"
  },
  "language_info": {
   "codemirror_mode": {
    "name": "ipython",
    "version": 3
   },
   "file_extension": ".py",
   "mimetype": "text/x-python",
   "name": "python",
   "nbconvert_exporter": "python",
   "pygments_lexer": "ipython3",
   "version": "3.7.4"
  }
 },
 "nbformat": 4,
 "nbformat_minor": 2
}
