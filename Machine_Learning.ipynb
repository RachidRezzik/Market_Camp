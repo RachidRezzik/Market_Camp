{
 "cells": [
  {
   "cell_type": "code",
   "execution_count": 8,
   "metadata": {},
   "outputs": [],
   "source": [
    "import pandas as pd\n",
    "import numpy as np\n",
    "from sklearn.model_selection import train_test_split\n",
    "import seaborn as sns\n",
    "import matplotlib.pyplot as plt\n",
    "\n",
    "\n",
    "def warn(*args, **kwargs):\n",
    "    pass\n",
    "import warnings\n",
    "warnings.warn = warn"
   ]
  },
  {
   "cell_type": "code",
   "execution_count": 9,
   "metadata": {},
   "outputs": [
    {
     "data": {
      "text/plain": [
       "Index(['Age', 'Education', 'Relationship_Status', 'Income', 'Children',\n",
       "       'Wine ($)', 'Fruit ($)', 'Meat ($)', 'Fish ($)', 'Sweets ($)',\n",
       "       'Gold_Products ($)', 'Discount_Purchases', 'Web_Purchases',\n",
       "       'Catalog_Purchases', 'Store_Purchases', 'Days_Enrolled',\n",
       "       'Avg_Purch_Freq', 'Avg_Spend ($)', 'Cust_Accept (%)'],\n",
       "      dtype='object')"
      ]
     },
     "execution_count": 9,
     "metadata": {},
     "output_type": "execute_result"
    }
   ],
   "source": [
    "marketing = pd.read_csv('Cust_Records.csv')\n",
    "marketing.columns"
   ]
  },
  {
   "cell_type": "code",
   "execution_count": 10,
   "metadata": {},
   "outputs": [
    {
     "name": "stdout",
     "output_type": "stream",
     "text": [
      "<class 'pandas.core.frame.DataFrame'>\n",
      "RangeIndex: 2227 entries, 0 to 2226\n",
      "Data columns (total 19 columns):\n",
      "Age                    2227 non-null int64\n",
      "Education              2227 non-null object\n",
      "Relationship_Status    2227 non-null object\n",
      "Income                 2227 non-null float64\n",
      "Children               2227 non-null int64\n",
      "Wine ($)               2227 non-null int64\n",
      "Fruit ($)              2227 non-null int64\n",
      "Meat ($)               2227 non-null int64\n",
      "Fish ($)               2227 non-null int64\n",
      "Sweets ($)             2227 non-null int64\n",
      "Gold_Products ($)      2227 non-null int64\n",
      "Discount_Purchases     2227 non-null int64\n",
      "Web_Purchases          2227 non-null int64\n",
      "Catalog_Purchases      2227 non-null int64\n",
      "Store_Purchases        2227 non-null int64\n",
      "Days_Enrolled          2227 non-null float64\n",
      "Avg_Purch_Freq         2227 non-null float64\n",
      "Avg_Spend ($)          2227 non-null float64\n",
      "Cust_Accept (%)        2227 non-null float64\n",
      "dtypes: float64(5), int64(12), object(2)\n",
      "memory usage: 330.7+ KB\n"
     ]
    }
   ],
   "source": [
    "marketing.info()"
   ]
  },
  {
   "cell_type": "markdown",
   "metadata": {},
   "source": [
    "*Preprocessing for Customer Segmentation Below*"
   ]
  },
  {
   "cell_type": "code",
   "execution_count": 11,
   "metadata": {},
   "outputs": [
    {
     "name": "stdout",
     "output_type": "stream",
     "text": [
      "<class 'pandas.core.frame.DataFrame'>\n",
      "RangeIndex: 2227 entries, 0 to 2226\n",
      "Data columns (total 26 columns):\n",
      "Age                                    2227 non-null int64\n",
      "Income                                 2227 non-null float64\n",
      "Children                               2227 non-null int64\n",
      "Wine ($)                               2227 non-null int64\n",
      "Fruit ($)                              2227 non-null int64\n",
      "Meat ($)                               2227 non-null int64\n",
      "Fish ($)                               2227 non-null int64\n",
      "Sweets ($)                             2227 non-null int64\n",
      "Gold_Products ($)                      2227 non-null int64\n",
      "Discount_Purchases                     2227 non-null int64\n",
      "Web_Purchases                          2227 non-null int64\n",
      "Catalog_Purchases                      2227 non-null int64\n",
      "Store_Purchases                        2227 non-null int64\n",
      "Days_Enrolled                          2227 non-null float64\n",
      "Avg_Purch_Freq                         2227 non-null float64\n",
      "Avg_Spend ($)                          2227 non-null float64\n",
      "Education_2n Cycle                     2227 non-null uint8\n",
      "Education_Basic                        2227 non-null uint8\n",
      "Education_Graduation                   2227 non-null uint8\n",
      "Education_Master                       2227 non-null uint8\n",
      "Education_PhD                          2227 non-null uint8\n",
      "Relationship_Status_Divorced           2227 non-null uint8\n",
      "Relationship_Status_In-Relationship    2227 non-null uint8\n",
      "Relationship_Status_Married            2227 non-null uint8\n",
      "Relationship_Status_Single             2227 non-null uint8\n",
      "Relationship_Status_Widow              2227 non-null uint8\n",
      "dtypes: float64(4), int64(12), uint8(10)\n",
      "memory usage: 300.2 KB\n",
      "None\n"
     ]
    }
   ],
   "source": [
    "from sklearn.preprocessing import StandardScaler\n",
    "from scipy import stats\n",
    "\n",
    "def box_cox_df(x):\n",
    "    x_boxcox, _ = stats.boxcox(x)\n",
    "    return(x_boxcox)\n",
    "\n",
    "marketing_ml = marketing.drop('Cust_Accept (%)', axis=1)\n",
    "### Numerically Encoding Categorical Features ###\n",
    "categorical = pd.get_dummies(data=marketing_ml, columns=['Education', 'Relationship_Status'], drop_first=False)\n",
    "\n",
    "### Unskewing Data with Box Cox ###\n",
    "# numerical = marketing_ml[['Income', 'Children',\n",
    "#        'Wine ($)', 'Fruit ($)', 'Meat ($)', 'Fish ($)', 'Sweets ($)',\n",
    "#        'Gold_Products ($)', 'Discount_Purchases', 'Web_Purchases',\n",
    "#        'Catalog_Purchases', 'Store_Purchases', 'Days_Enrolled',\n",
    "#        'Avg_Purch_Freq', 'Avg_Spend ($)']]\n",
    "# numerical = numerical.apply(box_cox_df, axis=0)\n",
    "\n",
    "### Scaling Numerical Features ###\n",
    "# scaler = StandardScaler()\n",
    "# numerical = scaler.fit_transform(marketing_ml[['Income', 'Children',\n",
    "#        'Wine ($)', 'Fruit ($)', 'Meat ($)', 'Fish ($)', 'Sweets ($)',\n",
    "#        'Gold_Products ($)', 'Discount_Purchases', 'Web_Purchases',\n",
    "#        'Catalog_Purchases', 'Store_Purchases', 'Days_Enrolled',\n",
    "#        'Avg_Purch_Freq', 'Avg_Spend ($)']])\n",
    "# numerical = pd.DataFrame(numerical, columns=['Income', 'Children',\n",
    "#        'Wine ($)', 'Fruit ($)', 'Meat ($)', 'Fish ($)', 'Sweets ($)',\n",
    "#        'Gold_Products ($)', 'Discount_Purchases', 'Web_Purchases',\n",
    "#        'Catalog_Purchases', 'Store_Purchases', 'Days_Enrolled',\n",
    "#        'Avg_Purch_Freq', 'Avg_Spend ($)'])\n",
    "### Bring Categorical and Numerical Together ###\n",
    "# marketing_ml = categorical.merge(right=numerical, how='right')\n",
    "print(categorical.info())"
   ]
  },
  {
   "cell_type": "code",
   "execution_count": 12,
   "metadata": {},
   "outputs": [
    {
     "data": {
      "text/plain": [
       "Text(0.5, 1.0, 'Elbow Plot')"
      ]
     },
     "execution_count": 12,
     "metadata": {},
     "output_type": "execute_result"
    },
    {
     "data": {
      "image/png": "[encoded data removed]",
      "text/plain": [
       "<Figure size 432x288 with 1 Axes>"
      ]
     },
     "metadata": {
      "needs_background": "light"
     },
     "output_type": "display_data"
    }
   ],
   "source": [
    "from sklearn.cluster import KMeans\n",
    "import seaborn as sns\n",
    "\n",
    "X = categorical\n",
    "sse = {}\n",
    "for k in range(1, 11):\n",
    "    kmeans = KMeans(n_clusters=k, random_state=27)\n",
    "    kmeans.fit(X)\n",
    "    sse[k] = kmeans.inertia_\n",
    "sns.pointplot(x=list(sse.keys()), y=list(sse.values()))\n",
    "plt.xlabel(\"Number of cluster\")\n",
    "plt.ylabel(\"SSE\")\n",
    "plt.title('Elbow Plot')"
   ]
  },
  {
   "cell_type": "code",
   "execution_count": 13,
   "metadata": {
    "scrolled": false
   },
   "outputs": [
    {
     "name": "stdout",
     "output_type": "stream",
     "text": [
      "Cluster Counts\n",
      "2    802\n",
      "0    740\n",
      "1    685\n",
      "Name: Cluster, dtype: int64\n",
      "\n",
      "Percentage of Cluster Totals by Education\n",
      "Cluster  Education \n",
      "0        2n Cycle      11.0\n",
      "         Basic          7.0\n",
      "         Graduation    51.0\n",
      "         Master        15.0\n",
      "         PhD           16.0\n",
      "1        2n Cycle       8.0\n",
      "         Graduation    53.0\n",
      "         Master        15.0\n",
      "         PhD           24.0\n",
      "2        2n Cycle       8.0\n",
      "         Graduation    48.0\n",
      "         Master        19.0\n",
      "         PhD           25.0\n",
      "Name: Education, dtype: float64\n",
      "\n",
      "Percentage of Cluster Totals by Relationship Status\n",
      "Cluster  Relationship_Status\n",
      "0        Divorced                9.0\n",
      "         In-Relationship        26.0\n",
      "         Married                40.0\n",
      "         Single                 24.0\n",
      "         Widow                   2.0\n",
      "1        Divorced               10.0\n",
      "         In-Relationship        26.0\n",
      "         Married                39.0\n",
      "         Single                 21.0\n",
      "         Widow                   4.0\n",
      "2        Divorced               12.0\n",
      "         In-Relationship        26.0\n",
      "         Married                37.0\n",
      "         Single                 21.0\n",
      "         Widow                   4.0\n",
      "Name: Education, dtype: float64\n",
      "\n",
      "Numerical Data - Grouped by Cluster (Means)\n"
     ]
    },
    {
     "data": {
      "text/html": [
       "<div>\n",
       "<style scoped>\n",
       "    .dataframe tbody tr th:only-of-type {\n",
       "        vertical-align: middle;\n",
       "    }\n",
       "\n",
       "    .dataframe tbody tr th {\n",
       "        vertical-align: top;\n",
       "    }\n",
       "\n",
       "    .dataframe thead th {\n",
       "        text-align: right;\n",
       "    }\n",
       "</style>\n",
       "<table border=\"1\" class=\"dataframe\">\n",
       "  <thead>\n",
       "    <tr style=\"text-align: right;\">\n",
       "      <th></th>\n",
       "      <th>Age</th>\n",
       "      <th>Income</th>\n",
       "      <th>Children</th>\n",
       "      <th>Wine ($)</th>\n",
       "      <th>Fruit ($)</th>\n",
       "      <th>Meat ($)</th>\n",
       "      <th>Fish ($)</th>\n",
       "      <th>Sweets ($)</th>\n",
       "      <th>Gold_Products ($)</th>\n",
       "      <th>Discount_Purchases</th>\n",
       "      <th>Web_Purchases</th>\n",
       "      <th>Catalog_Purchases</th>\n",
       "      <th>Store_Purchases</th>\n",
       "      <th>Days_Enrolled</th>\n",
       "      <th>Avg_Purch_Freq</th>\n",
       "      <th>Avg_Spend ($)</th>\n",
       "      <th>Cust_Accept (%)</th>\n",
       "    </tr>\n",
       "    <tr>\n",
       "      <th>Cluster</th>\n",
       "      <th></th>\n",
       "      <th></th>\n",
       "      <th></th>\n",
       "      <th></th>\n",
       "      <th></th>\n",
       "      <th></th>\n",
       "      <th></th>\n",
       "      <th></th>\n",
       "      <th></th>\n",
       "      <th></th>\n",
       "      <th></th>\n",
       "      <th></th>\n",
       "      <th></th>\n",
       "      <th></th>\n",
       "      <th></th>\n",
       "      <th></th>\n",
       "      <th></th>\n",
       "    </tr>\n",
       "  </thead>\n",
       "  <tbody>\n",
       "    <tr>\n",
       "      <td>0</td>\n",
       "      <td>40.787838</td>\n",
       "      <td>28434.616216</td>\n",
       "      <td>1.124324</td>\n",
       "      <td>30.702703</td>\n",
       "      <td>5.998649</td>\n",
       "      <td>25.648649</td>\n",
       "      <td>9.086486</td>\n",
       "      <td>6.059459</td>\n",
       "      <td>17.775676</td>\n",
       "      <td>2.148649</td>\n",
       "      <td>2.164865</td>\n",
       "      <td>0.528378</td>\n",
       "      <td>3.091892</td>\n",
       "      <td>483.935135</td>\n",
       "      <td>73.415309</td>\n",
       "      <td>10.352460</td>\n",
       "      <td>3.423423</td>\n",
       "    </tr>\n",
       "    <tr>\n",
       "      <td>1</td>\n",
       "      <td>46.452555</td>\n",
       "      <td>76704.322628</td>\n",
       "      <td>0.439416</td>\n",
       "      <td>617.470073</td>\n",
       "      <td>56.962044</td>\n",
       "      <td>397.950365</td>\n",
       "      <td>82.893431</td>\n",
       "      <td>60.312409</td>\n",
       "      <td>70.033577</td>\n",
       "      <td>1.614599</td>\n",
       "      <td>5.413139</td>\n",
       "      <td>5.461314</td>\n",
       "      <td>8.427737</td>\n",
       "      <td>471.664234</td>\n",
       "      <td>24.738058</td>\n",
       "      <td>63.644521</td>\n",
       "      <td>14.647202</td>\n",
       "    </tr>\n",
       "    <tr>\n",
       "      <td>2</td>\n",
       "      <td>47.875312</td>\n",
       "      <td>52375.541674</td>\n",
       "      <td>1.229426</td>\n",
       "      <td>289.871571</td>\n",
       "      <td>18.962594</td>\n",
       "      <td>99.332918</td>\n",
       "      <td>25.306733</td>\n",
       "      <td>18.335411</td>\n",
       "      <td>46.233167</td>\n",
       "      <td>3.107232</td>\n",
       "      <td>4.751870</td>\n",
       "      <td>2.259352</td>\n",
       "      <td>6.066085</td>\n",
       "      <td>473.970075</td>\n",
       "      <td>37.717126</td>\n",
       "      <td>26.569156</td>\n",
       "      <td>5.029094</td>\n",
       "    </tr>\n",
       "  </tbody>\n",
       "</table>\n",
       "</div>"
      ],
      "text/plain": [
       "               Age        Income  Children    Wine ($)  Fruit ($)    Meat ($)  \\\n",
       "Cluster                                                                         \n",
       "0        40.787838  28434.616216  1.124324   30.702703   5.998649   25.648649   \n",
       "1        46.452555  76704.322628  0.439416  617.470073  56.962044  397.950365   \n",
       "2        47.875312  52375.541674  1.229426  289.871571  18.962594   99.332918   \n",
       "\n",
       "          Fish ($)  Sweets ($)  Gold_Products ($)  Discount_Purchases  \\\n",
       "Cluster                                                                 \n",
       "0         9.086486    6.059459          17.775676            2.148649   \n",
       "1        82.893431   60.312409          70.033577            1.614599   \n",
       "2        25.306733   18.335411          46.233167            3.107232   \n",
       "\n",
       "         Web_Purchases  Catalog_Purchases  Store_Purchases  Days_Enrolled  \\\n",
       "Cluster                                                                     \n",
       "0             2.164865           0.528378         3.091892     483.935135   \n",
       "1             5.413139           5.461314         8.427737     471.664234   \n",
       "2             4.751870           2.259352         6.066085     473.970075   \n",
       "\n",
       "         Avg_Purch_Freq  Avg_Spend ($)  Cust_Accept (%)  \n",
       "Cluster                                                  \n",
       "0             73.415309      10.352460         3.423423  \n",
       "1             24.738058      63.644521        14.647202  \n",
       "2             37.717126      26.569156         5.029094  "
      ]
     },
     "execution_count": 13,
     "metadata": {},
     "output_type": "execute_result"
    }
   ],
   "source": [
    "kmeans = KMeans(n_clusters = 3)\n",
    "kmeans.fit(X)\n",
    "labels = kmeans.labels_\n",
    "marketing['Cluster'] = labels\n",
    "print('Cluster Counts')\n",
    "print(marketing['Cluster'].value_counts())\n",
    "education = marketing.groupby(['Cluster', 'Education'])['Education'].count()\n",
    "print('\\nPercentage of Cluster Totals by Education')\n",
    "print(round((education / education.groupby(level=0).sum()) * 100))\n",
    "relationship = marketing.groupby(['Cluster', 'Relationship_Status'])['Education'].count()\n",
    "print('\\nPercentage of Cluster Totals by Relationship Status')\n",
    "print(round((relationship / relationship.groupby(level=0).sum()) * 100))\n",
    "print('\\nNumerical Data - Grouped by Cluster (Means)')\n",
    "marketing.groupby('Cluster').mean()"
   ]
  },
  {
   "cell_type": "markdown",
   "metadata": {},
   "source": [
    "*Regression to Predict Cust_Accept (%)*"
   ]
  },
  {
   "cell_type": "code",
   "execution_count": 14,
   "metadata": {},
   "outputs": [],
   "source": [
    "### Random Forest Regressor, HyperParameter Tuning ###\n",
    "from sklearn.ensemble import RandomForestRegressor\n",
    "from sklearn.model_selection import GridSearchCV\n",
    "from sklearn.model_selection import train_test_split\n",
    "\n",
    "X = categorical.values\n",
    "y = marketing['Cust_Accept (%)'].values\n",
    "X_train, X_test, y_train, y_test = train_test_split(X, y, test_size=.25, random_state=42)\n",
    "rfr = RandomForestRegressor(n_jobs=-1, oob_score=True)\n",
    "grid_search = GridSearchCV(rfr, \n",
    "                           param_grid={\n",
    "                                       \"n_estimators\": [100, 200, 600, 1000],\n",
    "                                       \"min_samples_leaf\": [5, 3, 2, 1],\n",
    "                                       \"max_features\": ['sqrt', 'log2', .5, None]\n",
    "                                       },\n",
    "                           n_jobs=-1,\n",
    "                           cv=5,\n",
    "                           iid=False, # just return the average score across folds\n",
    "                           return_train_score=False, scoring = 'r2')\n",
    "grid_search.fit(X_train, y_train)\n",
    "y_pred_test = grid_search.predict(X_test)\n",
    "best_rfr = grid_search.best_estimator_"
   ]
  },
  {
   "cell_type": "code",
   "execution_count": 15,
   "metadata": {},
   "outputs": [
    {
     "name": "stdout",
     "output_type": "stream",
     "text": [
      "\n",
      " *Most Important Education Category*\n",
      "                 cols       imp\n",
      " Education_Graduation  0.009291\n",
      "\n",
      " *Most Important Relationship_Status Category*\n",
      "                        cols       imp\n",
      " Relationship_Status_Married  0.006732\n",
      "\n",
      " *Most Important Purchases Category*\n",
      "              cols       imp\n",
      " Catalog_Purchases  0.051502\n",
      "\n",
      " *Most Important ($) Category*\n",
      "     cols       imp\n",
      " Wine ($)  0.176375\n"
     ]
    },
    {
     "data": {
      "image/png": "[encoded data removed]",
      "text/plain": [
       "<Figure size 864x504 with 1 Axes>"
      ]
     },
     "metadata": {
      "needs_background": "light"
     },
     "output_type": "display_data"
    },
    {
     "name": "stdout",
     "output_type": "stream",
     "text": [
      "\n",
      "OOB Score:  0.4421209146885011\n",
      "\n",
      "Best Params: {'max_features': 'sqrt', 'min_samples_leaf': 1, 'n_estimators': 1000}\n",
      "\n",
      "Testing RMSE: 10.409996318409139\n",
      "\n",
      "Testing R2:  0.4283967019573268\n"
     ]
    }
   ],
   "source": [
    "### Analyzing Performance & Feature Importance Towards Cust Accept % ###\n",
    "\n",
    "from sklearn.metrics import r2_score, mean_squared_error, make_scorer\n",
    "from sklearn.model_selection import GridSearchCV\n",
    "\n",
    "\n",
    "def rf_feat_importance(m, df):\n",
    "    return pd.DataFrame({'cols':df.columns, 'imp':m.feature_importances_}).sort_values('imp', ascending=False)\n",
    "\n",
    "def plot_fi(fi): \n",
    "    return fi.plot('cols', 'imp', 'barh', figsize=(12,7), legend=False)\n",
    "\n",
    "fi = rf_feat_importance(best_rfr, categorical)\n",
    "for feature in ['Education', 'Relationship_Status', 'Purchases', '($)']:\n",
    "    print('\\n', '*Most Important', feature, 'Category*' )\n",
    "    new = fi.loc[fi['cols'].str.contains(feature)]\n",
    "    print(new.sort_values('imp', ascending=False).head(1).to_string(index=False))\n",
    "\n",
    "plot_fi(fi)\n",
    "plt.show()\n",
    "\n",
    "print('\\nOOB Score: ', best_rfr.oob_score_)\n",
    "print('\\nBest Params:', grid_search.best_params_)\n",
    "print('\\nTesting RMSE:', np.sqrt(mean_squared_error(y_test, y_pred_test)))\n",
    "print('\\nTesting R2: ', grid_search.score(X_test, y_test))"
   ]
  }
 ],
 "metadata": {
  "kernelspec": {
   "display_name": "Python 3",
   "language": "python",
   "name": "python3"
  },
  "language_info": {
   "codemirror_mode": {
    "name": "ipython",
    "version": 3
   },
   "file_extension": ".py",
   "mimetype": "text/x-python",
   "name": "python",
   "nbconvert_exporter": "python",
   "pygments_lexer": "ipython3",
   "version": "3.7.4"
  }
 },
 "nbformat": 4,
 "nbformat_minor": 2
}
