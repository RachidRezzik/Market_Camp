{
 "cells": [
  {
   "cell_type": "code",
   "execution_count": 221,
   "metadata": {},
   "outputs": [],
   "source": [
    "import pandas as pd\n",
    "import numpy as np\n",
    "from sklearn.model_selection import train_test_split\n",
    "import seaborn as sns\n",
    "import matplotlib.pyplot as plt\n",
    "\n",
    "\n",
    "def warn(*args, **kwargs):\n",
    "    pass\n",
    "import warnings\n",
    "warnings.warn = warn"
   ]
  },
  {
   "cell_type": "code",
   "execution_count": 222,
   "metadata": {},
   "outputs": [
    {
     "data": {
      "text/plain": [
       "Index(['Age', 'Education', 'Relationship_Status', 'Income', 'Children',\n",
       "       'Wine ($)', 'Fruit ($)', 'Meat ($)', 'Fish ($)', 'Sweets ($)',\n",
       "       'Gold_Products ($)', 'Discount_Purchases', 'Web_Purchases',\n",
       "       'Catalog_Purchases', 'Store_Purchases', 'Days_Enrolled',\n",
       "       'Avg_Purch_Freq', 'Avg_Spend ($)', 'Accept_One', 'Cust_Accept (%)'],\n",
       "      dtype='object')"
      ]
     },
     "execution_count": 222,
     "metadata": {},
     "output_type": "execute_result"
    }
   ],
   "source": [
    "marketing = pd.read_csv('Cust_Records.csv')\n",
    "marketing.columns"
   ]
  },
  {
   "cell_type": "code",
   "execution_count": 223,
   "metadata": {},
   "outputs": [
    {
     "name": "stdout",
     "output_type": "stream",
     "text": [
      "<class 'pandas.core.frame.DataFrame'>\n",
      "RangeIndex: 2227 entries, 0 to 2226\n",
      "Data columns (total 20 columns):\n",
      "Age                    2227 non-null int64\n",
      "Education              2227 non-null object\n",
      "Relationship_Status    2227 non-null object\n",
      "Income                 2227 non-null float64\n",
      "Children               2227 non-null int64\n",
      "Wine ($)               2227 non-null int64\n",
      "Fruit ($)              2227 non-null int64\n",
      "Meat ($)               2227 non-null int64\n",
      "Fish ($)               2227 non-null int64\n",
      "Sweets ($)             2227 non-null int64\n",
      "Gold_Products ($)      2227 non-null int64\n",
      "Discount_Purchases     2227 non-null int64\n",
      "Web_Purchases          2227 non-null int64\n",
      "Catalog_Purchases      2227 non-null int64\n",
      "Store_Purchases        2227 non-null int64\n",
      "Days_Enrolled          2227 non-null float64\n",
      "Avg_Purch_Freq         2227 non-null float64\n",
      "Avg_Spend ($)          2227 non-null float64\n",
      "Accept_One             2227 non-null int64\n",
      "Cust_Accept (%)        2227 non-null float64\n",
      "dtypes: float64(5), int64(13), object(2)\n",
      "memory usage: 348.1+ KB\n"
     ]
    }
   ],
   "source": [
    "marketing.info()"
   ]
  },
  {
   "cell_type": "markdown",
   "metadata": {},
   "source": [
    "*Preprocessing for Customer Segmentation / Classification / Regression Below*"
   ]
  },
  {
   "cell_type": "code",
   "execution_count": 224,
   "metadata": {},
   "outputs": [
    {
     "name": "stdout",
     "output_type": "stream",
     "text": [
      "2227\n",
      "          0         1         2         3         4        5        6  \\\n",
      "0  0.989123  0.437415 -1.438334  0.986611  1.431069  1.39743  1.57789   \n",
      "\n",
      "          7         8         9  ...  Education_2n Cycle  Education_Basic  \\\n",
      "0  1.407776  1.060355  0.651735  ...                   0                0   \n",
      "\n",
      "   Education_Graduation  Education_Master  Education_PhD  \\\n",
      "0                     1                 0              0   \n",
      "\n",
      "   Relationship_Status_Divorced  Relationship_Status_In-Relationship  \\\n",
      "0                             0                                    0   \n",
      "\n",
      "   Relationship_Status_Married  Relationship_Status_Single  \\\n",
      "0                            0                           1   \n",
      "\n",
      "   Relationship_Status_Widow  \n",
      "0                          0  \n",
      "\n",
      "[1 rows x 26 columns]\n"
     ]
    }
   ],
   "source": [
    "from sklearn.preprocessing import StandardScaler\n",
    "from scipy import stats\n",
    "\n",
    "marketing_ml = marketing.drop(['Accept_One', 'Cust_Accept (%)'], axis=1)\n",
    "\n",
    "## Unskewing Data with Log(1 + x) transform ###\n",
    "unskewed = marketing_ml[['Age', 'Income', 'Children',\n",
    "       'Wine ($)', 'Fruit ($)', 'Meat ($)', 'Fish ($)', 'Sweets ($)',\n",
    "       'Gold_Products ($)', 'Discount_Purchases', 'Web_Purchases',\n",
    "       'Catalog_Purchases', 'Store_Purchases', 'Days_Enrolled',\n",
    "       'Avg_Purch_Freq', 'Avg_Spend ($)']]\n",
    "unskewed = np.log1p(unskewed)\n",
    "unskewed = pd.DataFrame(unskewed)\n",
    "\n",
    "### Scaling Numerical Features ###\n",
    "scaler = StandardScaler()\n",
    "numerical = scaler.fit_transform(unskewed)\n",
    "numerical = pd.DataFrame(numerical)\n",
    "\n",
    "### Numerically Encoding Categorical Features ###\n",
    "categorical = pd.get_dummies(data=marketing_ml, columns=['Education', 'Relationship_Status'], drop_first=False)\n",
    "\n",
    "### Appending the categorical features to end on unskewed DF ###\n",
    "ml = numerical.join(categorical[['Education_2n Cycle', 'Education_Basic', 'Education_Graduation',\n",
    "       'Education_Master', 'Education_PhD', 'Relationship_Status_Divorced',\n",
    "       'Relationship_Status_In-Relationship', 'Relationship_Status_Married',\n",
    "       'Relationship_Status_Single', 'Relationship_Status_Widow']])\n",
    "print(len(ml))\n",
    "print(ml.head(1))\n"
   ]
  },
  {
   "cell_type": "code",
   "execution_count": 225,
   "metadata": {},
   "outputs": [
    {
     "data": {
      "text/plain": [
       "Text(0.5, 1.0, 'Elbow Plot')"
      ]
     },
     "execution_count": 225,
     "metadata": {},
     "output_type": "execute_result"
    },
    {
     "data": {
      "image/png": "[encoded data removed]",
      "text/plain": [
       "<Figure size 432x288 with 1 Axes>"
      ]
     },
     "metadata": {
      "needs_background": "light"
     },
     "output_type": "display_data"
    }
   ],
   "source": [
    "from sklearn.cluster import KMeans\n",
    "import seaborn as sns\n",
    "\n",
    "X = ml\n",
    "sse = {}\n",
    "for k in range(1, 11):\n",
    "    kmeans = KMeans(n_clusters=k, random_state=27)\n",
    "    kmeans.fit(X)\n",
    "    sse[k] = kmeans.inertia_\n",
    "sns.pointplot(x=list(sse.keys()), y=list(sse.values()))\n",
    "plt.xlabel(\"Number of cluster\")\n",
    "plt.ylabel(\"SSE\")\n",
    "plt.title('Elbow Plot')"
   ]
  },
  {
   "cell_type": "code",
   "execution_count": 226,
   "metadata": {
    "scrolled": false
   },
   "outputs": [
    {
     "name": "stdout",
     "output_type": "stream",
     "text": [
      "Cluster Counts\n",
      "0    853\n",
      "1    722\n",
      "2    652\n",
      "Name: Cluster, dtype: int64\n",
      "\n",
      "Percentage of Cluster Totals by Education\n",
      "Cluster  Education \n",
      "0        2n Cycle      11.0\n",
      "         Basic          6.0\n",
      "         Graduation    48.0\n",
      "         Master        16.0\n",
      "         PhD           19.0\n",
      "1        2n Cycle       9.0\n",
      "         Basic          0.0\n",
      "         Graduation    55.0\n",
      "         Master        15.0\n",
      "         PhD           20.0\n",
      "2        2n Cycle       6.0\n",
      "         Graduation    48.0\n",
      "         Master        20.0\n",
      "         PhD           26.0\n",
      "Name: Education, dtype: float64\n",
      "\n",
      "Percentage of Cluster Totals by Relationship Status\n",
      "Cluster  Relationship_Status\n",
      "0        Divorced                9.0\n",
      "         In-Relationship        25.0\n",
      "         Married                39.0\n",
      "         Single                 23.0\n",
      "         Widow                   2.0\n",
      "1        Divorced               10.0\n",
      "         In-Relationship        25.0\n",
      "         Married                38.0\n",
      "         Single                 23.0\n",
      "         Widow                   5.0\n",
      "2        Divorced               11.0\n",
      "         In-Relationship        27.0\n",
      "         Married                39.0\n",
      "         Single                 18.0\n",
      "         Widow                   4.0\n",
      "Name: Education, dtype: float64\n",
      "\n",
      "Numerical Data - Grouped by Cluster (Means)\n"
     ]
    },
    {
     "data": {
      "text/html": [
       "<div>\n",
       "<style scoped>\n",
       "    .dataframe tbody tr th:only-of-type {\n",
       "        vertical-align: middle;\n",
       "    }\n",
       "\n",
       "    .dataframe tbody tr th {\n",
       "        vertical-align: top;\n",
       "    }\n",
       "\n",
       "    .dataframe thead th {\n",
       "        text-align: right;\n",
       "    }\n",
       "</style>\n",
       "<table border=\"1\" class=\"dataframe\">\n",
       "  <thead>\n",
       "    <tr style=\"text-align: right;\">\n",
       "      <th></th>\n",
       "      <th>Age</th>\n",
       "      <th>Income</th>\n",
       "      <th>Children</th>\n",
       "      <th>Wine ($)</th>\n",
       "      <th>Fruit ($)</th>\n",
       "      <th>Meat ($)</th>\n",
       "      <th>Fish ($)</th>\n",
       "      <th>Sweets ($)</th>\n",
       "      <th>Gold_Products ($)</th>\n",
       "      <th>Discount_Purchases</th>\n",
       "      <th>Web_Purchases</th>\n",
       "      <th>Catalog_Purchases</th>\n",
       "      <th>Store_Purchases</th>\n",
       "      <th>Days_Enrolled</th>\n",
       "      <th>Avg_Purch_Freq</th>\n",
       "      <th>Avg_Spend ($)</th>\n",
       "      <th>Accept_One</th>\n",
       "      <th>Cust_Accept (%)</th>\n",
       "    </tr>\n",
       "    <tr>\n",
       "      <th>Cluster</th>\n",
       "      <th></th>\n",
       "      <th></th>\n",
       "      <th></th>\n",
       "      <th></th>\n",
       "      <th></th>\n",
       "      <th></th>\n",
       "      <th></th>\n",
       "      <th></th>\n",
       "      <th></th>\n",
       "      <th></th>\n",
       "      <th></th>\n",
       "      <th></th>\n",
       "      <th></th>\n",
       "      <th></th>\n",
       "      <th></th>\n",
       "      <th></th>\n",
       "      <th></th>\n",
       "      <th></th>\n",
       "    </tr>\n",
       "  </thead>\n",
       "  <tbody>\n",
       "    <tr>\n",
       "      <td>0</td>\n",
       "      <td>41.783118</td>\n",
       "      <td>32789.066114</td>\n",
       "      <td>1.245018</td>\n",
       "      <td>24.318875</td>\n",
       "      <td>3.720985</td>\n",
       "      <td>18.848769</td>\n",
       "      <td>5.234467</td>\n",
       "      <td>4.490035</td>\n",
       "      <td>12.906213</td>\n",
       "      <td>1.841735</td>\n",
       "      <td>1.839390</td>\n",
       "      <td>0.424385</td>\n",
       "      <td>2.909730</td>\n",
       "      <td>481.307151</td>\n",
       "      <td>77.834633</td>\n",
       "      <td>9.415135</td>\n",
       "      <td>0.132474</td>\n",
       "      <td>2.735444</td>\n",
       "    </tr>\n",
       "    <tr>\n",
       "      <td>1</td>\n",
       "      <td>45.970914</td>\n",
       "      <td>72660.262605</td>\n",
       "      <td>0.315789</td>\n",
       "      <td>588.490305</td>\n",
       "      <td>63.934903</td>\n",
       "      <td>394.867036</td>\n",
       "      <td>92.522161</td>\n",
       "      <td>65.000000</td>\n",
       "      <td>76.650970</td>\n",
       "      <td>1.447368</td>\n",
       "      <td>5.452909</td>\n",
       "      <td>5.483380</td>\n",
       "      <td>8.469529</td>\n",
       "      <td>473.970914</td>\n",
       "      <td>23.935387</td>\n",
       "      <td>63.497101</td>\n",
       "      <td>0.426593</td>\n",
       "      <td>13.850416</td>\n",
       "    </tr>\n",
       "    <tr>\n",
       "      <td>2</td>\n",
       "      <td>48.415644</td>\n",
       "      <td>53925.580408</td>\n",
       "      <td>1.271472</td>\n",
       "      <td>356.641104</td>\n",
       "      <td>14.311350</td>\n",
       "      <td>107.467791</td>\n",
       "      <td>19.226994</td>\n",
       "      <td>14.943252</td>\n",
       "      <td>48.857362</td>\n",
       "      <td>3.944785</td>\n",
       "      <td>5.544479</td>\n",
       "      <td>2.489264</td>\n",
       "      <td>6.639571</td>\n",
       "      <td>473.257669</td>\n",
       "      <td>27.373839</td>\n",
       "      <td>28.665282</td>\n",
       "      <td>0.280675</td>\n",
       "      <td>6.543967</td>\n",
       "    </tr>\n",
       "  </tbody>\n",
       "</table>\n",
       "</div>"
      ],
      "text/plain": [
       "               Age        Income  Children    Wine ($)  Fruit ($)    Meat ($)  \\\n",
       "Cluster                                                                         \n",
       "0        41.783118  32789.066114  1.245018   24.318875   3.720985   18.848769   \n",
       "1        45.970914  72660.262605  0.315789  588.490305  63.934903  394.867036   \n",
       "2        48.415644  53925.580408  1.271472  356.641104  14.311350  107.467791   \n",
       "\n",
       "          Fish ($)  Sweets ($)  Gold_Products ($)  Discount_Purchases  \\\n",
       "Cluster                                                                 \n",
       "0         5.234467    4.490035          12.906213            1.841735   \n",
       "1        92.522161   65.000000          76.650970            1.447368   \n",
       "2        19.226994   14.943252          48.857362            3.944785   \n",
       "\n",
       "         Web_Purchases  Catalog_Purchases  Store_Purchases  Days_Enrolled  \\\n",
       "Cluster                                                                     \n",
       "0             1.839390           0.424385         2.909730     481.307151   \n",
       "1             5.452909           5.483380         8.469529     473.970914   \n",
       "2             5.544479           2.489264         6.639571     473.257669   \n",
       "\n",
       "         Avg_Purch_Freq  Avg_Spend ($)  Accept_One  Cust_Accept (%)  \n",
       "Cluster                                                              \n",
       "0             77.834633       9.415135    0.132474         2.735444  \n",
       "1             23.935387      63.497101    0.426593        13.850416  \n",
       "2             27.373839      28.665282    0.280675         6.543967  "
      ]
     },
     "execution_count": 226,
     "metadata": {},
     "output_type": "execute_result"
    }
   ],
   "source": [
    "kmeans = KMeans(n_clusters = 3)\n",
    "kmeans.fit(ml)\n",
    "labels = kmeans.labels_\n",
    "marketing['Cluster'] = labels\n",
    "print('Cluster Counts')\n",
    "print(marketing['Cluster'].value_counts())\n",
    "education = marketing.groupby(['Cluster', 'Education'])['Education'].count()\n",
    "print('\\nPercentage of Cluster Totals by Education')\n",
    "print(round((education / education.groupby(level=0).sum()) * 100))\n",
    "relationship = marketing.groupby(['Cluster', 'Relationship_Status'])['Education'].count()\n",
    "print('\\nPercentage of Cluster Totals by Relationship Status')\n",
    "print(round((relationship / relationship.groupby(level=0).sum()) * 100))\n",
    "print('\\nNumerical Data - Grouped by Cluster (Means)')\n",
    "marketing.groupby('Cluster').mean()"
   ]
  },
  {
   "cell_type": "markdown",
   "metadata": {},
   "source": [
    "We see that one particular group had 43% of customers accept the offer at least once while also containing an average customer acceptance percentage of 14%. \n",
    "\n",
    "The next most promising group had 28% of customers accept the offer at least once while also containing an average customer acceptance percentage of 7%.\n",
    "\n",
    "Least promising group had 13% of customers accept the offer at least once while also containing an average customer acceptance percentage of 3%. "
   ]
  },
  {
   "cell_type": "markdown",
   "metadata": {},
   "source": [
    "**Classification - 1)Predict Acceptance of one offer  2) Predict amount of times out of six (probability)**"
   ]
  },
  {
   "cell_type": "code",
   "execution_count": 227,
   "metadata": {},
   "outputs": [
    {
     "data": {
      "image/png": "[encoded data removed]",
      "text/plain": [
       "<Figure size 432x288 with 1 Axes>"
      ]
     },
     "metadata": {
      "needs_background": "light"
     },
     "output_type": "display_data"
    },
    {
     "name": "stdout",
     "output_type": "stream",
     "text": [
      "0    1623\n",
      "1     604\n",
      "Name: Accept_One, dtype: int64\n"
     ]
    }
   ],
   "source": [
    "### Imbalanced Classification Targets ###\n",
    "my_colors = ['red', 'green']\n",
    "marketing['Accept_One'].value_counts().plot(kind='bar', color=my_colors)\n",
    "plt.ylabel('Count')\n",
    "plt.show()\n",
    "print(marketing['Accept_One'].value_counts())"
   ]
  },
  {
   "cell_type": "code",
   "execution_count": 228,
   "metadata": {},
   "outputs": [
    {
     "name": "stdout",
     "output_type": "stream",
     "text": [
      "{'C': 10}\n",
      "0.7576301615798923\n",
      "              precision    recall  f1-score   support\n",
      "\n",
      "           0       0.77      0.95      0.85       399\n",
      "           1       0.68      0.28      0.39       158\n",
      "\n",
      "    accuracy                           0.76       557\n",
      "   macro avg       0.72      0.61      0.62       557\n",
      "weighted avg       0.74      0.76      0.72       557\n",
      "\n",
      "[[378  21]\n",
      " [114  44]]\n"
     ]
    }
   ],
   "source": [
    "### Classifier utilizing no imbalancing techniques - SVM ###\n",
    "from sklearn.model_selection import train_test_split\n",
    "from sklearn import svm\n",
    "from sklearn.model_selection import GridSearchCV\n",
    "from sklearn.metrics import classification_report, confusion_matrix\n",
    "\n",
    "X = ml.values\n",
    "y = marketing['Accept_One'].values\n",
    "X_train, X_test, y_train, y_test = train_test_split(X, y, test_size=.25, random_state=42)\n",
    "params = {'C' : [.001, .01, 0.1, 1, 10, 100]}\n",
    "SVM = svm.SVC(kernel='linear')\n",
    "grid_search = GridSearchCV(SVM, param_grid=params, cv=5)\n",
    "grid_search.fit(X_train, y_train)\n",
    "print(grid_search.best_params_)\n",
    "best_class = grid_search.best_estimator_\n",
    "y_pred = best_class.predict(X_test)\n",
    "print(best_class.score(X_test, y_test))\n",
    "print(classification_report(y_test, y_pred))\n",
    "print(confusion_matrix(y_test, y_pred))\n"
   ]
  },
  {
   "cell_type": "markdown",
   "metadata": {},
   "source": [
    "^^ Recall was poor for the accepted offer class (1). There were more false negatives compared to true positives (model more often predicted non-acceptance when it really was accepted). Model overfitted towards non-acceptance (0). "
   ]
  },
  {
   "cell_type": "code",
   "execution_count": 229,
   "metadata": {},
   "outputs": [
    {
     "data": {
      "image/png": "[encoded data removed]",
      "text/plain": [
       "<Figure size 432x288 with 1 Axes>"
      ]
     },
     "metadata": {
      "needs_background": "light"
     },
     "output_type": "display_data"
    },
    {
     "name": "stdout",
     "output_type": "stream",
     "text": [
      "1    446\n",
      "0    446\n",
      "dtype: int64\n"
     ]
    }
   ],
   "source": [
    "### Undersampling ###\n",
    "from imblearn.under_sampling import RandomUnderSampler\n",
    "rus = RandomUnderSampler(random_state=0)\n",
    "X_resampled, y_resampled = rus.fit_resample(X_train, y_train)\n",
    "acceptance = pd.Series(y_resampled)\n",
    "acceptance.value_counts().plot(kind='bar', color=my_colors)\n",
    "plt.xlabel('Accepted At Least One of Six Offers')\n",
    "plt.ylabel('Count')\n",
    "plt.show()\n",
    "print(acceptance.value_counts())\n"
   ]
  },
  {
   "cell_type": "code",
   "execution_count": 230,
   "metadata": {},
   "outputs": [
    {
     "name": "stdout",
     "output_type": "stream",
     "text": [
      "{'C': 10}\n",
      "0.6912028725314183\n",
      "              precision    recall  f1-score   support\n",
      "\n",
      "           0       0.86      0.67      0.76       399\n",
      "           1       0.47      0.73      0.57       158\n",
      "\n",
      "    accuracy                           0.69       557\n",
      "   macro avg       0.67      0.70      0.67       557\n",
      "weighted avg       0.75      0.69      0.71       557\n",
      "\n",
      "[[269 130]\n",
      " [ 42 116]]\n"
     ]
    }
   ],
   "source": [
    "### Classifier Using Undersampling ###\n",
    "params = {'C' : [.001, .01, 0.1, 1, 10, 100]}\n",
    "SVM = svm.SVC(kernel='linear')\n",
    "grid_search = GridSearchCV(SVM, param_grid=params, cv=5)\n",
    "grid_search.fit(X_resampled, y_resampled)\n",
    "print(grid_search.best_params_)\n",
    "best_class = grid_search.best_estimator_\n",
    "y_pred = best_class.predict(X_test)\n",
    "print(best_class.score(X_test, y_test))\n",
    "print(classification_report(y_test, y_pred))\n",
    "print(confusion_matrix(y_test, y_pred))"
   ]
  },
  {
   "cell_type": "markdown",
   "metadata": {},
   "source": [
    "^^ Model's recall for acceptance (1) is much improved. Accuracy did not suffer much and neither did precision (which slightly improved for (1)). Average f1-score improved as a result"
   ]
  },
  {
   "cell_type": "code",
   "execution_count": 231,
   "metadata": {},
   "outputs": [
    {
     "data": {
      "image/png": "[encoded data removed]",
      "text/plain": [
       "<Figure size 432x288 with 1 Axes>"
      ]
     },
     "metadata": {
      "needs_background": "light"
     },
     "output_type": "display_data"
    },
    {
     "name": "stdout",
     "output_type": "stream",
     "text": [
      "1    1224\n",
      "0    1224\n",
      "dtype: int64\n"
     ]
    }
   ],
   "source": [
    "### Oversampling ###\n",
    "\n",
    "from imblearn.over_sampling import SMOTE\n",
    "\n",
    "smote = SMOTE(ratio='minority', n_jobs=-1)\n",
    "X_sm, y_sm = smote.fit_resample(X_train, y_train)\n",
    "acceptance = pd.Series(y_sm)\n",
    "acceptance.value_counts().plot(kind='bar', color=my_colors)\n",
    "plt.xlabel('Accepted At Least One of Six Offers')\n",
    "plt.ylabel('Count')\n",
    "plt.show()\n",
    "print(acceptance.value_counts())"
   ]
  },
  {
   "cell_type": "code",
   "execution_count": 232,
   "metadata": {},
   "outputs": [
    {
     "name": "stdout",
     "output_type": "stream",
     "text": [
      "{'C': 0.1}\n",
      "0.7073608617594255\n",
      "              precision    recall  f1-score   support\n",
      "\n",
      "           0       0.88      0.69      0.77       399\n",
      "           1       0.49      0.76      0.60       158\n",
      "\n",
      "    accuracy                           0.71       557\n",
      "   macro avg       0.68      0.72      0.68       557\n",
      "weighted avg       0.77      0.71      0.72       557\n",
      "\n",
      "[[274 125]\n",
      " [ 38 120]]\n"
     ]
    }
   ],
   "source": [
    "### Classifier Using Oversampling ###\n",
    "params = {'C' : [.001, .01, 0.1, 1, 10, 100]}\n",
    "SVM = svm.SVC(kernel='linear')\n",
    "grid_search = GridSearchCV(SVM, param_grid=params, cv=5)\n",
    "grid_search.fit(X_sm, y_sm)\n",
    "print(grid_search.best_params_)\n",
    "best_class = grid_search.best_estimator_\n",
    "y_pred = best_class.predict(X_test)\n",
    "print(best_class.score(X_test, y_test))\n",
    "print(classification_report(y_test, y_pred))\n",
    "print(confusion_matrix(y_test, y_pred))"
   ]
  },
  {
   "cell_type": "markdown",
   "metadata": {},
   "source": [
    "^^ In printing results for both undersampling and oversampling, I favor undersampling's average metrics from the classification report. Accuracy score was not worse by much at all either"
   ]
  },
  {
   "cell_type": "markdown",
   "metadata": {},
   "source": [
    "**After classifying a customer as Accepted (1), classify their offer acceptance rate (indicates customers that are most likely to accept the offer each time it is sent out)**"
   ]
  },
  {
   "cell_type": "code",
   "execution_count": 233,
   "metadata": {},
   "outputs": [
    {
     "data": {
      "image/png": "[encoded data removed]",
      "text/plain": [
       "<Figure size 432x288 with 1 Axes>"
      ]
     },
     "metadata": {
      "needs_background": "light"
     },
     "output_type": "display_data"
    },
    {
     "name": "stdout",
     "output_type": "stream",
     "text": [
      "Accept_Rate\n",
      "1/6    365\n",
      "2/6    142\n",
      "3/6     51\n",
      "4/6     36\n",
      "5/6     10\n",
      "Name: Accept_Rate, dtype: int64\n"
     ]
    }
   ],
   "source": [
    "### Sclicing to only included customers who accepted at least one offer ###\n",
    "marketing_accept = marketing.loc[marketing['Accept_One'] == 1].reset_index(drop=True)\n",
    "### Adding Accept_Rate Labels ###\n",
    "marketing_accept['Accept_Rate'] = ''\n",
    "for idx, row in marketing_accept.iterrows():\n",
    "    if row['Cust_Accept (%)'] == ((1/6) * 100):\n",
    "            marketing_accept.loc[idx, 'Accept_Rate'] = '1/6'\n",
    "    elif row['Cust_Accept (%)'] == ((2/6) * 100):\n",
    "            marketing_accept.loc[idx, 'Accept_Rate'] = '2/6'\n",
    "    elif row['Cust_Accept (%)'] == ((3/6) * 100):\n",
    "            marketing_accept.loc[idx, 'Accept_Rate'] = '3/6'\n",
    "    elif row['Cust_Accept (%)'] == ((4/6) * 100):\n",
    "            marketing_accept.loc[idx, 'Accept_Rate'] = '4/6'\n",
    "    elif row['Cust_Accept (%)'] == ((5/6) * 100):\n",
    "            marketing_accept.loc[idx, 'Accept_Rate'] = '5/6'\n",
    "\n",
    "### Distribution of Those Who Accepted At Least One Offer ###\n",
    "my_colors = ['blue', 'red', 'green', 'orange', 'purple']\n",
    "marketing_accept.groupby('Accept_Rate')['Accept_Rate'].count().plot(kind='bar', color=my_colors)\n",
    "plt.xlabel('Acceptance Rate')\n",
    "plt.ylabel('Count')\n",
    "plt.show()\n",
    "print(marketing_accept.groupby('Accept_Rate')['Accept_Rate'].count())"
   ]
  },
  {
   "cell_type": "code",
   "execution_count": 234,
   "metadata": {},
   "outputs": [
    {
     "name": "stdout",
     "output_type": "stream",
     "text": [
      "604\n"
     ]
    }
   ],
   "source": [
    "### Numerically Encode Accept_Rate ###\n",
    "for idx, row in marketing_accept.iterrows():\n",
    "    if row['Accept_Rate'] == '1/6':\n",
    "        marketing_accept.loc[idx, 'Accept_Rate'] = 1\n",
    "    elif row['Accept_Rate'] == '2/6':\n",
    "        marketing_accept.loc[idx, 'Accept_Rate'] = 2\n",
    "    elif row['Accept_Rate'] == '3/6':\n",
    "        marketing_accept.loc[idx, 'Accept_Rate'] = 3\n",
    "    elif row['Accept_Rate'] == '4/6':\n",
    "        marketing_accept.loc[idx, 'Accept_Rate'] = 4\n",
    "    elif row['Accept_Rate'] == '5/6':\n",
    "        marketing_accept.loc[idx, 'Accept_Rate'] = 5\n",
    "        \n",
    "marketing_ml_accept = marketing_accept.drop(['Cluster', 'Accept_Rate', 'Accept_One', 'Cust_Accept (%)'], axis=1)\n",
    "\n",
    "## Unskewing Data with Log(1 + x) transform ###\n",
    "unskewed = marketing_ml_accept[['Age', 'Income', 'Children',\n",
    "       'Wine ($)', 'Fruit ($)', 'Meat ($)', 'Fish ($)', 'Sweets ($)',\n",
    "       'Gold_Products ($)', 'Discount_Purchases', 'Web_Purchases',\n",
    "       'Catalog_Purchases', 'Store_Purchases', 'Days_Enrolled',\n",
    "       'Avg_Purch_Freq', 'Avg_Spend ($)']]\n",
    "unskewed = np.log1p(unskewed)\n",
    "unskewed = pd.DataFrame(unskewed)\n",
    "\n",
    "### Scaling Numerical Features ###\n",
    "scaler = StandardScaler()\n",
    "numerical = scaler.fit_transform(unskewed)\n",
    "numerical = pd.DataFrame(numerical)\n",
    "### Numerically Encoding Categorical Features ###\n",
    "categorical = pd.get_dummies(data=marketing_ml_accept, columns=['Education', 'Relationship_Status'], drop_first=False)\n",
    "### Appending the categorical features to end on unskewed DF ###\n",
    "ml_accept = numerical.join(categorical[['Education_2n Cycle', 'Education_Basic', 'Education_Graduation',\n",
    "       'Education_Master', 'Education_PhD', 'Relationship_Status_Divorced',\n",
    "       'Relationship_Status_In-Relationship', 'Relationship_Status_Married',\n",
    "       'Relationship_Status_Single', 'Relationship_Status_Widow']], how='right')\n",
    "print(len(ml_accept))"
   ]
  },
  {
   "cell_type": "code",
   "execution_count": 235,
   "metadata": {},
   "outputs": [
    {
     "name": "stdout",
     "output_type": "stream",
     "text": [
      "1    365\n",
      "2    142\n",
      "3     51\n",
      "4     36\n",
      "5     10\n",
      "Name: Accept_Rate, dtype: int64\n",
      "<class 'pandas.core.frame.DataFrame'>\n",
      "RangeIndex: 604 entries, 0 to 603\n",
      "Data columns (total 26 columns):\n",
      "0                                      604 non-null float64\n",
      "1                                      604 non-null float64\n",
      "2                                      604 non-null float64\n",
      "3                                      604 non-null float64\n",
      "4                                      604 non-null float64\n",
      "5                                      604 non-null float64\n",
      "6                                      604 non-null float64\n",
      "7                                      604 non-null float64\n",
      "8                                      604 non-null float64\n",
      "9                                      604 non-null float64\n",
      "10                                     604 non-null float64\n",
      "11                                     604 non-null float64\n",
      "12                                     604 non-null float64\n",
      "13                                     604 non-null float64\n",
      "14                                     604 non-null float64\n",
      "15                                     604 non-null float64\n",
      "Education_2n Cycle                     604 non-null uint8\n",
      "Education_Basic                        604 non-null uint8\n",
      "Education_Graduation                   604 non-null uint8\n",
      "Education_Master                       604 non-null uint8\n",
      "Education_PhD                          604 non-null uint8\n",
      "Relationship_Status_Divorced           604 non-null uint8\n",
      "Relationship_Status_In-Relationship    604 non-null uint8\n",
      "Relationship_Status_Married            604 non-null uint8\n",
      "Relationship_Status_Single             604 non-null uint8\n",
      "Relationship_Status_Widow              604 non-null uint8\n",
      "dtypes: float64(16), uint8(10)\n",
      "memory usage: 81.5 KB\n",
      "None\n"
     ]
    }
   ],
   "source": [
    "print(marketing_accept['Accept_Rate'].value_counts())\n",
    "print(ml_accept.info())\n"
   ]
  },
  {
   "cell_type": "code",
   "execution_count": 220,
   "metadata": {},
   "outputs": [
    {
     "name": "stdout",
     "output_type": "stream",
     "text": [
      "{'C': 1}\n",
      "0.6026490066225165\n",
      "              precision    recall  f1-score   support\n",
      "\n",
      "           1       0.63      0.97      0.77        91\n",
      "           2       0.50      0.03      0.06        34\n",
      "           3       0.17      0.08      0.11        13\n",
      "           4       0.33      0.10      0.15        10\n",
      "           5       0.00      0.00      0.00         3\n",
      "\n",
      "    accuracy                           0.60       151\n",
      "   macro avg       0.33      0.23      0.22       151\n",
      "weighted avg       0.53      0.60      0.49       151\n",
      "\n",
      "[[88  1  2  0  0]\n",
      " [31  1  1  1  0]\n",
      " [10  0  1  1  1]\n",
      " [ 7  0  2  1  0]\n",
      " [ 3  0  0  0  0]]\n"
     ]
    }
   ],
   "source": [
    "### Classifier for Accept_Rate ###\n",
    "X = ml_accept.values\n",
    "y = marketing_accept['Accept_Rate'].values\n",
    "X_train, X_test, y_train, y_test = train_test_split(X, y, test_size=.25, random_state=42)\n",
    "params = {'C' : [.001, .01, 0.1, 1, 10, 100]}\n",
    "SVM = svm.SVC(kernel='linear')\n",
    "grid_search = GridSearchCV(SVM, param_grid=params, cv=5)\n",
    "grid_search.fit(X_train, y_train)\n",
    "print(grid_search.best_params_)\n",
    "best_class_accept = grid_search.best_estimator_\n",
    "y_pred = best_class_accept.predict(X_test)\n",
    "print(best_class_accept.score(X_test, y_test))\n",
    "print(classification_report(y_test, y_pred))\n",
    "print(confusion_matrix(y_test, y_pred))"
   ]
  },
  {
   "cell_type": "markdown",
   "metadata": {},
   "source": [
    "*Regression to Predict Cust_Accept (%)*"
   ]
  },
  {
   "cell_type": "code",
   "execution_count": 89,
   "metadata": {},
   "outputs": [],
   "source": [
    "### Random Forest Regressor, HyperParameter Tuning ###\n",
    "from sklearn.ensemble import RandomForestRegressor\n",
    "from sklearn.model_selection import GridSearchCV\n",
    "from sklearn.model_selection import train_test_split\n",
    "\n",
    "X = ml.values\n",
    "y = marketing['Cust_Accept (%)'].values\n",
    "X_train, X_test, y_train, y_test = train_test_split(X, y, test_size=.25, random_state=42)\n",
    "rfr = RandomForestRegressor(n_jobs=-1, oob_score=True)\n",
    "grid_search = GridSearchCV(rfr, \n",
    "                           param_grid={\n",
    "                                       \"n_estimators\": [100, 200, 600, 1000],\n",
    "                                       \"min_samples_leaf\": [5, 3, 2, 1],\n",
    "                                       \"max_features\": ['sqrt', 'log2', .5, None]\n",
    "                                       },\n",
    "                           n_jobs=-1,\n",
    "                           cv=5,\n",
    "                           iid=False, # just return the average score across folds\n",
    "                           return_train_score=False, scoring = 'r2')\n",
    "grid_search.fit(X_train, y_train)\n",
    "y_pred_test = grid_search.predict(X_test)\n",
    "best_rfr = grid_search.best_estimator_"
   ]
  },
  {
   "cell_type": "code",
   "execution_count": 90,
   "metadata": {},
   "outputs": [
    {
     "name": "stdout",
     "output_type": "stream",
     "text": [
      "\n",
      " *Most Important Education Category*\n",
      "                 cols       imp\n",
      " Education_Graduation  0.008699\n",
      "\n",
      " *Most Important Relationship_Status Category*\n",
      "                        cols       imp\n",
      " Relationship_Status_Married  0.006926\n",
      "\n",
      " *Most Important Purchases Category*\n",
      "              cols       imp\n",
      " Catalog_Purchases  0.050014\n",
      "\n",
      " *Most Important ($) Category*\n",
      "     cols       imp\n",
      " Wine ($)  0.174912\n"
     ]
    },
    {
     "data": {
      "image/png": "[encoded data removed]",
      "text/plain": [
       "<Figure size 864x504 with 1 Axes>"
      ]
     },
     "metadata": {
      "needs_background": "light"
     },
     "output_type": "display_data"
    },
    {
     "name": "stdout",
     "output_type": "stream",
     "text": [
      "\n",
      "OOB Score:  0.4350199843157163\n",
      "\n",
      "Best Params: {'max_features': 'sqrt', 'min_samples_leaf': 1, 'n_estimators': 1000}\n",
      "\n",
      "Testing RMSE: 10.366984795650158\n",
      "\n",
      "Testing R2:  0.4331103900048644\n"
     ]
    }
   ],
   "source": [
    "### Analyzing Performance & Feature Importance Towards Cust Accept % ###\n",
    "\n",
    "from sklearn.metrics import r2_score, mean_squared_error, make_scorer\n",
    "from sklearn.model_selection import GridSearchCV\n",
    "\n",
    "\n",
    "def rf_feat_importance(m, df):\n",
    "    return pd.DataFrame({'cols':df.columns, 'imp':m.feature_importances_}).sort_values('imp', ascending=False)\n",
    "\n",
    "def plot_fi(fi): \n",
    "    return fi.plot('cols', 'imp', 'barh', figsize=(12,7), legend=False)\n",
    "\n",
    "fi = rf_feat_importance(best_rfr, categorical)\n",
    "for feature in ['Education', 'Relationship_Status', 'Purchases', '($)']:\n",
    "    print('\\n', '*Most Important', feature, 'Category*' )\n",
    "    new = fi.loc[fi['cols'].str.contains(feature)]\n",
    "    print(new.sort_values('imp', ascending=False).head(1).to_string(index=False))\n",
    "\n",
    "plot_fi(fi)\n",
    "plt.show()\n",
    "\n",
    "print('\\nOOB Score: ', best_rfr.oob_score_)\n",
    "print('\\nBest Params:', grid_search.best_params_)\n",
    "print('\\nTesting RMSE:', np.sqrt(mean_squared_error(y_test, y_pred_test)))\n",
    "print('\\nTesting R2: ', grid_search.score(X_test, y_test))"
   ]
  }
 ],
 "metadata": {
  "kernelspec": {
   "display_name": "Python 3",
   "language": "python",
   "name": "python3"
  },
  "language_info": {
   "codemirror_mode": {
    "name": "ipython",
    "version": 3
   },
   "file_extension": ".py",
   "mimetype": "text/x-python",
   "name": "python",
   "nbconvert_exporter": "python",
   "pygments_lexer": "ipython3",
   "version": "3.7.4"
  }
 },
 "nbformat": 4,
 "nbformat_minor": 2
}
