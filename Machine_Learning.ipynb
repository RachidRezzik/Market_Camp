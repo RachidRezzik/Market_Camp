{
 "cells": [
  {
   "cell_type": "code",
   "execution_count": 9,
   "metadata": {},
   "outputs": [],
   "source": [
    "import pandas as pd\n",
    "import numpy as np\n",
    "from sklearn.model_selection import train_test_split\n",
    "import seaborn as sns\n",
    "import matplotlib.pyplot as plt\n",
    "\n",
    "\n",
    "def warn(*args, **kwargs):\n",
    "    pass\n",
    "import warnings\n",
    "warnings.warn = warn"
   ]
  },
  {
   "cell_type": "code",
   "execution_count": 61,
   "metadata": {},
   "outputs": [
    {
     "data": {
      "text/plain": [
       "Index(['Age', 'Education', 'Relationship_Status', 'Income', 'Children',\n",
       "       'Wine ($)', 'Fruit ($)', 'Meat ($)', 'Fish ($)', 'Sweets ($)',\n",
       "       'Gold_Products ($)', 'Total Spent ($)', 'Discount_Purchases',\n",
       "       'Web_Purchases', 'Catalog_Purchases', 'Store_Purchases',\n",
       "       'Days_Enrolled', 'Avg_Purch_Freq', 'Avg_Spend ($)', 'Accept_One',\n",
       "       'Accept_Rate', 'Cust_Accept (%)'],\n",
       "      dtype='object')"
      ]
     },
     "execution_count": 61,
     "metadata": {},
     "output_type": "execute_result"
    }
   ],
   "source": [
    "marketing = pd.read_csv('Cust_Records.csv')\n",
    "marketing.columns"
   ]
  },
  {
   "cell_type": "code",
   "execution_count": 62,
   "metadata": {
    "scrolled": true
   },
   "outputs": [
    {
     "name": "stdout",
     "output_type": "stream",
     "text": [
      "<class 'pandas.core.frame.DataFrame'>\n",
      "RangeIndex: 2227 entries, 0 to 2226\n",
      "Data columns (total 22 columns):\n",
      "Age                    2227 non-null int64\n",
      "Education              2227 non-null object\n",
      "Relationship_Status    2227 non-null object\n",
      "Income                 2227 non-null float64\n",
      "Children               2227 non-null int64\n",
      "Wine ($)               2227 non-null int64\n",
      "Fruit ($)              2227 non-null int64\n",
      "Meat ($)               2227 non-null int64\n",
      "Fish ($)               2227 non-null int64\n",
      "Sweets ($)             2227 non-null int64\n",
      "Gold_Products ($)      2227 non-null int64\n",
      "Total Spent ($)        2227 non-null int64\n",
      "Discount_Purchases     2227 non-null int64\n",
      "Web_Purchases          2227 non-null int64\n",
      "Catalog_Purchases      2227 non-null int64\n",
      "Store_Purchases        2227 non-null int64\n",
      "Days_Enrolled          2227 non-null float64\n",
      "Avg_Purch_Freq         2227 non-null float64\n",
      "Avg_Spend ($)          2227 non-null float64\n",
      "Accept_One             2227 non-null int64\n",
      "Accept_Rate            2227 non-null object\n",
      "Cust_Accept (%)        2227 non-null float64\n",
      "dtypes: float64(5), int64(14), object(3)\n",
      "memory usage: 382.9+ KB\n"
     ]
    }
   ],
   "source": [
    "marketing.info()"
   ]
  },
  {
   "cell_type": "markdown",
   "metadata": {},
   "source": [
    "**Preprocessing for Customer Segmentation / Classification Below**"
   ]
  },
  {
   "cell_type": "code",
   "execution_count": 63,
   "metadata": {},
   "outputs": [],
   "source": [
    "from sklearn.preprocessing import StandardScaler\n",
    "from scipy import stats\n",
    "\n",
    "marketing_ml = marketing.drop(['Accept_One', 'Accept_Rate', 'Cust_Accept (%)'], axis=1)\n",
    "\n",
    "## Unskewing Data with Log(1 + x) transform ###\n",
    "unskewed = marketing_ml[['Age', 'Income', 'Children',\n",
    "       'Wine ($)', 'Fruit ($)', 'Meat ($)', 'Fish ($)', 'Sweets ($)',\n",
    "       'Gold_Products ($)', 'Total Spent ($)', 'Discount_Purchases', 'Web_Purchases',\n",
    "       'Catalog_Purchases', 'Store_Purchases', 'Days_Enrolled',\n",
    "       'Avg_Purch_Freq', 'Avg_Spend ($)']]\n",
    "unskewed = np.log1p(unskewed)\n",
    "unskewed = pd.DataFrame(unskewed)\n",
    "\n",
    "### Scaling Numerical Features ###\n",
    "scaler = StandardScaler()\n",
    "numerical = scaler.fit_transform(unskewed)\n",
    "numerical = pd.DataFrame(numerical)\n",
    "\n",
    "### Numerically Encoding Categorical Features ###\n",
    "categorical = pd.get_dummies(data=marketing_ml, columns=['Education', 'Relationship_Status'], drop_first=False)\n",
    "\n",
    "### Appending the categorical features to end on unskewed DF ###\n",
    "ml = numerical.join(categorical[['Education_2n Cycle', 'Education_Basic', 'Education_Graduation',\n",
    "       'Education_Master', 'Education_PhD', 'Relationship_Status_Divorced',\n",
    "       'Relationship_Status_In-Relationship', 'Relationship_Status_Married',\n",
    "       'Relationship_Status_Single', 'Relationship_Status_Widow']])\n",
    "ml.columns = ['Age', 'Income', 'Children',\n",
    "       'Wine ($)', 'Fruit ($)', 'Meat ($)', 'Fish ($)', 'Sweets ($)',\n",
    "       'Gold_Products ($)', 'Total Spent ($)', 'Discount_Purchases', 'Web_Purchases',\n",
    "       'Catalog_Purchases', 'Store_Purchases', 'Days_Enrolled',\n",
    "       'Avg_Purch_Freq', 'Avg_Spend ($)', 'Education_2n Cycle', 'Education_Basic', 'Education_Graduation',\n",
    "       'Education_Master', 'Education_PhD', 'Relationship_Status_Divorced',\n",
    "       'Relationship_Status_In-Relationship', 'Relationship_Status_Married',\n",
    "       'Relationship_Status_Single', 'Relationship_Status_Widow']"
   ]
  },
  {
   "cell_type": "code",
   "execution_count": 64,
   "metadata": {},
   "outputs": [
    {
     "data": {
      "image/png": "[encoded data removed]",
      "text/plain": [
       "<Figure size 432x288 with 1 Axes>"
      ]
     },
     "metadata": {
      "needs_background": "light"
     },
     "output_type": "display_data"
    },
    {
     "name": "stdout",
     "output_type": "stream",
     "text": [
      "3 clusters looks optimal\n"
     ]
    }
   ],
   "source": [
    "from sklearn.cluster import KMeans\n",
    "import seaborn as sns\n",
    "\n",
    "X = ml\n",
    "sse = {}\n",
    "for k in range(1, 11):\n",
    "    kmeans = KMeans(n_clusters=k, random_state=27)\n",
    "    kmeans.fit(X)\n",
    "    sse[k] = kmeans.inertia_\n",
    "sns.pointplot(x=list(sse.keys()), y=list(sse.values()))\n",
    "plt.xlabel(\"Number of cluster\")\n",
    "plt.ylabel(\"SSE\")\n",
    "plt.title('Elbow Plot')\n",
    "plt.show()\n",
    "print('3 clusters looks optimal')"
   ]
  },
  {
   "cell_type": "code",
   "execution_count": 67,
   "metadata": {
    "scrolled": false
   },
   "outputs": [
    {
     "name": "stdout",
     "output_type": "stream",
     "text": [
      "   FrequencyCluster  Avg_Purch_Freq\n",
      "0                 0       13.409083\n",
      "1                 2       33.090943\n",
      "2                 1       98.166899\n",
      "\n",
      "\n",
      "   SpendCluster  Avg_Spend ($)\n",
      "0             0      73.077557\n",
      "1             2      26.680657\n",
      "2             1       7.726328\n",
      "\n",
      "\n",
      "   RevenueCluster  Total Spent ($)\n",
      "0               0      1207.000000\n",
      "1               2       300.107607\n",
      "2               1        50.880109\n"
     ]
    }
   ],
   "source": [
    "customer_clusters = pd.DataFrame(marketing[['Avg_Purch_Freq', 'Avg_Spend ($)', 'Total Spent ($)', 'Accept_One', 'Cust_Accept (%)']])\n",
    "### Frequency ###\n",
    "kmeans = KMeans(n_clusters = 3)\n",
    "kmeans.fit(ml[['Avg_Purch_Freq']])\n",
    "customer_clusters['FrequencyCluster'] = kmeans.predict(ml[['Avg_Purch_Freq']])\n",
    "freq = customer_clusters.groupby('FrequencyCluster')[['Avg_Purch_Freq']].mean().sort_values('Avg_Purch_Freq', ascending=True).reset_index(drop=False)\n",
    "print(freq)\n",
    "### Value of each visit ###\n",
    "kmeans = KMeans(n_clusters = 3)\n",
    "kmeans.fit(ml[['Avg_Spend ($)']])\n",
    "customer_clusters['SpendCluster'] = kmeans.labels_\n",
    "print('\\n')\n",
    "spend = customer_clusters.groupby('SpendCluster')[['Avg_Spend ($)']].mean().sort_values('Avg_Spend ($)', ascending=False).reset_index(drop=False)\n",
    "print(spend)\n",
    "### Total Revenue ###\n",
    "kmeans = KMeans(n_clusters = 3)\n",
    "kmeans.fit(ml[['Total Spent ($)']])\n",
    "customer_clusters['RevenueCluster'] = kmeans.labels_\n",
    "print('\\n')\n",
    "revenue = customer_clusters.groupby('RevenueCluster')[['Total Spent ($)']].mean().sort_values('Total Spent ($)', ascending=False).reset_index(drop=False)\n",
    "print(revenue)"
   ]
  },
  {
   "cell_type": "code",
   "execution_count": 68,
   "metadata": {},
   "outputs": [
    {
     "name": "stdout",
     "output_type": "stream",
     "text": [
      "               Avg_Purch_Freq  Avg_Spend ($)  Total Spent ($)  Accept_One  \\\n",
      "Overall_Score                                                               \n",
      "0                   13.432287      71.342715      1492.251064    0.540426   \n",
      "1                   24.622018      59.794796      1226.576560    0.431002   \n",
      "2                   23.839952      31.456801       641.983444    0.245033   \n",
      "3                   36.738250      22.574286       325.222591    0.209302   \n",
      "4                   55.762518      15.725227       154.176871    0.136054   \n",
      "5                   45.451615       8.754029        63.090909    0.144628   \n",
      "6                  101.669086       7.311886        45.309979    0.121019   \n",
      "\n",
      "               Cust_Accept (%)  \n",
      "Overall_Score                   \n",
      "0                    19.645390  \n",
      "1                    12.192817  \n",
      "2                     6.181015  \n",
      "3                     4.429679  \n",
      "4                     2.721088  \n",
      "5                     3.168044  \n",
      "6                     2.476999  \n"
     ]
    }
   ],
   "source": [
    "### Reassigning Cluster Values Before Giving Overall Score to Customers ###\n",
    "for idx, row in customer_clusters.iterrows():\n",
    "    if row['FrequencyCluster'] == freq.loc[0, 'FrequencyCluster']:\n",
    "        customer_clusters.loc[idx, 'FrequencyCluster'] = 0\n",
    "    elif row['FrequencyCluster'] == freq.loc[1, 'FrequencyCluster']:\n",
    "        customer_clusters.loc[idx, 'FrequencyCluster'] = 1\n",
    "    elif row['FrequencyCluster'] == freq.loc[2, 'FrequencyCluster']:\n",
    "        customer_clusters.loc[idx, 'FrequencyCluster'] = 2\n",
    "    if row['SpendCluster'] == spend.loc[0, 'SpendCluster']:\n",
    "        customer_clusters.loc[idx, 'SpendCluster'] = 0\n",
    "    elif row['SpendCluster'] == spend.loc[1, 'SpendCluster']:\n",
    "        customer_clusters.loc[idx, 'SpendCluster'] = 1\n",
    "    elif row['SpendCluster'] == spend.loc[2, 'SpendCluster']:\n",
    "        customer_clusters.loc[idx, 'SpendCluster'] = 2\n",
    "    if row['RevenueCluster'] == revenue.loc[0, 'RevenueCluster']:\n",
    "        customer_clusters.loc[idx, 'RevenueCluster'] = 0\n",
    "    elif row['RevenueCluster'] == revenue.loc[1, 'RevenueCluster']:\n",
    "        customer_clusters.loc[idx, 'RevenueCluster'] = 1\n",
    "    elif row['RevenueCluster'] == revenue.loc[2, 'RevenueCluster']:\n",
    "        customer_clusters.loc[idx, 'RevenueCluster'] = 2\n",
    "\n",
    "### Calculating Each Customer's Overall Score ###\n",
    "customer_clusters['Overall_Score'] = customer_clusters['FrequencyCluster'] + customer_clusters['SpendCluster'] + customer_clusters['RevenueCluster']\n",
    "customer_clusters = customer_clusters.drop(['FrequencyCluster', 'SpendCluster', 'RevenueCluster'], axis=1)\n",
    "print(customer_clusters.groupby('Overall_Score').mean())"
   ]
  },
  {
   "cell_type": "code",
   "execution_count": 69,
   "metadata": {},
   "outputs": [
    {
     "name": "stdout",
     "output_type": "stream",
     "text": [
      "Low       860\n",
      "High      764\n",
      "Medium    603\n",
      "Name: Customer_Value, dtype: int64\n"
     ]
    }
   ],
   "source": [
    "### Assigning Customer Value Groups ###\n",
    "customer_clusters['Customer_Value'] = ''\n",
    "for idx, row in customer_clusters.iterrows():\n",
    "    if row['Overall_Score'] == 0 or row['Overall_Score'] == 1:\n",
    "        customer_clusters.loc[idx, 'Customer_Value'] = 'High'\n",
    "    if row['Overall_Score'] == 2 or row['Overall_Score'] == 3:\n",
    "        customer_clusters.loc[idx, 'Customer_Value'] = 'Medium'\n",
    "    if row['Overall_Score'] == 4 or row['Overall_Score'] == 5 or row['Overall_Score'] == 6:\n",
    "        customer_clusters.loc[idx, 'Customer_Value'] = 'Low'\n",
    "customer_clusters.drop('Overall_Score', axis=1)\n",
    "print(customer_clusters['Customer_Value'].value_counts())"
   ]
  },
  {
   "cell_type": "code",
   "execution_count": 76,
   "metadata": {},
   "outputs": [
    {
     "data": {
      "text/plain": [
       "<seaborn.axisgrid.PairGrid at 0x1cde479de88>"
      ]
     },
     "execution_count": 76,
     "metadata": {},
     "output_type": "execute_result"
    },
    {
     "data": {
      "image/png": "[encoded data removed]",
      "text/plain": [
       "<Figure size 449.625x360 with 1 Axes>"
      ]
     },
     "metadata": {
      "needs_background": "light"
     },
     "output_type": "display_data"
    },
    {
     "data": {
      "image/png": "[encoded data removed]",
      "text/plain": [
       "<Figure size 449.625x360 with 1 Axes>"
      ]
     },
     "metadata": {
      "needs_background": "light"
     },
     "output_type": "display_data"
    },
    {
     "data": {
      "image/png": "[encoded data removed]",
      "text/plain": [
       "<Figure size 449.625x360 with 1 Axes>"
      ]
     },
     "metadata": {
      "needs_background": "light"
     },
     "output_type": "display_data"
    }
   ],
   "source": [
    "### Frequency vs Revenue ###\n",
    "sns.pairplot(x_vars=[\"Total Spent ($)\"], y_vars=[\"Avg_Purch_Freq\"], data=customer_clusters, hue=\"Customer_Value\", size=5)\n",
    "sns.pairplot(x_vars=[\"Total Spent ($)\"], y_vars=[\"Avg_Spend ($)\"], data=customer_clusters, hue=\"Customer_Value\", size=5)\n",
    "sns.pairplot(x_vars=[\"Avg_Spend ($)\"], y_vars=[\"Avg_Purch_Freq\"], data=customer_clusters, hue=\"Customer_Value\", size=5)\n"
   ]
  },
  {
   "cell_type": "markdown",
   "metadata": {},
   "source": [
    "We see that one particular group had 43% of customers accept the offer at least once while also containing an average customer acceptance percentage of 14%. \n",
    "\n",
    "The next most promising group had 28% of customers accept the offer at least once while also containing an average customer acceptance percentage of 7%.\n",
    "\n",
    "Least promising group had 13% of customers accept the offer at least once while also containing an average customer acceptance percentage of 3%. "
   ]
  },
  {
   "cell_type": "markdown",
   "metadata": {},
   "source": [
    "**Classification - 1)Predict Acceptance of one offer  2) Predict Likelihood Group (least likely/more likely/most likely)**"
   ]
  },
  {
   "cell_type": "markdown",
   "metadata": {},
   "source": [
    "**----------------------Imbalanced----------------------------**"
   ]
  },
  {
   "cell_type": "code",
   "execution_count": 517,
   "metadata": {},
   "outputs": [
    {
     "data": {
      "image/png": "[encoded data removed]",
      "text/plain": [
       "<Figure size 432x288 with 1 Axes>"
      ]
     },
     "metadata": {
      "needs_background": "light"
     },
     "output_type": "display_data"
    },
    {
     "name": "stdout",
     "output_type": "stream",
     "text": [
      "0    1623\n",
      "1     604\n",
      "Name: Accept_One, dtype: int64\n"
     ]
    }
   ],
   "source": [
    "### Imbalanced Classification Targets ###\n",
    "my_colors = ['red', 'green']\n",
    "marketing['Accept_One'].value_counts().plot(kind='bar', color=my_colors)\n",
    "plt.ylabel('Count')\n",
    "plt.show()\n",
    "print(marketing['Accept_One'].value_counts())"
   ]
  },
  {
   "cell_type": "code",
   "execution_count": null,
   "metadata": {},
   "outputs": [],
   "source": [
    "### RandomForest ###\n",
    "\n",
    "from sklearn.model_selection import train_test_split\n",
    "from sklearn.ensemble import RandomForestClassifier\n",
    "from sklearn.model_selection import GridSearchCV\n",
    "from sklearn.model_selection import RandomizedSearchCV\n",
    "from sklearn.metrics import classification_report\n",
    "from sklearn.metrics import confusion_matrix\n",
    "from sklearn.metrics import roc_curve, auc\n",
    "from sklearn.metrics import f1_score, make_scorer\n",
    "\n",
    "f1_scorer = make_scorer(f1_score)\n",
    "\n",
    "def rf_feat_importance(m, df):\n",
    "    return pd.DataFrame({'cols':df.columns, 'imp':m.feature_importances_}).sort_values('imp', ascending=False)\n",
    "\n",
    "def plot_fi(fi): \n",
    "    return fi.plot('cols', 'imp', 'barh', figsize=(12,7), legend=False)\n",
    "\n",
    "X = ml.values\n",
    "y = marketing['Accept_One'].values\n",
    "X_train, X_test, y_train, y_test = train_test_split(X, y, test_size=.25, random_state=42)\n",
    "clf = RandomForestClassifier(n_jobs=-1, oob_score=True, random_state=27)\n",
    "grid_search = GridSearchCV(clf, \n",
    "                           param_grid={\n",
    "                                       \"n_estimators\": [100, 200, 400, 600],\n",
    "                                       \"min_samples_leaf\": [3, 2, 1, .5, .1],\n",
    "                                       \"max_features\": ['sqrt', 'log2', .5, None]\n",
    "                                       },\n",
    "                           n_jobs=-1, scoring=f1_scorer,\n",
    "                           cv=5,\n",
    "                           iid=False, # just return the average score across folds\n",
    "                           return_train_score=False)\n",
    "grid_search.fit(X_train, y_train)\n",
    "best_clf = grid_search.best_estimator_\n",
    "y_pred_test = best_clf.predict(X_test)\n",
    "fi = rf_feat_importance(best_clf, categorical)\n",
    "plot_fi(fi)\n",
    "plt.show()\n",
    "\n",
    "print('\\nOOB Score: ', best_clf.oob_score_)\n",
    "print('\\nBest Params:', grid_search.best_params_)\n",
    "print('\\nTesting Accuracy:', best_clf.score(X_test, y_test))\n",
    "print(classification_report(y_test, y_pred_test))\n",
    "print(confusion_matrix(y_test, y_pred_test))\n",
    "false_positive_rate, true_positive_rate, thresholds = roc_curve(y_test, y_pred_test)\n",
    "roc_auc = auc(false_positive_rate, true_positive_rate)\n",
    "print('\\nROC_AUC: ', roc_auc)"
   ]
  },
  {
   "cell_type": "markdown",
   "metadata": {},
   "source": [
    "\n",
    "**Summary of XBG Hyperparameter tuning steps I took for each XGboost model**"
   ]
  },
  {
   "cell_type": "code",
   "execution_count": null,
   "metadata": {},
   "outputs": [],
   "source": [
    "### Gradient Boosting ####\n",
    "\n",
    "xgb = XGBClassifier(learning_rate=.125, n_estimators=90, subsample=.8, max_features='sqrt', max_depth=5, min_samples_split=.85,\n",
    "                    min_samples_leaf=25,random_state=27)\n",
    "xgb.fit(X_train, y_train)\n",
    "y_pred_test = xgb.predict(X_test)\n",
    "print('\\nTesting Accuracy:', xgb.score(X_test, y_test))\n",
    "print(classification_report(y_test, y_pred_test))\n",
    "print(confusion_matrix(y_test, y_pred_test))\n",
    "false_positive_rate, true_positive_rate, thresholds = roc_curve(y_test, y_pred_test)\n",
    "roc_auc = auc(false_positive_rate, true_positive_rate)\n",
    "print('\\nROC_AUC: ', roc_auc)"
   ]
  },
  {
   "cell_type": "markdown",
   "metadata": {},
   "source": [
    "**--------------------Undersampling----------------------------**"
   ]
  },
  {
   "cell_type": "code",
   "execution_count": null,
   "metadata": {},
   "outputs": [],
   "source": [
    "### Undersampling ###\n",
    "from imblearn.under_sampling import RandomUnderSampler\n",
    "rus = RandomUnderSampler(random_state=0)\n",
    "X_resampled, y_resampled = rus.fit_resample(X_train, y_train)\n",
    "acceptance = pd.Series(y_resampled)\n",
    "acceptance.value_counts().reset_index(drop=True).plot(kind='bar', color=my_colors)\n",
    "plt.xlabel('Accepted At Least One of Six Offers')\n",
    "plt.ylabel('Count')\n",
    "plt.xticks([0, 1])\n",
    "plt.show()\n",
    "print('Acceptance Value Counts')\n",
    "print(acceptance.value_counts())\n"
   ]
  },
  {
   "cell_type": "code",
   "execution_count": null,
   "metadata": {},
   "outputs": [],
   "source": [
    "### Random Forest Classifier Using Undersampling ###\n",
    "clf = RandomForestClassifier(n_jobs=-1, oob_score=True, random_state=27)\n",
    "grid_search = GridSearchCV(clf, \n",
    "                           param_grid={\n",
    "                                       \"n_estimators\": [100, 200, 400, 600],\n",
    "                                       \"min_samples_leaf\": [3, 2, 1, .5, .1],\n",
    "                                       \"max_features\": ['sqrt', 'log2', .5, None]\n",
    "                                       },\n",
    "                           n_jobs=-1, scoring=f1_scorer,\n",
    "                           cv=4,\n",
    "                           iid=False, # just return the average score across folds\n",
    "                           return_train_score=False)\n",
    "grid_search.fit(X_resampled, y_resampled)\n",
    "best_clf = grid_search.best_estimator_\n",
    "y_pred_test = best_clf.predict(X_test)\n",
    "fi = rf_feat_importance(best_clf, categorical)\n",
    "plot_fi(fi)\n",
    "plt.show()\n",
    "\n",
    "print('\\nOOB Score: ', best_clf.oob_score_)\n",
    "print('\\nBest Params:', grid_search.best_params_)\n",
    "print('\\nTesting Accuracy:', best_clf.score(X_test, y_test))\n",
    "print(classification_report(y_test, y_pred_test))\n",
    "print(confusion_matrix(y_test, y_pred_test))\n",
    "false_positive_rate, true_positive_rate, thresholds = roc_curve(y_test, y_pred_test)\n",
    "roc_auc = auc(false_positive_rate, true_positive_rate)\n",
    "print('\\nROC_AUC: ', roc_auc)"
   ]
  },
  {
   "cell_type": "code",
   "execution_count": null,
   "metadata": {},
   "outputs": [],
   "source": [
    "### Gradient Boost Classifier Using Undersampling ###\n",
    "\n",
    "xgb = XGBClassifier(learning_rate=.025, n_estimators=160, subsample=.75, max_features='sqrt', max_depth=12, min_samples_split=.82,\n",
    "                    min_samples_leaf=50,random_state=27)\n",
    "xgb.fit(X_resampled, y_resampled)\n",
    "y_pred_test = xgb.predict(X_test)\n",
    "print('\\nTesting Accuracy:', xgb.score(X_test, y_test))\n",
    "print(classification_report(y_test, y_pred_test))\n",
    "print(confusion_matrix(y_test, y_pred_test))\n",
    "false_positive_rate, true_positive_rate, thresholds = roc_curve(y_test, y_pred_test)\n",
    "roc_auc = auc(false_positive_rate, true_positive_rate)\n",
    "print('\\nROC_AUC: ', roc_auc)\n"
   ]
  },
  {
   "cell_type": "markdown",
   "metadata": {},
   "source": [
    "**-------------------Oversampling---------------------------------**"
   ]
  },
  {
   "cell_type": "code",
   "execution_count": null,
   "metadata": {},
   "outputs": [],
   "source": [
    "### Oversampling ###\n",
    "from imblearn.over_sampling import SMOTE\n",
    "\n",
    "smote = SMOTE(ratio='minority', n_jobs=-1, random_state=47)\n",
    "X_sm, y_sm = smote.fit_resample(X_train, y_train)\n",
    "acceptance = pd.Series(y_sm)\n",
    "acceptance.value_counts().reset_index(drop=True).plot(kind='bar', color=my_colors)\n",
    "plt.xlabel('Accepted At Least One of Six Offers')\n",
    "plt.ylabel('Count')\n",
    "plt.show()\n",
    "print(acceptance.value_counts())"
   ]
  },
  {
   "cell_type": "code",
   "execution_count": null,
   "metadata": {
    "scrolled": false
   },
   "outputs": [],
   "source": [
    "### Random Forest Classifier Using Oversampling ###\n",
    "clf = RandomForestClassifier(n_jobs=-1, oob_score=True, random_state=27)\n",
    "grid_search = GridSearchCV(clf, \n",
    "                           param_grid={\n",
    "                                       \"n_estimators\": [100, 200, 400, 600],\n",
    "                                       \"min_samples_leaf\": [3, 2, 1, .5, .1],\n",
    "                                       \"max_features\": ['sqrt', 'log2', .5, None]\n",
    "                                       },\n",
    "                           n_jobs=-1, scoring=f1_scorer,\n",
    "                           cv=6,\n",
    "                           iid=False, # just return the average score across folds\n",
    "                           return_train_score=False)\n",
    "grid_search.fit(X_sm, y_sm)\n",
    "best_clf = grid_search.best_estimator_\n",
    "y_pred_test = best_clf.predict(X_test)\n",
    "fi = rf_feat_importance(best_clf, categorical)\n",
    "\n",
    "\n",
    "plot_fi(fi)\n",
    "plt.show()\n",
    "\n",
    "print('\\nOOB Score: ', best_clf.oob_score_)\n",
    "print('\\nBest Params:', grid_search.best_params_)\n",
    "print('\\nTesting Accuracy:', best_clf.score(X_test, y_test))\n",
    "print(classification_report(y_test, y_pred_test))\n",
    "print(confusion_matrix(y_test, y_pred_test))\n",
    "false_positive_rate, true_positive_rate, thresholds = roc_curve(y_test, y_pred_test)\n",
    "roc_auc = auc(false_positive_rate, true_positive_rate)\n",
    "print('\\nROC_AUC: ', roc_auc)"
   ]
  },
  {
   "cell_type": "code",
   "execution_count": null,
   "metadata": {},
   "outputs": [],
   "source": [
    "### Gradient Boost Classifier Using Oversampling ###\n",
    "from xgboost import XGBClassifier\n",
    "\n",
    "\n",
    "xgb = XGBClassifier(learning_rate = .0025, n_estimators = 1800, subsample=.8, max_features='sqrt', max_depth=18, min_samples_split=.224,\n",
    "                    min_samples_leaf=40,random_state=27)\n",
    "xgb.fit(X_sm, y_sm)\n",
    "y_pred_test = xgb.predict(X_test)\n",
    "feat_imp = pd.Series(xgb.feature_importances_, categorical.columns).sort_values(ascending=False)\n",
    "feat_imp.plot(kind='bar', title='Feature Importances')\n",
    "plt.ylabel('Feature Importance Score')\n",
    "plt.show()\n",
    "print('\\nTesting Accuracy:', xgb.score(X_test, y_test))\n",
    "print(classification_report(y_test, y_pred_test))\n",
    "print(confusion_matrix(y_test, y_pred_test))\n",
    "false_positive_rate, true_positive_rate, thresholds = roc_curve(y_test, y_pred_test)\n",
    "roc_auc = auc(false_positive_rate, true_positive_rate)\n",
    "print('\\nROC_AUC: ', roc_auc)\n"
   ]
  },
  {
   "cell_type": "markdown",
   "metadata": {},
   "source": [
    "**After classifying a customer as Accepted (1), classify their offer acceptance rate (indicates customers that are most likely to accept the offer each time it is sent out)**"
   ]
  },
  {
   "cell_type": "code",
   "execution_count": null,
   "metadata": {},
   "outputs": [],
   "source": [
    "### Sclicing to only included customers who accepted at least one offer ###\n",
    "marketing = pd.read_csv('Cust_Records.csv')\n",
    "marketing_accept = marketing.loc[marketing['Accept_One'] == 1].reset_index(drop=True)\n",
    "\n",
    "### Distribution of Those Who Accepted At Least One Offer ###\n",
    "my_colors = ['blue', 'red', 'green', 'orange', 'purple']\n",
    "new = marketing_accept.groupby('Accept_Rate')['Accept_One'].count().reset_index()\n",
    "new.columns = ['Accept_Rate', '# Customers']\n",
    "marketing_accept.groupby('Accept_Rate')['Accept_Rate'].count().plot(kind='bar', color=my_colors)\n",
    "plt.xlabel('Acceptance Rate')\n",
    "plt.ylabel('Count')\n",
    "plt.show()\n",
    "print(new)\n"
   ]
  },
  {
   "cell_type": "markdown",
   "metadata": {},
   "source": [
    "**Will Split Acceptance Rate into THREE groups \"Least Likely\"(1 - Accept Only 1/6), \"More Likely\"(2 - Accept 2/6 or 3/6), \"Most Likely\" (3 - Accept 4/6 or 5/6). "
   ]
  },
  {
   "cell_type": "code",
   "execution_count": null,
   "metadata": {},
   "outputs": [],
   "source": [
    "### Numerically Encoding the three likelihood groups ^ with Accept_Rate ###\n",
    "\n",
    "for idx, row in marketing_accept.iterrows():\n",
    "    if row['Accept_Rate'] == '(1/6)':\n",
    "        marketing_accept.loc[idx, 'Accept_Rate'] = 1\n",
    "    elif row['Accept_Rate'] == '(2/6)' or row['Accept_Rate'] == '(3/6)':\n",
    "        marketing_accept.loc[idx, 'Accept_Rate'] = 2\n",
    "    elif row['Accept_Rate'] == '(4/6)' or row['Accept_Rate'] == '(5/6)':\n",
    "        marketing_accept.loc[idx, 'Accept_Rate'] = 3\n",
    "    \n",
    "marketing_ml_accept = marketing_accept.drop(['Accept_One', 'Accept_Rate', 'Cust_Accept (%)'], axis=1)\n",
    "\n",
    "## Unskewing Data with Log(1 + x) transform ###\n",
    "unskewed = marketing_ml_accept[['Age', 'Income', 'Children',\n",
    "       'Wine ($)', 'Fruit ($)', 'Meat ($)', 'Fish ($)', 'Sweets ($)',\n",
    "       'Gold_Products ($)', 'Discount_Purchases', 'Web_Purchases',\n",
    "       'Catalog_Purchases', 'Store_Purchases', 'Days_Enrolled',\n",
    "       'Avg_Purch_Freq', 'Avg_Spend ($)']]\n",
    "unskewed = np.log1p(unskewed)\n",
    "unskewed = pd.DataFrame(unskewed)\n",
    "\n",
    "### Scaling Numerical Features ###\n",
    "scaler = StandardScaler()\n",
    "numerical = scaler.fit_transform(unskewed)\n",
    "numerical = pd.DataFrame(numerical)\n",
    "### Numerically Encoding Categorical Features ###\n",
    "categorical = pd.get_dummies(data=marketing_ml_accept, columns=['Education', 'Relationship_Status'], drop_first=False)\n",
    "### Appending the categorical features to end on unskewed DF ###\n",
    "ml_accept = numerical.join(categorical[['Education_2n Cycle', 'Education_Basic', 'Education_Graduation',\n",
    "       'Education_Master', 'Education_PhD', 'Relationship_Status_Divorced',\n",
    "       'Relationship_Status_In-Relationship', 'Relationship_Status_Married',\n",
    "       'Relationship_Status_Single', 'Relationship_Status_Widow']], how='right')"
   ]
  },
  {
   "cell_type": "code",
   "execution_count": null,
   "metadata": {},
   "outputs": [],
   "source": [
    "### Classifier for Accept_Rate - Gradient Boosting ###\n",
    "\n",
    "X = ml_accept.values\n",
    "y = marketing_accept['Accept_Rate']\n",
    "X_train, X_test, y_train, y_test = train_test_split(X, y, test_size=.15, random_state=42)\n",
    "\n",
    "new = marketing_accept.groupby('Accept_Rate')['Accept_One'].count().reset_index()\n",
    "new.columns = ['Acceptance-Likelihood Group', '# Customers']\n",
    "print('Imbalanced Multiclass Problem')\n",
    "marketing_accept.groupby('Accept_Rate')['Accept_Rate'].count().plot(kind='bar', color=my_colors)\n",
    "plt.xlabel('Acceptance-Likelihood Group')\n",
    "plt.ylabel('Count')\n",
    "plt.show()\n",
    "print(new.to_string(index=False))\n",
    "\n",
    "### SMOTE ###\n",
    "from imblearn.over_sampling import SMOTE\n",
    "print('\\nOversampling')\n",
    "sm = SMOTE(n_jobs=-1, random_state=47)\n",
    "X_sm, y_sm = sm.fit_resample(X_train, y_train)\n",
    "acceptance = pd.Series(y_sm)\n",
    "acceptance.value_counts().sort_index().plot(kind='bar', color=my_colors)\n",
    "plt.xlabel('Acceptance-Likelihood Group')\n",
    "plt.ylabel('Count')\n",
    "plt.show()\n",
    "print(acceptance.value_counts().sort_index())"
   ]
  },
  {
   "cell_type": "code",
   "execution_count": null,
   "metadata": {},
   "outputs": [],
   "source": [
    "### Gradient Boosting - Predicting Acceptance Likelihood Group (no hyperparameter tuning) ###\n",
    "\n",
    "xgb = XGBClassifier()\n",
    "xgb.fit(X_sm, y_sm)\n",
    "y_pred_test = xgb.predict(X_test)\n",
    "print('\\nTesting Accuracy:', xgb.score(X_test, y_test))\n",
    "print(classification_report(y_test, y_pred_test))\n",
    "print(confusion_matrix(y_test, y_pred_test))"
   ]
  },
  {
   "cell_type": "code",
   "execution_count": null,
   "metadata": {},
   "outputs": [],
   "source": [
    "### Gradient Boosting - Predicting Acceptance Likelihood Group (hyperparameter tuning) ###\n",
    "\n",
    "\n",
    "xgb = XGBClassifier(learning_rate=.005, n_estimators=1250, subsample=.75, max_features='sqrt', max_depth=22, min_samples_split=.524, num_class=3, objective='multi:softmax',\n",
    "                    min_samples_leaf=25, random_state=27)\n",
    "xgb.fit(X_sm, y_sm)\n",
    "y_pred_test = xgb.predict(X_test)\n",
    "print('\\nTesting Accuracy:', xgb.score(X_test, y_test))\n",
    "print(classification_report(y_test, y_pred_test))\n",
    "print(confusion_matrix(y_test, y_pred_test))"
   ]
  }
 ],
 "metadata": {
  "kernelspec": {
   "display_name": "Python 3",
   "language": "python",
   "name": "python3"
  },
  "language_info": {
   "codemirror_mode": {
    "name": "ipython",
    "version": 3
   },
   "file_extension": ".py",
   "mimetype": "text/x-python",
   "name": "python",
   "nbconvert_exporter": "python",
   "pygments_lexer": "ipython3",
   "version": "3.7.4"
  }
 },
 "nbformat": 4,
 "nbformat_minor": 2
}
