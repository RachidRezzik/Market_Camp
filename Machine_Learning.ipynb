{
 "cells": [
  {
   "cell_type": "code",
   "execution_count": 1,
   "metadata": {},
   "outputs": [],
   "source": [
    "import pandas as pd\n",
    "import numpy as np\n",
    "from sklearn.model_selection import train_test_split\n",
    "import seaborn as sns\n",
    "import matplotlib.pyplot as plt\n",
    "\n",
    "\n",
    "def warn(*args, **kwargs):\n",
    "    pass\n",
    "import warnings\n",
    "warnings.warn = warn"
   ]
  },
  {
   "cell_type": "code",
   "execution_count": 2,
   "metadata": {},
   "outputs": [
    {
     "data": {
      "text/plain": [
       "Index(['Age', 'Education', 'Relationship_Status', 'Income', 'Children',\n",
       "       'Wine ($)', 'Fruit ($)', 'Meat ($)', 'Fish ($)', 'Sweets ($)',\n",
       "       'Gold_Products ($)', 'Discount_Purchases', 'Web_Purchases',\n",
       "       'Catalog_Purchases', 'Store_Purchases', 'Days_Enrolled',\n",
       "       'Avg_Purch_Freq', 'Avg_Spend ($)', 'Accept_One', 'Cust_Accept (%)'],\n",
       "      dtype='object')"
      ]
     },
     "execution_count": 2,
     "metadata": {},
     "output_type": "execute_result"
    }
   ],
   "source": [
    "marketing = pd.read_csv('Cust_Records.csv')\n",
    "marketing.columns"
   ]
  },
  {
   "cell_type": "code",
   "execution_count": 3,
   "metadata": {
    "scrolled": true
   },
   "outputs": [
    {
     "name": "stdout",
     "output_type": "stream",
     "text": [
      "<class 'pandas.core.frame.DataFrame'>\n",
      "RangeIndex: 2227 entries, 0 to 2226\n",
      "Data columns (total 20 columns):\n",
      "Age                    2227 non-null int64\n",
      "Education              2227 non-null object\n",
      "Relationship_Status    2227 non-null object\n",
      "Income                 2227 non-null float64\n",
      "Children               2227 non-null int64\n",
      "Wine ($)               2227 non-null int64\n",
      "Fruit ($)              2227 non-null int64\n",
      "Meat ($)               2227 non-null int64\n",
      "Fish ($)               2227 non-null int64\n",
      "Sweets ($)             2227 non-null int64\n",
      "Gold_Products ($)      2227 non-null int64\n",
      "Discount_Purchases     2227 non-null int64\n",
      "Web_Purchases          2227 non-null int64\n",
      "Catalog_Purchases      2227 non-null int64\n",
      "Store_Purchases        2227 non-null int64\n",
      "Days_Enrolled          2227 non-null float64\n",
      "Avg_Purch_Freq         2227 non-null float64\n",
      "Avg_Spend ($)          2227 non-null float64\n",
      "Accept_One             2227 non-null int64\n",
      "Cust_Accept (%)        2227 non-null float64\n",
      "dtypes: float64(5), int64(13), object(2)\n",
      "memory usage: 348.1+ KB\n"
     ]
    }
   ],
   "source": [
    "marketing.info()"
   ]
  },
  {
   "cell_type": "markdown",
   "metadata": {},
   "source": [
    "*Preprocessing for Customer Segmentation / Classification / Regression Below*"
   ]
  },
  {
   "cell_type": "code",
   "execution_count": 4,
   "metadata": {},
   "outputs": [],
   "source": [
    "from sklearn.preprocessing import StandardScaler\n",
    "from scipy import stats\n",
    "\n",
    "marketing_ml = marketing.drop(['Accept_One', 'Cust_Accept (%)'], axis=1)\n",
    "\n",
    "## Unskewing Data with Log(1 + x) transform ###\n",
    "unskewed = marketing_ml[['Age', 'Income', 'Children',\n",
    "       'Wine ($)', 'Fruit ($)', 'Meat ($)', 'Fish ($)', 'Sweets ($)',\n",
    "       'Gold_Products ($)', 'Discount_Purchases', 'Web_Purchases',\n",
    "       'Catalog_Purchases', 'Store_Purchases', 'Days_Enrolled',\n",
    "       'Avg_Purch_Freq', 'Avg_Spend ($)']]\n",
    "unskewed = np.log1p(unskewed)\n",
    "unskewed = pd.DataFrame(unskewed)\n",
    "\n",
    "### Scaling Numerical Features ###\n",
    "scaler = StandardScaler()\n",
    "numerical = scaler.fit_transform(unskewed)\n",
    "numerical = pd.DataFrame(numerical)\n",
    "\n",
    "### Numerically Encoding Categorical Features ###\n",
    "categorical = pd.get_dummies(data=marketing_ml, columns=['Education', 'Relationship_Status'], drop_first=False)\n",
    "\n",
    "### Appending the categorical features to end on unskewed DF ###\n",
    "ml = numerical.join(categorical[['Education_2n Cycle', 'Education_Basic', 'Education_Graduation',\n",
    "       'Education_Master', 'Education_PhD', 'Relationship_Status_Divorced',\n",
    "       'Relationship_Status_In-Relationship', 'Relationship_Status_Married',\n",
    "       'Relationship_Status_Single', 'Relationship_Status_Widow']])"
   ]
  },
  {
   "cell_type": "code",
   "execution_count": 5,
   "metadata": {},
   "outputs": [
    {
     "data": {
      "text/plain": [
       "Text(0.5, 1.0, 'Elbow Plot')"
      ]
     },
     "execution_count": 5,
     "metadata": {},
     "output_type": "execute_result"
    },
    {
     "data": {
      "image/png": "[encoded data removed]",
      "text/plain": [
       "<Figure size 432x288 with 1 Axes>"
      ]
     },
     "metadata": {
      "needs_background": "light"
     },
     "output_type": "display_data"
    }
   ],
   "source": [
    "from sklearn.cluster import KMeans\n",
    "import seaborn as sns\n",
    "\n",
    "X = ml\n",
    "sse = {}\n",
    "for k in range(1, 11):\n",
    "    kmeans = KMeans(n_clusters=k, random_state=27)\n",
    "    kmeans.fit(X)\n",
    "    sse[k] = kmeans.inertia_\n",
    "sns.pointplot(x=list(sse.keys()), y=list(sse.values()))\n",
    "plt.xlabel(\"Number of cluster\")\n",
    "plt.ylabel(\"SSE\")\n",
    "plt.title('Elbow Plot')"
   ]
  },
  {
   "cell_type": "code",
   "execution_count": 6,
   "metadata": {
    "scrolled": false
   },
   "outputs": [
    {
     "name": "stdout",
     "output_type": "stream",
     "text": [
      "Cluster Counts\n",
      "2    853\n",
      "1    722\n",
      "0    652\n",
      "Name: Cluster, dtype: int64\n",
      "\n",
      "Numerical Data - Grouped by Cluster (Means)\n"
     ]
    },
    {
     "data": {
      "text/html": [
       "<div>\n",
       "<style scoped>\n",
       "    .dataframe tbody tr th:only-of-type {\n",
       "        vertical-align: middle;\n",
       "    }\n",
       "\n",
       "    .dataframe tbody tr th {\n",
       "        vertical-align: top;\n",
       "    }\n",
       "\n",
       "    .dataframe thead th {\n",
       "        text-align: right;\n",
       "    }\n",
       "</style>\n",
       "<table border=\"1\" class=\"dataframe\">\n",
       "  <thead>\n",
       "    <tr style=\"text-align: right;\">\n",
       "      <th></th>\n",
       "      <th>Age</th>\n",
       "      <th>Income</th>\n",
       "      <th>Children</th>\n",
       "      <th>Wine ($)</th>\n",
       "      <th>Fruit ($)</th>\n",
       "      <th>Meat ($)</th>\n",
       "      <th>Fish ($)</th>\n",
       "      <th>Sweets ($)</th>\n",
       "      <th>Gold_Products ($)</th>\n",
       "      <th>Discount_Purchases</th>\n",
       "      <th>Web_Purchases</th>\n",
       "      <th>Catalog_Purchases</th>\n",
       "      <th>Store_Purchases</th>\n",
       "      <th>Days_Enrolled</th>\n",
       "      <th>Avg_Purch_Freq</th>\n",
       "      <th>Avg_Spend ($)</th>\n",
       "      <th>Accept_One</th>\n",
       "      <th>Cust_Accept (%)</th>\n",
       "    </tr>\n",
       "    <tr>\n",
       "      <th>Cluster</th>\n",
       "      <th></th>\n",
       "      <th></th>\n",
       "      <th></th>\n",
       "      <th></th>\n",
       "      <th></th>\n",
       "      <th></th>\n",
       "      <th></th>\n",
       "      <th></th>\n",
       "      <th></th>\n",
       "      <th></th>\n",
       "      <th></th>\n",
       "      <th></th>\n",
       "      <th></th>\n",
       "      <th></th>\n",
       "      <th></th>\n",
       "      <th></th>\n",
       "      <th></th>\n",
       "      <th></th>\n",
       "    </tr>\n",
       "  </thead>\n",
       "  <tbody>\n",
       "    <tr>\n",
       "      <td>0</td>\n",
       "      <td>48.415644</td>\n",
       "      <td>53925.580408</td>\n",
       "      <td>1.271472</td>\n",
       "      <td>356.641104</td>\n",
       "      <td>14.311350</td>\n",
       "      <td>107.467791</td>\n",
       "      <td>19.226994</td>\n",
       "      <td>14.943252</td>\n",
       "      <td>48.857362</td>\n",
       "      <td>3.944785</td>\n",
       "      <td>5.544479</td>\n",
       "      <td>2.489264</td>\n",
       "      <td>6.639571</td>\n",
       "      <td>473.257669</td>\n",
       "      <td>27.373839</td>\n",
       "      <td>28.665282</td>\n",
       "      <td>0.280675</td>\n",
       "      <td>6.543967</td>\n",
       "    </tr>\n",
       "    <tr>\n",
       "      <td>1</td>\n",
       "      <td>45.970914</td>\n",
       "      <td>72660.262605</td>\n",
       "      <td>0.315789</td>\n",
       "      <td>588.490305</td>\n",
       "      <td>63.934903</td>\n",
       "      <td>394.867036</td>\n",
       "      <td>92.522161</td>\n",
       "      <td>65.000000</td>\n",
       "      <td>76.650970</td>\n",
       "      <td>1.447368</td>\n",
       "      <td>5.452909</td>\n",
       "      <td>5.483380</td>\n",
       "      <td>8.469529</td>\n",
       "      <td>473.970914</td>\n",
       "      <td>23.935387</td>\n",
       "      <td>63.497101</td>\n",
       "      <td>0.426593</td>\n",
       "      <td>13.850416</td>\n",
       "    </tr>\n",
       "    <tr>\n",
       "      <td>2</td>\n",
       "      <td>41.783118</td>\n",
       "      <td>32789.066114</td>\n",
       "      <td>1.245018</td>\n",
       "      <td>24.318875</td>\n",
       "      <td>3.720985</td>\n",
       "      <td>18.848769</td>\n",
       "      <td>5.234467</td>\n",
       "      <td>4.490035</td>\n",
       "      <td>12.906213</td>\n",
       "      <td>1.841735</td>\n",
       "      <td>1.839390</td>\n",
       "      <td>0.424385</td>\n",
       "      <td>2.909730</td>\n",
       "      <td>481.307151</td>\n",
       "      <td>77.834633</td>\n",
       "      <td>9.415135</td>\n",
       "      <td>0.132474</td>\n",
       "      <td>2.735444</td>\n",
       "    </tr>\n",
       "  </tbody>\n",
       "</table>\n",
       "</div>"
      ],
      "text/plain": [
       "               Age        Income  Children    Wine ($)  Fruit ($)    Meat ($)  \\\n",
       "Cluster                                                                         \n",
       "0        48.415644  53925.580408  1.271472  356.641104  14.311350  107.467791   \n",
       "1        45.970914  72660.262605  0.315789  588.490305  63.934903  394.867036   \n",
       "2        41.783118  32789.066114  1.245018   24.318875   3.720985   18.848769   \n",
       "\n",
       "          Fish ($)  Sweets ($)  Gold_Products ($)  Discount_Purchases  \\\n",
       "Cluster                                                                 \n",
       "0        19.226994   14.943252          48.857362            3.944785   \n",
       "1        92.522161   65.000000          76.650970            1.447368   \n",
       "2         5.234467    4.490035          12.906213            1.841735   \n",
       "\n",
       "         Web_Purchases  Catalog_Purchases  Store_Purchases  Days_Enrolled  \\\n",
       "Cluster                                                                     \n",
       "0             5.544479           2.489264         6.639571     473.257669   \n",
       "1             5.452909           5.483380         8.469529     473.970914   \n",
       "2             1.839390           0.424385         2.909730     481.307151   \n",
       "\n",
       "         Avg_Purch_Freq  Avg_Spend ($)  Accept_One  Cust_Accept (%)  \n",
       "Cluster                                                              \n",
       "0             27.373839      28.665282    0.280675         6.543967  \n",
       "1             23.935387      63.497101    0.426593        13.850416  \n",
       "2             77.834633       9.415135    0.132474         2.735444  "
      ]
     },
     "execution_count": 6,
     "metadata": {},
     "output_type": "execute_result"
    }
   ],
   "source": [
    "kmeans = KMeans(n_clusters = 3)\n",
    "kmeans.fit(ml)\n",
    "labels = kmeans.labels_\n",
    "marketing['Cluster'] = labels\n",
    "print('Cluster Counts')\n",
    "print(marketing['Cluster'].value_counts())\n",
    "print('\\nNumerical Data - Grouped by Cluster (Means)')\n",
    "marketing.groupby('Cluster').mean()"
   ]
  },
  {
   "cell_type": "markdown",
   "metadata": {},
   "source": [
    "We see that one particular group had 43% of customers accept the offer at least once while also containing an average customer acceptance percentage of 14%. \n",
    "\n",
    "The next most promising group had 28% of customers accept the offer at least once while also containing an average customer acceptance percentage of 7%.\n",
    "\n",
    "Least promising group had 13% of customers accept the offer at least once while also containing an average customer acceptance percentage of 3%. "
   ]
  },
  {
   "cell_type": "markdown",
   "metadata": {},
   "source": [
    "**Classification - 1)Predict Acceptance of one offer  2) Predict amount of times out of six (probability)**"
   ]
  },
  {
   "cell_type": "code",
   "execution_count": 7,
   "metadata": {},
   "outputs": [
    {
     "data": {
      "image/png": "[encoded data removed]",
      "text/plain": [
       "<Figure size 432x288 with 1 Axes>"
      ]
     },
     "metadata": {
      "needs_background": "light"
     },
     "output_type": "display_data"
    },
    {
     "name": "stdout",
     "output_type": "stream",
     "text": [
      "0    1623\n",
      "1     604\n",
      "Name: Accept_One, dtype: int64\n"
     ]
    }
   ],
   "source": [
    "### Imbalanced Classification Targets ###\n",
    "my_colors = ['red', 'green']\n",
    "marketing['Accept_One'].value_counts().plot(kind='bar', color=my_colors)\n",
    "plt.ylabel('Count')\n",
    "plt.show()\n",
    "print(marketing['Accept_One'].value_counts())"
   ]
  },
  {
   "cell_type": "code",
   "execution_count": 8,
   "metadata": {},
   "outputs": [],
   "source": [
    "### RandomForest - no imbalancing techniques ###\n",
    "from sklearn.model_selection import train_test_split\n",
    "from sklearn.ensemble import RandomForestClassifier\n",
    "from sklearn.model_selection import GridSearchCV\n",
    "from sklearn.metrics import classification_report\n",
    "from sklearn.metrics import confusion_matrix\n",
    "from sklearn.metrics import roc_curve, auc\n",
    "\n",
    "def rf_feat_importance(m, df):\n",
    "    return pd.DataFrame({'cols':df.columns, 'imp':m.feature_importances_}).sort_values('imp', ascending=False)\n",
    "\n",
    "def plot_fi(fi): \n",
    "    return fi.plot('cols', 'imp', 'barh', figsize=(12,7), legend=False)\n",
    "\n",
    "X = ml.values\n",
    "y = marketing['Accept_One'].values\n",
    "X_train, X_test, y_train, y_test = train_test_split(X, y, test_size=.25, random_state=42)\n",
    "# clf = RandomForestClassifier(n_jobs=-1, oob_score=True, random_state=27)\n",
    "# grid_search = GridSearchCV(clf, \n",
    "#                            param_grid={\n",
    "#                                        \"n_estimators\": [100, 200, 400, 600],\n",
    "#                                        \"min_samples_leaf\": [3, 2, 1, .5, .1],\n",
    "#                                        \"max_features\": ['sqrt', 'log2', .5, None]\n",
    "#                                        },\n",
    "#                            n_jobs=-1,\n",
    "#                            cv=5,\n",
    "#                            iid=False, # just return the average score across folds\n",
    "#                            return_train_score=False)\n",
    "# grid_search.fit(X_train, y_train)\n",
    "# best_clf = grid_search.best_estimator_\n",
    "# y_pred_test = best_clf.predict(X_test)\n",
    "# fi = rf_feat_importance(best_clf, categorical)\n",
    "# # for feature in ['Education', 'Relationship_Status', 'Purchases', '($)']:\n",
    "# #     print('\\n', '*Most Important', feature, 'Category*' )\n",
    "# #     new = fi.loc[fi['cols'].str.contains(feature)]\n",
    "# #     print(new.sort_values('imp', ascending=False).head(1).to_string(index=False))\n",
    "\n",
    "# plot_fi(fi)\n",
    "# plt.show()\n",
    "\n",
    "# print('\\nOOB Score: ', best_clf.oob_score_)\n",
    "# print('\\nBest Params:', grid_search.best_params_)\n",
    "# print('\\nTesting Accuracy:', best_clf.score(X_test, y_test))\n",
    "# print(classification_report(y_test, y_pred_test))\n",
    "# print(confusion_matrix(y_test, y_pred_test))\n",
    "# false_positive_rate, true_positive_rate, thresholds = roc_curve(y_test, y_pred_test)\n",
    "# roc_auc = auc(false_positive_rate, true_positive_rate)\n",
    "# print('\\nROC_AUC: ', roc_auc)"
   ]
  },
  {
   "cell_type": "code",
   "execution_count": 11,
   "metadata": {},
   "outputs": [],
   "source": [
    "### Gradient Boosting - no imbalancing techniques ###\n",
    "from xgboost import XGBClassifier\n",
    "from hyperopt import hp\n",
    "\n",
    "# xgb = XGBClassifier(n_jobs=-1, random_state=27)\n",
    "# grid_search = GridSearchCV(xgb,\n",
    "#                           param_grid={ \"learning_rates\": [1, .25, .1, .01],\n",
    "#                                        \"max_depth\": [1, 6, 16, 24],\n",
    "#                                        \"n_estimators\": [100, 300, 600],\n",
    "#                                        \"min_samples_leaf\": [2, 1, .5, .1],\n",
    "#                                        \"min_samples_splits\": [.1, .3, .7, 1],\n",
    "#                                        \"max_features\": ['sqrt', 'log2', .5, None]\n",
    "#                                        },\n",
    "#                            n_jobs=-1,\n",
    "#                            cv=5,\n",
    "#                            iid=False, # just return the average score across folds\n",
    "#                            return_train_score=False)\n",
    "# grid_search.fit(X_train, y_train)\n",
    "# best_xgb = grid_search.best_estimator_\n",
    "# print(best_xgb.best_params_)\n",
    "# y_pred_test = best_xgb.predict(X_test)\n",
    "# print(classification_report(y_test, y_pred_test))\n",
    "# print(confusion_matrix(y_test, y_pred_test))\n",
    "# false_positive_rate, true_positive_rate, thresholds = roc_curve(y_test, y_pred_test)\n",
    "# roc_auc = auc(false_positive_rate, true_positive_rate)\n",
    "# print('\\nROC_AUC: ', roc_auc)"
   ]
  },
  {
   "cell_type": "code",
   "execution_count": 18,
   "metadata": {},
   "outputs": [
    {
     "data": {
      "image/png": "[encoded data removed]",
      "text/plain": [
       "<Figure size 432x288 with 1 Axes>"
      ]
     },
     "metadata": {
      "needs_background": "light"
     },
     "output_type": "display_data"
    }
   ],
   "source": [
    "### Tuning Learning Rate ###\n",
    "learning_rates = [1, 0.5, 0.25, 0.1, 0.05, 0.01]\n",
    "train_results = []\n",
    "test_results = []\n",
    "for eta in learning_rates:\n",
    "    model = XGBClassifier(learning_rate=eta)\n",
    "    model.fit(X_train, y_train)\n",
    "    train_pred = model.predict(X_train)\n",
    "    false_positive_rate, true_positive_rate, thresholds = roc_curve(y_train, train_pred)\n",
    "    roc_auc = auc(false_positive_rate, true_positive_rate)\n",
    "    train_results.append(roc_auc)\n",
    "    y_pred = model.predict(X_test)\n",
    "    false_positive_rate, true_positive_rate, thresholds = roc_curve(y_test, y_pred)\n",
    "    roc_auc = auc(false_positive_rate, true_positive_rate)\n",
    "    test_results.append(roc_auc)\n",
    "from matplotlib.legend_handler import HandlerLine2D\n",
    "line1, = plt.plot(learning_rates, train_results, 'b', label='Train AUC')\n",
    "line2, = plt.plot(learning_rates, test_results, 'r', label='Test AUC')\n",
    "plt.legend(handler_map={line1: HandlerLine2D(numpoints=2)})\n",
    "plt.ylabel('AUC score')\n",
    "plt.xlabel('learning rate')\n",
    "plt.show()"
   ]
  },
  {
   "cell_type": "markdown",
   "metadata": {},
   "source": [
    "Looks like learning rate of 0.25 is optimal "
   ]
  },
  {
   "cell_type": "code",
   "execution_count": 71,
   "metadata": {},
   "outputs": [
    {
     "name": "stdout",
     "output_type": "stream",
     "text": [
      "\n",
      "Model Report\n",
      "Accuracy : 1\n",
      "AUC Score (Train): 1.000000\n",
      "CV Score : Mean - 0.813988 | Std - 0.02113108 | Min - 0.794195 | Max - 0.8496961\n"
     ]
    },
    {
     "data": {
      "image/png": "[encoded data removed]",
      "text/plain": [
       "<Figure size 432x288 with 1 Axes>"
      ]
     },
     "metadata": {
      "needs_background": "light"
     },
     "output_type": "display_data"
    }
   ],
   "source": [
    "from sklearn.model_selection import cross_val_score\n",
    "from sklearn.metrics import accuracy_score\n",
    "from sklearn.metrics import roc_auc_score\n",
    "\n",
    "def modelfit(alg, X_train, y_train, performCV=True, printFeatureImportance=True, cv_folds=5):\n",
    "    #Fit the algorithm on the data\n",
    "    alg.fit(X_train, y_train)\n",
    "        \n",
    "    #Predict training set:\n",
    "    train_predictions = alg.predict(X_train)\n",
    "    train_predprob = alg.predict_proba(X_train)[:,1]\n",
    "    \n",
    "    #Perform cross-validation:\n",
    "    if performCV:\n",
    "        cv_score = cross_val_score(alg, X_train, y_train, cv=cv_folds, scoring='roc_auc')\n",
    "    \n",
    "    #Print model report:\n",
    "    print(\"\\nModel Report\")\n",
    "    print(\"Accuracy : %.4g\" % accuracy_score(y_train, train_predictions))\n",
    "    print(\"AUC Score (Train): %f\" % roc_auc_score(y_train, train_predprob))\n",
    "    \n",
    "    if performCV:\n",
    "        print(\"CV Score : Mean - %.7g | Std - %.7g | Min - %.7g | Max - %.7g\" % (np.mean(cv_score),np.std(cv_score),np.min(cv_score),np.max(cv_score)))\n",
    "        \n",
    "    #Print Feature Importance:\n",
    "    if printFeatureImportance:\n",
    "        feat_imp = pd.Series(alg.feature_importances_, categorical.columns).sort_values(ascending=False)\n",
    "        feat_imp.plot(kind='bar', title='Feature Importances')\n",
    "        plt.ylabel('Feature Importance Score')\n",
    "        \n",
    "### Baseline ###\n",
    "gbm = XGBClassifier(random_state=27)\n",
    "modelfit(gbm, X_train, y_train)"
   ]
  },
  {
   "cell_type": "code",
   "execution_count": 75,
   "metadata": {},
   "outputs": [
    {
     "name": "stdout",
     "output_type": "stream",
     "text": [
      "[19:53:05] WARNING: C:\\Users\\Rachid\\xgboost\\src\\learner.cc:480: \n",
      "Parameters: { max_features, min_samples_leaf, min_samples_split } might not be used.\n",
      "\n",
      "  This may not be accurate due to some parameters are only used in language bindings but\n",
      "  passed down to XGBoost core.  Or some parameters are not used but slip through this\n",
      "  verification. Please open an issue if you find above cases.\n",
      "\n",
      "\n",
      "{'n_estimators': 45} 0.8309886237051461\n"
     ]
    }
   ],
   "source": [
    "### Setting Learning Rate and checking optimum n_estimators ###\n",
    "params = {'n_estimators': range(15, 90, 15)}\n",
    "xgb = XGBClassifier(learning_rate=0.1, min_samples_split=50,\n",
    "                    min_samples_leaf=25,max_depth=5,max_features='sqrt',\n",
    "                    subsample=0.8,random_state=27)\n",
    "grid_search = GridSearchCV(xgb, param_grid = params, scoring='roc_auc',\n",
    "                    n_jobs=4,iid=False, cv=5)\n",
    "grid_search.fit(X_train, y_train)\n",
    "print(grid_search.best_params_, grid_search.best_score_)"
   ]
  },
  {
   "cell_type": "code",
   "execution_count": 80,
   "metadata": {},
   "outputs": [
    {
     "name": "stdout",
     "output_type": "stream",
     "text": [
      "[20:06:12] WARNING: C:\\Users\\Rachid\\xgboost\\src\\learner.cc:480: \n",
      "Parameters: { max_features, min_samples_leaf, min_samples_split } might not be used.\n",
      "\n",
      "  This may not be accurate due to some parameters are only used in language bindings but\n",
      "  passed down to XGBoost core.  Or some parameters are not used but slip through this\n",
      "  verification. Please open an issue if you find above cases.\n",
      "\n",
      "\n",
      "{'max_depth': 5, 'min_samples_split': 0.854274839161221} 0.8309886237051461\n"
     ]
    }
   ],
   "source": [
    "### checking optimum max_depth and min_samples_split ###\n",
    "params = {'max_depth': [2, 3, 5, 8, 12, 14, 18, 22, 25], \n",
    "          'min_samples_split': stats.uniform(.1, 1)}\n",
    "xgb = XGBClassifier(learning_rate=0.1, n_estimators=45,\n",
    "                    min_samples_leaf=25,max_features='sqrt',\n",
    "                    subsample=0.8,random_state=27)\n",
    "rand_search = RandomizedSearchCV(xgb, param_distributions = params, scoring='roc_auc',\n",
    "                    n_jobs=4,iid=False, cv=5, n_iter=50)\n",
    "rand_search.fit(X_train, y_train)\n",
    "print(rand_search.best_params_, rand_search.best_score_)"
   ]
  },
  {
   "cell_type": "code",
   "execution_count": 84,
   "metadata": {},
   "outputs": [
    {
     "name": "stdout",
     "output_type": "stream",
     "text": [
      "[20:16:13] WARNING: C:\\Users\\Rachid\\xgboost\\src\\learner.cc:480: \n",
      "Parameters: { max_features, min_samples_leaf, min_samples_split } might not be used.\n",
      "\n",
      "  This may not be accurate due to some parameters are only used in language bindings but\n",
      "  passed down to XGBoost core.  Or some parameters are not used but slip through this\n",
      "  verification. Please open an issue if you find above cases.\n",
      "\n",
      "\n",
      "{'subsample': 0.8, 'max_features': 'sqrt'} 0.8309886237051461\n"
     ]
    }
   ],
   "source": [
    "### checking optimum max_depth ###\n",
    "params = {'max_features' : ['sqrt', 'log2', .5, None],\n",
    "          'subsample':[0.6,0.7,0.75,0.8,0.85,0.9]}\n",
    "xgb = XGBClassifier(learning_rate=0.1, n_estimators=45, max_depth=5, min_samples_split=.85,\n",
    "                    min_samples_leaf=25,random_state=27)\n",
    "rand_search = RandomizedSearchCV(xgb, param_distributions = params, scoring='roc_auc',\n",
    "                    n_jobs=4,iid=False, cv=5, n_iter=50)\n",
    "rand_search.fit(X_train, y_train)\n",
    "print(rand_search.best_params_, rand_search.best_score_)"
   ]
  },
  {
   "cell_type": "code",
   "execution_count": 89,
   "metadata": {
    "scrolled": false
   },
   "outputs": [
    {
     "name": "stdout",
     "output_type": "stream",
     "text": [
      "[20:27:21] WARNING: C:\\Users\\Rachid\\xgboost\\src\\learner.cc:480: \n",
      "Parameters: { max_features, min_samples_leaf, min_samples_split } might not be used.\n",
      "\n",
      "  This may not be accurate due to some parameters are only used in language bindings but\n",
      "  passed down to XGBoost core.  Or some parameters are not used but slip through this\n",
      "  verification. Please open an issue if you find above cases.\n",
      "\n",
      "\n",
      "[20:27:21] WARNING: C:\\Users\\Rachid\\xgboost\\src\\learner.cc:480: \n",
      "Parameters: { max_features, min_samples_leaf, min_samples_split } might not be used.\n",
      "\n",
      "  This may not be accurate due to some parameters are only used in language bindings but\n",
      "  passed down to XGBoost core.  Or some parameters are not used but slip through this\n",
      "  verification. Please open an issue if you find above cases.\n",
      "\n",
      "\n",
      "[20:27:21] WARNING: C:\\Users\\Rachid\\xgboost\\src\\learner.cc:480: \n",
      "Parameters: { max_features, min_samples_leaf, min_samples_split } might not be used.\n",
      "\n",
      "  This may not be accurate due to some parameters are only used in language bindings but\n",
      "  passed down to XGBoost core.  Or some parameters are not used but slip through this\n",
      "  verification. Please open an issue if you find above cases.\n",
      "\n",
      "\n",
      "[20:27:22] WARNING: C:\\Users\\Rachid\\xgboost\\src\\learner.cc:480: \n",
      "Parameters: { max_features, min_samples_leaf, min_samples_split } might not be used.\n",
      "\n",
      "  This may not be accurate due to some parameters are only used in language bindings but\n",
      "  passed down to XGBoost core.  Or some parameters are not used but slip through this\n",
      "  verification. Please open an issue if you find above cases.\n",
      "\n",
      "\n",
      "[20:27:22] WARNING: C:\\Users\\Rachid\\xgboost\\src\\learner.cc:480: \n",
      "Parameters: { max_features, min_samples_leaf, min_samples_split } might not be used.\n",
      "\n",
      "  This may not be accurate due to some parameters are only used in language bindings but\n",
      "  passed down to XGBoost core.  Or some parameters are not used but slip through this\n",
      "  verification. Please open an issue if you find above cases.\n",
      "\n",
      "\n",
      "[20:27:22] WARNING: C:\\Users\\Rachid\\xgboost\\src\\learner.cc:480: \n",
      "Parameters: { max_features, min_samples_leaf, min_samples_split } might not be used.\n",
      "\n",
      "  This may not be accurate due to some parameters are only used in language bindings but\n",
      "  passed down to XGBoost core.  Or some parameters are not used but slip through this\n",
      "  verification. Please open an issue if you find above cases.\n",
      "\n",
      "\n",
      "\n",
      "Model Report\n",
      "Accuracy : 0.9174\n",
      "AUC Score (Train): 0.975314\n",
      "CV Score : Mean - 0.8299878 | Std - 0.01650469 | Min - 0.8062132 | Max - 0.8533339\n",
      "[20:27:22] WARNING: C:\\Users\\Rachid\\xgboost\\src\\learner.cc:480: \n",
      "Parameters: { max_features, min_samples_leaf, min_samples_split } might not be used.\n",
      "\n",
      "  This may not be accurate due to some parameters are only used in language bindings but\n",
      "  passed down to XGBoost core.  Or some parameters are not used but slip through this\n",
      "  verification. Please open an issue if you find above cases.\n",
      "\n",
      "\n",
      "[20:27:22] WARNING: C:\\Users\\Rachid\\xgboost\\src\\learner.cc:480: \n",
      "Parameters: { max_features, min_samples_leaf, min_samples_split } might not be used.\n",
      "\n",
      "  This may not be accurate due to some parameters are only used in language bindings but\n",
      "  passed down to XGBoost core.  Or some parameters are not used but slip through this\n",
      "  verification. Please open an issue if you find above cases.\n",
      "\n",
      "\n",
      "[20:27:23] WARNING: C:\\Users\\Rachid\\xgboost\\src\\learner.cc:480: \n",
      "Parameters: { max_features, min_samples_leaf, min_samples_split } might not be used.\n",
      "\n",
      "  This may not be accurate due to some parameters are only used in language bindings but\n",
      "  passed down to XGBoost core.  Or some parameters are not used but slip through this\n",
      "  verification. Please open an issue if you find above cases.\n",
      "\n",
      "\n",
      "[20:27:23] WARNING: C:\\Users\\Rachid\\xgboost\\src\\learner.cc:480: \n",
      "Parameters: { max_features, min_samples_leaf, min_samples_split } might not be used.\n",
      "\n",
      "  This may not be accurate due to some parameters are only used in language bindings but\n",
      "  passed down to XGBoost core.  Or some parameters are not used but slip through this\n",
      "  verification. Please open an issue if you find above cases.\n",
      "\n",
      "\n",
      "[20:27:24] WARNING: C:\\Users\\Rachid\\xgboost\\src\\learner.cc:480: \n",
      "Parameters: { max_features, min_samples_leaf, min_samples_split } might not be used.\n",
      "\n",
      "  This may not be accurate due to some parameters are only used in language bindings but\n",
      "  passed down to XGBoost core.  Or some parameters are not used but slip through this\n",
      "  verification. Please open an issue if you find above cases.\n",
      "\n",
      "\n",
      "[20:27:24] WARNING: C:\\Users\\Rachid\\xgboost\\src\\learner.cc:480: \n",
      "Parameters: { max_features, min_samples_leaf, min_samples_split } might not be used.\n",
      "\n",
      "  This may not be accurate due to some parameters are only used in language bindings but\n",
      "  passed down to XGBoost core.  Or some parameters are not used but slip through this\n",
      "  verification. Please open an issue if you find above cases.\n",
      "\n",
      "\n",
      "\n",
      "Model Report\n",
      "Accuracy : 0.9162\n",
      "AUC Score (Train): 0.974690\n",
      "CV Score : Mean - 0.8312173 | Std - 0.01857287 | Min - 0.803356 | Max - 0.857156\n",
      "[20:27:25] WARNING: C:\\Users\\Rachid\\xgboost\\src\\learner.cc:480: \n",
      "Parameters: { max_features, min_samples_leaf, min_samples_split } might not be used.\n",
      "\n",
      "  This may not be accurate due to some parameters are only used in language bindings but\n",
      "  passed down to XGBoost core.  Or some parameters are not used but slip through this\n",
      "  verification. Please open an issue if you find above cases.\n",
      "\n",
      "\n",
      "[20:27:26] WARNING: C:\\Users\\Rachid\\xgboost\\src\\learner.cc:480: \n",
      "Parameters: { max_features, min_samples_leaf, min_samples_split } might not be used.\n",
      "\n",
      "  This may not be accurate due to some parameters are only used in language bindings but\n",
      "  passed down to XGBoost core.  Or some parameters are not used but slip through this\n",
      "  verification. Please open an issue if you find above cases.\n",
      "\n",
      "\n",
      "[20:27:27] WARNING: C:\\Users\\Rachid\\xgboost\\src\\learner.cc:480: \n",
      "Parameters: { max_features, min_samples_leaf, min_samples_split } might not be used.\n",
      "\n",
      "  This may not be accurate due to some parameters are only used in language bindings but\n",
      "  passed down to XGBoost core.  Or some parameters are not used but slip through this\n",
      "  verification. Please open an issue if you find above cases.\n",
      "\n",
      "\n",
      "[20:27:28] WARNING: C:\\Users\\Rachid\\xgboost\\src\\learner.cc:480: \n",
      "Parameters: { max_features, min_samples_leaf, min_samples_split } might not be used.\n",
      "\n",
      "  This may not be accurate due to some parameters are only used in language bindings but\n",
      "  passed down to XGBoost core.  Or some parameters are not used but slip through this\n",
      "  verification. Please open an issue if you find above cases.\n",
      "\n",
      "\n",
      "[20:27:29] WARNING: C:\\Users\\Rachid\\xgboost\\src\\learner.cc:480: \n",
      "Parameters: { max_features, min_samples_leaf, min_samples_split } might not be used.\n",
      "\n",
      "  This may not be accurate due to some parameters are only used in language bindings but\n",
      "  passed down to XGBoost core.  Or some parameters are not used but slip through this\n",
      "  verification. Please open an issue if you find above cases.\n",
      "\n",
      "\n",
      "[20:27:30] WARNING: C:\\Users\\Rachid\\xgboost\\src\\learner.cc:480: \n",
      "Parameters: { max_features, min_samples_leaf, min_samples_split } might not be used.\n",
      "\n",
      "  This may not be accurate due to some parameters are only used in language bindings but\n",
      "  passed down to XGBoost core.  Or some parameters are not used but slip through this\n",
      "  verification. Please open an issue if you find above cases.\n",
      "\n",
      "\n",
      "\n",
      "Model Report\n",
      "Accuracy : 0.9275\n",
      "AUC Score (Train): 0.982178\n",
      "CV Score : Mean - 0.831296 | Std - 0.01865585 | Min - 0.8054422 | Max - 0.8582151\n"
     ]
    },
    {
     "data": {
      "image/png": "[encoded data removed]",
      "text/plain": [
       "<Figure size 432x288 with 1 Axes>"
      ]
     },
     "metadata": {
      "needs_background": "light"
     },
     "output_type": "display_data"
    }
   ],
   "source": [
    "\n",
    "gbm = XGBClassifier(learning_rate=0.05, n_estimators=90, subsample=.8, max_features='sqrt', max_depth=5, min_samples_split=.85,\n",
    "                    min_samples_leaf=25,random_state=27)\n",
    "modelfit(gbm, X_train, y_train)\n",
    "\n",
    "gbm = XGBClassifier(learning_rate=0.01, n_estimators=450, subsample=.8, max_features='sqrt', max_depth=5, min_samples_split=.85,\n",
    "                    min_samples_leaf=25,random_state=27)\n",
    "modelfit(gbm, X_train, y_train)\n",
    "\n",
    "gbm = XGBClassifier(learning_rate=0.005, n_estimators=1100, subsample=.8, max_features='sqrt', max_depth=5, min_samples_split=.85,\n",
    "                    min_samples_leaf=25,random_state=27)\n",
    "modelfit(gbm, X_train, y_train)"
   ]
  },
  {
   "cell_type": "code",
   "execution_count": 108,
   "metadata": {},
   "outputs": [
    {
     "name": "stdout",
     "output_type": "stream",
     "text": [
      "[21:06:31] WARNING: C:\\Users\\Rachid\\xgboost\\src\\learner.cc:480: \n",
      "Parameters: { max_features, min_samples_leaf, min_samples_splits } might not be used.\n",
      "\n",
      "  This may not be accurate due to some parameters are only used in language bindings but\n",
      "  passed down to XGBoost core.  Or some parameters are not used but slip through this\n",
      "  verification. Please open an issue if you find above cases.\n",
      "\n",
      "\n",
      "{'max_depth': 5, 'max_features': 0.5, 'min_samples_leaf': 0.1, 'min_samples_splits': 0.7632597504702937, 'n_estimators': 50}\n",
      "              precision    recall  f1-score   support\n",
      "\n",
      "           0       0.82      0.92      0.87       399\n",
      "           1       0.70      0.49      0.57       158\n",
      "\n",
      "    accuracy                           0.80       557\n",
      "   macro avg       0.76      0.70      0.72       557\n",
      "weighted avg       0.79      0.80      0.78       557\n",
      "\n",
      "[[366  33]\n",
      " [ 81  77]]\n",
      "\n",
      "ROC_AUC:  0.7023175026173027\n"
     ]
    }
   ],
   "source": [
    "### Gradient Boosting - Randomized Grid Search ###\n",
    "from sklearn.model_selection import RandomizedSearchCV\n",
    "\n",
    "param_dist={ \"min_samples_leaf\": [3, 2, 1, .5, .1],\n",
    "             \"n_estimators\": [25, 30, 35, 40, 45, 50],\n",
    "             \"min_samples_splits\": stats.uniform(.1, 1),\n",
    "             \"max_features\": ['sqrt', 'log2', .5, None],\n",
    "             \"max_depth\": [1, 3, 5, 7, 9, 12, 14, 17, 19, 22, 25]}\n",
    "xgb = XGBClassifier(learning_rate=.25, n_jobs=-1, random_state=27)\n",
    "rand_search = RandomizedSearchCV(xgb, param_distributions=param_dist, n_iter=50,\n",
    "                           n_jobs=-1,\n",
    "                           cv=5,\n",
    "                           iid=False, # just return the average score across folds\n",
    "                           return_train_score=False)\n",
    "rand_search.fit(X_train, y_train)\n",
    "print(rand_search.best_params_)\n",
    "best_xgb = rand_search.best_estimator_\n",
    "y_pred_test = best_xgb.predict(X_test)\n",
    "print(classification_report(y_test, y_pred_test))\n",
    "print(confusion_matrix(y_test, y_pred_test))\n",
    "false_positive_rate, true_positive_rate, thresholds = roc_curve(y_test, y_pred_test)\n",
    "roc_auc = auc(false_positive_rate, true_positive_rate)\n",
    "print('\\nROC_AUC: ', roc_auc)\n"
   ]
  },
  {
   "cell_type": "code",
   "execution_count": 105,
   "metadata": {},
   "outputs": [
    {
     "name": "stdout",
     "output_type": "stream",
     "text": [
      "[21:01:18] WARNING: C:\\Users\\Rachid\\xgboost\\src\\learner.cc:480: \n",
      "Parameters: { min_samples_leaf, min_samples_split } might not be used.\n",
      "\n",
      "  This may not be accurate due to some parameters are only used in language bindings but\n",
      "  passed down to XGBoost core.  Or some parameters are not used but slip through this\n",
      "  verification. Please open an issue if you find above cases.\n",
      "\n",
      "\n",
      "{'n_estimators': 45, 'learning_rate': 0.25}\n",
      "              precision    recall  f1-score   support\n",
      "\n",
      "           0       0.82      0.92      0.87       399\n",
      "           1       0.72      0.49      0.58       158\n",
      "\n",
      "    accuracy                           0.80       557\n",
      "   macro avg       0.77      0.71      0.73       557\n",
      "weighted avg       0.79      0.80      0.79       557\n",
      "\n",
      "[[368  31]\n",
      " [ 80  78]]\n",
      "\n",
      "ROC_AUC:  0.7079883252434883\n",
      "[21:01:18] WARNING: C:\\Users\\Rachid\\xgboost\\src\\learner.cc:480: \n",
      "Parameters: { max_features, min_samples_leaf, min_samples_split } might not be used.\n",
      "\n",
      "  This may not be accurate due to some parameters are only used in language bindings but\n",
      "  passed down to XGBoost core.  Or some parameters are not used but slip through this\n",
      "  verification. Please open an issue if you find above cases.\n",
      "\n",
      "\n",
      "              precision    recall  f1-score   support\n",
      "\n",
      "           0       0.82      0.92      0.87       399\n",
      "           1       0.72      0.48      0.58       158\n",
      "\n",
      "    accuracy                           0.80       557\n",
      "   macro avg       0.77      0.70      0.72       557\n",
      "weighted avg       0.79      0.80      0.79       557\n",
      "\n",
      "[[369  30]\n",
      " [ 82  76]]\n",
      "\n",
      "ROC_AUC:  0.7029123441515179\n"
     ]
    }
   ],
   "source": [
    "param_dist={ \"learning_rate\": [.225, .25, .275],\n",
    "             \"n_estimators\": [43, 45, 47],\n",
    "             }\n",
    "gbm = XGBClassifier(subsample=.8, max_features='sqrt', max_depth=5, min_samples_split=.85,\n",
    "                    min_samples_leaf=25,random_state=27)\n",
    "rand_search = RandomizedSearchCV(xgb, param_distributions=param_dist, n_iter=60,\n",
    "                           n_jobs=-1,\n",
    "                           cv=5,\n",
    "                           iid=False, # just return the average score across folds\n",
    "                           return_train_score=False)\n",
    "rand_search.fit(X_train, y_train)\n",
    "print(rand_search.best_params_)\n",
    "best_xgb = rand_search.best_estimator_\n",
    "y_pred_test = best_xgb.predict(X_test)\n",
    "print(classification_report(y_test, y_pred_test))\n",
    "print(confusion_matrix(y_test, y_pred_test))\n",
    "false_positive_rate, true_positive_rate, thresholds = roc_curve(y_test, y_pred_test)\n",
    "roc_auc = auc(false_positive_rate, true_positive_rate)\n",
    "print('\\nROC_AUC: ', roc_auc)\n",
    "\n",
    "gbm = XGBClassifier(learning_rate=0.05, n_estimators=90, subsample=.8, max_features='sqrt', max_depth=5, min_samples_split=.85,\n",
    "                    min_samples_leaf=25,random_state=27)\n",
    "gbm.fit(X_train, y_train)\n",
    "y_pred_test = gbm.predict(X_test)\n",
    "print(classification_report(y_test, y_pred_test))\n",
    "print(confusion_matrix(y_test, y_pred_test))\n",
    "false_positive_rate, true_positive_rate, thresholds = roc_curve(y_test, y_pred_test)\n",
    "roc_auc = auc(false_positive_rate, true_positive_rate)\n",
    "print('\\nROC_AUC: ', roc_auc)"
   ]
  },
  {
   "cell_type": "code",
   "execution_count": null,
   "metadata": {},
   "outputs": [],
   "source": [
    "### Randomized Grid Search Implementation ###\n",
    "from scipy import stats \n",
    "\n",
    "clf_xgb = XGBClassifier(n_jobs=-1, random_state=27)\n",
    "param_dist={ \"learning_rates\": stats.uniform(.01, .6),\n",
    "             \"max_depth\": [2, 3, 4, 5, 6, 7, 8, 9],\n",
    "             \"n_estimators\": stats.randint(100, 700),\n",
    "             \"min_samples_leaf\": [3, 2, 1, .5, .1],\n",
    "             \"min_samples_splits\": stats.uniform(.1, 1),\n",
    "             \"max_features\": ['sqrt', 'log2', .5, None]}\n",
    "random_grid = RandomizedSearchCV(clf_xgb, param_distributions = param_dist, \n",
    "                         n_iter = 5, n_jobs = -1)\n",
    "random_grid.fit(X_train, y_train)\n",
    "best_xgboost = random_grid.best_estimator_\n",
    "print(best_xgb.best_params_)\n",
    "y_pred_test = best_xgb.predict(X_test)\n",
    "print(classification_report(y_test, y_pred_test))\n",
    "print(confusion_matrix(y_test, y_pred_test))\n",
    "false_positive_rate, true_positive_rate, thresholds = roc_curve(y_test, y_pred_test)\n",
    "roc_auc = auc(false_positive_rate, true_positive_rate)\n",
    "print('\\nROC_AUC: ', roc_auc)"
   ]
  },
  {
   "cell_type": "markdown",
   "metadata": {},
   "source": [
    "**----Undersampling----**"
   ]
  },
  {
   "cell_type": "code",
   "execution_count": null,
   "metadata": {},
   "outputs": [],
   "source": [
    "### Undersampling ###\n",
    "from imblearn.under_sampling import RandomUnderSampler\n",
    "rus = RandomUnderSampler(random_state=0)\n",
    "X_resampled, y_resampled = rus.fit_resample(X_train, y_train)\n",
    "acceptance = pd.Series(y_resampled)\n",
    "acceptance.value_counts().plot(kind='bar', color=my_colors)\n",
    "plt.xlabel('Accepted At Least One of Six Offers')\n",
    "plt.ylabel('Count')\n",
    "plt.show()\n",
    "print(acceptance.value_counts())\n"
   ]
  },
  {
   "cell_type": "code",
   "execution_count": null,
   "metadata": {},
   "outputs": [],
   "source": [
    "### Random Forest Classifier Using Undersampling ###\n",
    "clf = RandomForestClassifier(n_jobs=-1, random_state=27)\n",
    "grid_search = GridSearchCV(clf, \n",
    "                           param_grid={\n",
    "                                       \"n_estimators\": [100, 200, 400, 600],\n",
    "                                       \"min_samples_leaf\": [3, 2, 1, .5, .1],\n",
    "                                       \"max_features\": ['sqrt', 'log2', .5, None]\n",
    "                                       },\n",
    "                           n_jobs=-1,\n",
    "                           cv=4,\n",
    "                           iid=False, # just return the average score across folds\n",
    "                           return_train_score=False)\n",
    "grid_search.fit(X_resampled, y_resampled)\n",
    "best_clf = grid_search.best_estimator_\n",
    "y_pred_test = best_clf.predict(X_test)\n",
    "fi = rf_feat_importance(best_clf, categorical)\n",
    "# for feature in ['Education', 'Relationship_Status', 'Purchases', '($)']:\n",
    "#     print('\\n', '*Most Important', feature, 'Category*' )\n",
    "#     new = fi.loc[fi['cols'].str.contains(feature)]\n",
    "#     print(new.sort_values('imp', ascending=False).head(1).to_string(index=False))\n",
    "\n",
    "plot_fi(fi)\n",
    "plt.show()\n",
    "\n",
    "print('\\nOOB Score: ', best_clf.oob_score_)\n",
    "print('\\nBest Params:', grid_search.best_params_)\n",
    "print('\\nTesting Accuracy:', best_clf.score(X_test, y_test))\n",
    "print(classification_report(y_test, y_pred_test))\n",
    "print(confusion_matrix(y_test, y_pred_test))\n",
    "false_positive_rate, true_positive_rate, thresholds = roc_curve(y_test, y_pred_test)\n",
    "roc_auc = auc(false_positive_rate, true_positive_rate)\n",
    "print('\\nROC_AUC: ', roc_auc)"
   ]
  },
  {
   "cell_type": "code",
   "execution_count": null,
   "metadata": {},
   "outputs": [],
   "source": [
    "### Gradient Boost Classifier Using Undersampling ###\n",
    "\n",
    "xgb = XGBClassifier(n_jobs=-1, random_state=27)\n",
    "grid_search = GridSearchCV(xgb,\n",
    "                          param_grid={ \"learning_rates\": [1, .5, .25, .01, .05, .01],\n",
    "                                       \"max_depth\": list(hp.choice('max_depth', np.arange(1, 32, dtype=int))),\n",
    "                                       \"n_estimators\": [100, 200, 400, 600],\n",
    "                                       \"min_samples_leaf\": [3, 2, 1, .5, .1],\n",
    "                                       \"min_samples_splits\": [.1, .2, .3, .4, .5, .6, .7, .8, .9, 1],\n",
    "                                       \"max_features\": ['sqrt', 'log2', .5, None]\n",
    "                                       },\n",
    "                           n_jobs=-1,\n",
    "                           cv=4,\n",
    "                           iid=False, # just return the average score across folds\n",
    "                           return_train_score=False)\n",
    "grid_search.fit(X_resampled, y_resampled)\n",
    "best_xgb = grid_search.best_estimator_\n",
    "print(best_xgb.best_params_)\n",
    "y_pred_test = best_xgb.predict(X_test)\n",
    "print(classification_report(y_test, y_pred_test))\n",
    "print(confusion_matrix(y_test, y_pred_test))\n",
    "false_positive_rate, true_positive_rate, thresholds = roc_curve(y_test, y_pred_test)\n",
    "roc_auc = auc(false_positive_rate, true_positive_rate)\n",
    "print('\\nROC_AUC: ', roc_auc)"
   ]
  },
  {
   "cell_type": "markdown",
   "metadata": {},
   "source": [
    "**----Oversampling----**"
   ]
  },
  {
   "cell_type": "code",
   "execution_count": null,
   "metadata": {},
   "outputs": [],
   "source": [
    "### Oversampling ###\n",
    "from imblearn.over_sampling import SMOTE\n",
    "\n",
    "smote = SMOTE(ratio='minority', n_jobs=-1)\n",
    "X_sm, y_sm = smote.fit_resample(X_train, y_train)\n",
    "acceptance = pd.Series(y_sm)\n",
    "acceptance.value_counts().plot(kind='bar', color=my_colors)\n",
    "plt.xlabel('Accepted At Least One of Six Offers')\n",
    "plt.ylabel('Count')\n",
    "plt.show()\n",
    "print(acceptance.value_counts())"
   ]
  },
  {
   "cell_type": "code",
   "execution_count": null,
   "metadata": {
    "scrolled": false
   },
   "outputs": [],
   "source": [
    "### Random Forest Classifier Using Oversampling ###\n",
    "clf = RandomForestClassifier(n_jobs=-1, oob_score=True, random_state=27)\n",
    "grid_search = GridSearchCV(clf, \n",
    "                           param_grid={\n",
    "                                       \"n_estimators\": [100, 200, 400, 600],\n",
    "                                       \"min_samples_leaf\": [3, 2, 1, .5, .1],\n",
    "                                       \"max_features\": ['sqrt', 'log2', .5, None]\n",
    "                                       },\n",
    "                           n_jobs=-1,\n",
    "                           cv=6,\n",
    "                           iid=False, # just return the average score across folds\n",
    "                           return_train_score=False)\n",
    "grid_search.fit(X_sm, y_sm)\n",
    "best_clf = grid_search.best_estimator_\n",
    "y_pred_test = best_clf.predict(X_test)\n",
    "fi = rf_feat_importance(best_clf, categorical)\n",
    "# for feature in ['Education', 'Relationship_Status', 'Purchases', '($)']:\n",
    "#     print('\\n', '*Most Important', feature, 'Category*' )\n",
    "#     new = fi.loc[fi['cols'].str.contains(feature)]\n",
    "#     print(new.sort_values('imp', ascending=False).head(1).to_string(index=False))\n",
    "\n",
    "plot_fi(fi)\n",
    "plt.show()\n",
    "\n",
    "print('\\nOOB Score: ', best_clf.oob_score_)\n",
    "print('\\nBest Params:', grid_search.best_params_)\n",
    "print('\\nTesting Accuracy:', best_clf.score(X_test, y_test))\n",
    "print(classification_report(y_test, y_pred_test))\n",
    "print(confusion_matrix(y_test, y_pred_test))\n",
    "false_positive_rate, true_positive_rate, thresholds = roc_curve(y_test, y_pred_test)\n",
    "roc_auc = auc(false_positive_rate, true_positive_rate)\n",
    "print('\\nROC_AUC: ', roc_auc)"
   ]
  },
  {
   "cell_type": "code",
   "execution_count": null,
   "metadata": {},
   "outputs": [],
   "source": [
    "### Gradient Boost Classifier Using Oversampling ###\n",
    "\n",
    "xgb = XGBClassifier(n_jobs=-1, random_state=27)\n",
    "grid_search = GridSearchCV(xgb,\n",
    "                          param_grid={ \"learning_rates\": [1, .5, .25, .01, .05, .01],\n",
    "                                       \"max_depth\": list(hp.choice('max_depth', np.arange(1, 32, dtype=int))),\n",
    "                                       \"n_estimators\": [100, 200, 400, 600],\n",
    "                                       \"min_samples_leaf\": [3, 2, 1, .5, .1],\n",
    "                                       \"min_samples_splits\": [.1, .2, .3, .4, .5, .6, .7, .8, .9, 1],\n",
    "                                       \"max_features\": ['sqrt', 'log2', .5, None]\n",
    "                                       },\n",
    "                           n_jobs=-1,\n",
    "                           cv=6,\n",
    "                           iid=False, # just return the average score across folds\n",
    "                           return_train_score=False)\n",
    "grid_search.fit(X_sm, y_sm)\n",
    "best_xgb = grid_search.best_estimator_\n",
    "print(best_xgb.best_params_)\n",
    "y_pred_test = xgb.predict(X_test)\n",
    "print(classification_report(y_test, y_pred_test))\n",
    "print(confusion_matrix(y_test, y_pred_test))\n",
    "false_positive_rate, true_positive_rate, thresholds = roc_curve(y_test, y_pred_test)\n",
    "roc_auc = auc(false_positive_rate, true_positive_rate)\n",
    "print('\\nROC_AUC: ', roc_auc)"
   ]
  },
  {
   "cell_type": "markdown",
   "metadata": {},
   "source": [
    "**After classifying a customer as Accepted (1), classify their offer acceptance rate (indicates customers that are most likely to accept the offer each time it is sent out)**"
   ]
  },
  {
   "cell_type": "code",
   "execution_count": null,
   "metadata": {},
   "outputs": [],
   "source": [
    "### Sclicing to only included customers who accepted at least one offer ###\n",
    "marketing_accept = marketing.loc[marketing['Accept_One'] == 1].reset_index(drop=True)\n",
    "### Adding Accept_Rate Labels ###\n",
    "marketing_accept['Accept_Rate'] = ''\n",
    "for idx, row in marketing_accept.iterrows():\n",
    "    if row['Cust_Accept (%)'] == ((1/6) * 100):\n",
    "            marketing_accept.loc[idx, 'Accept_Rate'] = '1/6'\n",
    "    elif row['Cust_Accept (%)'] == ((2/6) * 100):\n",
    "            marketing_accept.loc[idx, 'Accept_Rate'] = '2/6'\n",
    "    elif row['Cust_Accept (%)'] == ((3/6) * 100):\n",
    "            marketing_accept.loc[idx, 'Accept_Rate'] = '3/6'\n",
    "    elif row['Cust_Accept (%)'] == ((4/6) * 100):\n",
    "            marketing_accept.loc[idx, 'Accept_Rate'] = '4/6'\n",
    "    elif row['Cust_Accept (%)'] == ((5/6) * 100):\n",
    "            marketing_accept.loc[idx, 'Accept_Rate'] = '5/6'\n",
    "\n",
    "### Distribution of Those Who Accepted At Least One Offer ###\n",
    "my_colors = ['blue', 'red', 'green', 'orange', 'purple']\n",
    "marketing_accept.groupby('Accept_Rate')['Accept_Rate'].count().plot(kind='bar', color=my_colors)\n",
    "plt.xlabel('Acceptance Rate')\n",
    "plt.ylabel('Count')\n",
    "plt.show()\n",
    "print(marketing_accept.groupby('Accept_Rate')['Accept_Rate'].count())"
   ]
  },
  {
   "cell_type": "code",
   "execution_count": null,
   "metadata": {},
   "outputs": [],
   "source": [
    "### Numerically Encode Accept_Rate ###\n",
    "for idx, row in marketing_accept.iterrows():\n",
    "    if row['Accept_Rate'] == '1/6':\n",
    "        marketing_accept.loc[idx, 'Accept_Rate'] = 1\n",
    "    elif row['Accept_Rate'] == '2/6':\n",
    "        marketing_accept.loc[idx, 'Accept_Rate'] = 2\n",
    "    elif row['Accept_Rate'] == '3/6':\n",
    "        marketing_accept.loc[idx, 'Accept_Rate'] = 3\n",
    "    elif row['Accept_Rate'] == '4/6':\n",
    "        marketing_accept.loc[idx, 'Accept_Rate'] = 4\n",
    "    elif row['Accept_Rate'] == '5/6':\n",
    "        marketing_accept.loc[idx, 'Accept_Rate'] = 5\n",
    "        \n",
    "marketing_ml_accept = marketing_accept.drop(['Cluster', 'Accept_Rate', 'Accept_One', 'Cust_Accept (%)'], axis=1)\n",
    "\n",
    "## Unskewing Data with Log(1 + x) transform ###\n",
    "unskewed = marketing_ml_accept[['Age', 'Income', 'Children',\n",
    "       'Wine ($)', 'Fruit ($)', 'Meat ($)', 'Fish ($)', 'Sweets ($)',\n",
    "       'Gold_Products ($)', 'Discount_Purchases', 'Web_Purchases',\n",
    "       'Catalog_Purchases', 'Store_Purchases', 'Days_Enrolled',\n",
    "       'Avg_Purch_Freq', 'Avg_Spend ($)']]\n",
    "unskewed = np.log1p(unskewed)\n",
    "unskewed = pd.DataFrame(unskewed)\n",
    "\n",
    "### Scaling Numerical Features ###\n",
    "scaler = StandardScaler()\n",
    "numerical = scaler.fit_transform(unskewed)\n",
    "numerical = pd.DataFrame(numerical)\n",
    "### Numerically Encoding Categorical Features ###\n",
    "categorical = pd.get_dummies(data=marketing_ml_accept, columns=['Education', 'Relationship_Status'], drop_first=False)\n",
    "### Appending the categorical features to end on unskewed DF ###\n",
    "ml_accept = numerical.join(categorical[['Education_2n Cycle', 'Education_Basic', 'Education_Graduation',\n",
    "       'Education_Master', 'Education_PhD', 'Relationship_Status_Divorced',\n",
    "       'Relationship_Status_In-Relationship', 'Relationship_Status_Married',\n",
    "       'Relationship_Status_Single', 'Relationship_Status_Widow']], how='right')"
   ]
  },
  {
   "cell_type": "code",
   "execution_count": null,
   "metadata": {},
   "outputs": [],
   "source": [
    "### Classifier for Accept_Rate - Gradient Boosting ###\n",
    "from sklearn.metrics import roc_curve, auc\n",
    "\n",
    "X = ml_accept.values\n",
    "y = marketing_accept['Accept_Rate'].values\n",
    "X_train, X_test, y_train, y_test = train_test_split(X, y, test_size=.25, random_state=42)\n",
    "xgb = XGBClassifier()\n",
    "grid_search = GridSearchCV(xgb,\n",
    "                          param_grid={ \"learning_rates\": [1, .5, .25, .01, .05, .01],\n",
    "                                       \"max_depth\": np.linspace(1, 32, 32, endpoint=True),\n",
    "                                       \"n_estimators\": [100, 200, 400, 600],\n",
    "                                       \"min_samples_leaf\": [3, 2, 1, .5, .1],\n",
    "                                       \"min_samples_splits\": np.linspace(.1, 1, 10, endpoint=True),\n",
    "                                       \"max_features\": ['sqrt', 'log2', .5, None]\n",
    "                                       },\n",
    "                           n_jobs=-1,\n",
    "                           cv=3,\n",
    "                           iid=False, # just return the average score across folds\n",
    "                           return_train_score=False)\n",
    "grid_search.fit(X_train, y_train)\n",
    "best_xgb = grid_search.best_estimator_\n",
    "print(best_xgb.best_params_)\n",
    "y_pred_test = best_xgb.predict(X_test)\n",
    "print(classification_report(y_test, y_pred_test))\n",
    "print(confusion_matrix(y_test, y_pred_test))\n",
    "false_positive_rate, true_positive_rate, thresholds = roc_curve(y_test, y_pred_test)\n",
    "roc_auc = auc(false_positive_rate, true_positive_rate)\n",
    "print('\\nROC_AUC: ', roc_auc)"
   ]
  },
  {
   "cell_type": "markdown",
   "metadata": {},
   "source": [
    "*Regression to Predict Cust_Accept (%)*"
   ]
  },
  {
   "cell_type": "code",
   "execution_count": 89,
   "metadata": {},
   "outputs": [],
   "source": [
    "### Random Forest Regressor, HyperParameter Tuning ###\n",
    "from sklearn.ensemble import RandomForestRegressor\n",
    "from sklearn.model_selection import GridSearchCV\n",
    "from sklearn.model_selection import train_test_split\n",
    "\n",
    "X = ml.values\n",
    "y = marketing['Cust_Accept (%)'].values\n",
    "X_train, X_test, y_train, y_test = train_test_split(X, y, test_size=.25, random_state=42)\n",
    "rfr = RandomForestRegressor(n_jobs=-1, oob_score=True)\n",
    "grid_search = GridSearchCV(rfr, \n",
    "                           param_grid={\n",
    "                                       \"n_estimators\": [100, 200, 600, 1000],\n",
    "                                       \"min_samples_leaf\": [5, 3, 2, 1],\n",
    "                                       \"max_features\": ['sqrt', 'log2', .5, None]\n",
    "                                       },\n",
    "                           n_jobs=-1,\n",
    "                           cv=5,\n",
    "                           iid=False, # just return the average score across folds\n",
    "                           return_train_score=False, scoring = 'r2')\n",
    "grid_search.fit(X_train, y_train)\n",
    "y_pred_test = grid_search.predict(X_test)\n",
    "best_rfr = grid_search.best_estimator_"
   ]
  },
  {
   "cell_type": "code",
   "execution_count": 90,
   "metadata": {},
   "outputs": [
    {
     "name": "stdout",
     "output_type": "stream",
     "text": [
      "\n",
      " *Most Important Education Category*\n",
      "                 cols       imp\n",
      " Education_Graduation  0.008699\n",
      "\n",
      " *Most Important Relationship_Status Category*\n",
      "                        cols       imp\n",
      " Relationship_Status_Married  0.006926\n",
      "\n",
      " *Most Important Purchases Category*\n",
      "              cols       imp\n",
      " Catalog_Purchases  0.050014\n",
      "\n",
      " *Most Important ($) Category*\n",
      "     cols       imp\n",
      " Wine ($)  0.174912\n"
     ]
    },
    {
     "data": {
      "image/png": "[encoded data removed]",
      "text/plain": [
       "<Figure size 864x504 with 1 Axes>"
      ]
     },
     "metadata": {
      "needs_background": "light"
     },
     "output_type": "display_data"
    },
    {
     "name": "stdout",
     "output_type": "stream",
     "text": [
      "\n",
      "OOB Score:  0.4350199843157163\n",
      "\n",
      "Best Params: {'max_features': 'sqrt', 'min_samples_leaf': 1, 'n_estimators': 1000}\n",
      "\n",
      "Testing RMSE: 10.366984795650158\n",
      "\n",
      "Testing R2:  0.4331103900048644\n"
     ]
    }
   ],
   "source": [
    "### Analyzing Performance & Feature Importance Towards Cust Accept % ###\n",
    "\n",
    "from sklearn.metrics import r2_score, mean_squared_error, make_scorer\n",
    "from sklearn.model_selection import GridSearchCV\n",
    "\n",
    "\n",
    "def rf_feat_importance(m, df):\n",
    "    return pd.DataFrame({'cols':df.columns, 'imp':m.feature_importances_}).sort_values('imp', ascending=False)\n",
    "\n",
    "def plot_fi(fi): \n",
    "    return fi.plot('cols', 'imp', 'barh', figsize=(12,7), legend=False)\n",
    "\n",
    "fi = rf_feat_importance(best_rfr, categorical)\n",
    "for feature in ['Education', 'Relationship_Status', 'Purchases', '($)']:\n",
    "    print('\\n', '*Most Important', feature, 'Category*' )\n",
    "    new = fi.loc[fi['cols'].str.contains(feature)]\n",
    "    print(new.sort_values('imp', ascending=False).head(1).to_string(index=False))\n",
    "\n",
    "plot_fi(fi)\n",
    "plt.show()\n",
    "\n",
    "print('\\nOOB Score: ', best_rfr.oob_score_)\n",
    "print('\\nBest Params:', grid_search.best_params_)\n",
    "print('\\nTesting RMSE:', np.sqrt(mean_squared_error(y_test, y_pred_test)))\n",
    "print('\\nTesting R2: ', grid_search.score(X_test, y_test))"
   ]
  }
 ],
 "metadata": {
  "kernelspec": {
   "display_name": "Python 3",
   "language": "python",
   "name": "python3"
  },
  "language_info": {
   "codemirror_mode": {
    "name": "ipython",
    "version": 3
   },
   "file_extension": ".py",
   "mimetype": "text/x-python",
   "name": "python",
   "nbconvert_exporter": "python",
   "pygments_lexer": "ipython3",
   "version": "3.7.4"
  }
 },
 "nbformat": 4,
 "nbformat_minor": 2
}
