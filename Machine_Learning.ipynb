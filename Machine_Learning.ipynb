{
 "cells": [
  {
   "cell_type": "code",
   "execution_count": 106,
   "metadata": {},
   "outputs": [],
   "source": [
    "import pandas as pd\n",
    "import numpy as np\n",
    "from sklearn.model_selection import train_test_split\n",
    "import seaborn as sns\n",
    "import matplotlib.pyplot as plt\n",
    "\n",
    "\n",
    "def warn(*args, **kwargs):\n",
    "    pass\n",
    "import warnings\n",
    "warnings.warn = warn"
   ]
  },
  {
   "cell_type": "code",
   "execution_count": 107,
   "metadata": {},
   "outputs": [
    {
     "data": {
      "text/plain": [
       "Index(['Age', 'Education', 'Relationship_Status', 'Income', 'Children',\n",
       "       'Wine ($)', 'Fruit ($)', 'Meat ($)', 'Fish ($)', 'Sweets ($)',\n",
       "       'Gold_Products ($)', 'Discount_Purchases', 'Web_Purchases',\n",
       "       'Catalog_Purchases', 'Store_Purchases', 'Days_Enrolled',\n",
       "       'Avg_Purch_Freq', 'Avg_Spend ($)', 'Cust_Accept (%)'],\n",
       "      dtype='object')"
      ]
     },
     "execution_count": 107,
     "metadata": {},
     "output_type": "execute_result"
    }
   ],
   "source": [
    "marketing = pd.read_csv('Cust_Records.csv')\n",
    "marketing.columns"
   ]
  },
  {
   "cell_type": "code",
   "execution_count": 108,
   "metadata": {},
   "outputs": [
    {
     "name": "stdout",
     "output_type": "stream",
     "text": [
      "<class 'pandas.core.frame.DataFrame'>\n",
      "RangeIndex: 2227 entries, 0 to 2226\n",
      "Data columns (total 19 columns):\n",
      "Age                    2227 non-null int64\n",
      "Education              2227 non-null object\n",
      "Relationship_Status    2227 non-null object\n",
      "Income                 2227 non-null float64\n",
      "Children               2227 non-null int64\n",
      "Wine ($)               2227 non-null int64\n",
      "Fruit ($)              2227 non-null int64\n",
      "Meat ($)               2227 non-null int64\n",
      "Fish ($)               2227 non-null int64\n",
      "Sweets ($)             2227 non-null int64\n",
      "Gold_Products ($)      2227 non-null int64\n",
      "Discount_Purchases     2227 non-null int64\n",
      "Web_Purchases          2227 non-null int64\n",
      "Catalog_Purchases      2227 non-null int64\n",
      "Store_Purchases        2227 non-null int64\n",
      "Days_Enrolled          2227 non-null float64\n",
      "Avg_Purch_Freq         2227 non-null float64\n",
      "Avg_Spend ($)          2227 non-null float64\n",
      "Cust_Accept (%)        2227 non-null float64\n",
      "dtypes: float64(5), int64(12), object(2)\n",
      "memory usage: 330.7+ KB\n"
     ]
    }
   ],
   "source": [
    "marketing.info()"
   ]
  },
  {
   "cell_type": "markdown",
   "metadata": {},
   "source": [
    "*Preprocessing for Customer Segmentation Below*"
   ]
  },
  {
   "cell_type": "code",
   "execution_count": 109,
   "metadata": {},
   "outputs": [
    {
     "name": "stdout",
     "output_type": "stream",
     "text": [
      "<class 'pandas.core.frame.DataFrame'>\n",
      "RangeIndex: 2227 entries, 0 to 2226\n",
      "Data columns (total 26 columns):\n",
      "Age                                    2227 non-null int64\n",
      "Income                                 2227 non-null float64\n",
      "Children                               2227 non-null int64\n",
      "Wine ($)                               2227 non-null int64\n",
      "Fruit ($)                              2227 non-null int64\n",
      "Meat ($)                               2227 non-null int64\n",
      "Fish ($)                               2227 non-null int64\n",
      "Sweets ($)                             2227 non-null int64\n",
      "Gold_Products ($)                      2227 non-null int64\n",
      "Discount_Purchases                     2227 non-null int64\n",
      "Web_Purchases                          2227 non-null int64\n",
      "Catalog_Purchases                      2227 non-null int64\n",
      "Store_Purchases                        2227 non-null int64\n",
      "Days_Enrolled                          2227 non-null float64\n",
      "Avg_Purch_Freq                         2227 non-null float64\n",
      "Avg_Spend ($)                          2227 non-null float64\n",
      "Education_2n Cycle                     2227 non-null uint8\n",
      "Education_Basic                        2227 non-null uint8\n",
      "Education_Graduation                   2227 non-null uint8\n",
      "Education_Master                       2227 non-null uint8\n",
      "Education_PhD                          2227 non-null uint8\n",
      "Relationship_Status_Divorced           2227 non-null uint8\n",
      "Relationship_Status_In-Relationship    2227 non-null uint8\n",
      "Relationship_Status_Married            2227 non-null uint8\n",
      "Relationship_Status_Single             2227 non-null uint8\n",
      "Relationship_Status_Widow              2227 non-null uint8\n",
      "dtypes: float64(4), int64(12), uint8(10)\n",
      "memory usage: 300.2 KB\n",
      "None\n"
     ]
    }
   ],
   "source": [
    "from sklearn.preprocessing import StandardScaler\n",
    "from scipy import stats\n",
    "\n",
    "def box_cox_df(x):\n",
    "    x_boxcox, _ = stats.boxcox(x)\n",
    "    return(x_boxcox)\n",
    "\n",
    "marketing_ml = marketing.drop('Cust_Accept (%)', axis=1)\n",
    "### Numerically Encoding Categorical Features ###\n",
    "categorical = pd.get_dummies(data=marketing_ml, columns=['Education', 'Relationship_Status'], drop_first=False)\n",
    "\n",
    "### Unskewing Data with Box Cox ###\n",
    "# numerical = marketing_ml[['Income', 'Children',\n",
    "#        'Wine ($)', 'Fruit ($)', 'Meat ($)', 'Fish ($)', 'Sweets ($)',\n",
    "#        'Gold_Products ($)', 'Discount_Purchases', 'Web_Purchases',\n",
    "#        'Catalog_Purchases', 'Store_Purchases', 'Days_Enrolled',\n",
    "#        'Avg_Purch_Freq', 'Avg_Spend ($)']]\n",
    "# numerical = numerical.apply(box_cox_df, axis=0)\n",
    "\n",
    "### Scaling Numerical Features ###\n",
    "# scaler = StandardScaler()\n",
    "# numerical = scaler.fit_transform(marketing_ml[['Income', 'Children',\n",
    "#        'Wine ($)', 'Fruit ($)', 'Meat ($)', 'Fish ($)', 'Sweets ($)',\n",
    "#        'Gold_Products ($)', 'Discount_Purchases', 'Web_Purchases',\n",
    "#        'Catalog_Purchases', 'Store_Purchases', 'Days_Enrolled',\n",
    "#        'Avg_Purch_Freq', 'Avg_Spend ($)']])\n",
    "# numerical = pd.DataFrame(numerical, columns=['Income', 'Children',\n",
    "#        'Wine ($)', 'Fruit ($)', 'Meat ($)', 'Fish ($)', 'Sweets ($)',\n",
    "#        'Gold_Products ($)', 'Discount_Purchases', 'Web_Purchases',\n",
    "#        'Catalog_Purchases', 'Store_Purchases', 'Days_Enrolled',\n",
    "#        'Avg_Purch_Freq', 'Avg_Spend ($)'])\n",
    "### Bring Categorical and Numerical Together ###\n",
    "# marketing_ml = categorical.merge(right=numerical, how='right')\n",
    "print(categorical.info())"
   ]
  },
  {
   "cell_type": "code",
   "execution_count": 110,
   "metadata": {},
   "outputs": [
    {
     "data": {
      "text/plain": [
       "Text(0.5, 1.0, 'Elbow Plot')"
      ]
     },
     "execution_count": 110,
     "metadata": {},
     "output_type": "execute_result"
    },
    {
     "data": {
      "image/png": "[encoded data removed]",
      "text/plain": [
       "<Figure size 432x288 with 1 Axes>"
      ]
     },
     "metadata": {
      "needs_background": "light"
     },
     "output_type": "display_data"
    }
   ],
   "source": [
    "from sklearn.cluster import KMeans\n",
    "import seaborn as sns\n",
    "\n",
    "X = categorical\n",
    "sse = {}\n",
    "for k in range(1, 11):\n",
    "    kmeans = KMeans(n_clusters=k, random_state=27)\n",
    "    kmeans.fit(X)\n",
    "    sse[k] = kmeans.inertia_\n",
    "sns.pointplot(x=list(sse.keys()), y=list(sse.values()))\n",
    "plt.xlabel(\"Number of cluster\")\n",
    "plt.ylabel(\"SSE\")\n",
    "plt.title('Elbow Plot')"
   ]
  },
  {
   "cell_type": "code",
   "execution_count": 111,
   "metadata": {
    "scrolled": false
   },
   "outputs": [
    {
     "name": "stdout",
     "output_type": "stream",
     "text": [
      "Cluster Counts\n",
      "0    800\n",
      "1    744\n",
      "2    683\n",
      "Name: Cluster, dtype: int64\n",
      "\n",
      "Percentage of Cluster Totals by Education\n",
      "Cluster  Education \n",
      "0        2n Cycle       8.0\n",
      "         Graduation    48.0\n",
      "         Master        19.0\n",
      "         PhD           25.0\n",
      "1        2n Cycle      11.0\n",
      "         Basic          7.0\n",
      "         Graduation    51.0\n",
      "         Master        15.0\n",
      "         PhD           16.0\n",
      "2        2n Cycle       8.0\n",
      "         Graduation    53.0\n",
      "         Master        15.0\n",
      "         PhD           24.0\n",
      "Name: Education, dtype: float64\n",
      "\n",
      "Percentage of Cluster Totals by Relationship Status\n",
      "Cluster  Relationship_Status\n",
      "0        Divorced               12.0\n",
      "         In-Relationship        26.0\n",
      "         Married                37.0\n",
      "         Single                 21.0\n",
      "         Widow                   4.0\n",
      "1        Divorced                9.0\n",
      "         In-Relationship        26.0\n",
      "         Married                40.0\n",
      "         Single                 24.0\n",
      "         Widow                   2.0\n",
      "2        Divorced               10.0\n",
      "         In-Relationship        26.0\n",
      "         Married                39.0\n",
      "         Single                 21.0\n",
      "         Widow                   4.0\n",
      "Name: Education, dtype: float64\n"
     ]
    },
    {
     "data": {
      "text/html": [
       "<div>\n",
       "<style scoped>\n",
       "    .dataframe tbody tr th:only-of-type {\n",
       "        vertical-align: middle;\n",
       "    }\n",
       "\n",
       "    .dataframe tbody tr th {\n",
       "        vertical-align: top;\n",
       "    }\n",
       "\n",
       "    .dataframe thead th {\n",
       "        text-align: right;\n",
       "    }\n",
       "</style>\n",
       "<table border=\"1\" class=\"dataframe\">\n",
       "  <thead>\n",
       "    <tr style=\"text-align: right;\">\n",
       "      <th></th>\n",
       "      <th>Age</th>\n",
       "      <th>Income</th>\n",
       "      <th>Children</th>\n",
       "      <th>Wine ($)</th>\n",
       "      <th>Fruit ($)</th>\n",
       "      <th>Meat ($)</th>\n",
       "      <th>Fish ($)</th>\n",
       "      <th>Sweets ($)</th>\n",
       "      <th>Gold_Products ($)</th>\n",
       "      <th>Discount_Purchases</th>\n",
       "      <th>Web_Purchases</th>\n",
       "      <th>Catalog_Purchases</th>\n",
       "      <th>Store_Purchases</th>\n",
       "      <th>Days_Enrolled</th>\n",
       "      <th>Avg_Purch_Freq</th>\n",
       "      <th>Avg_Spend ($)</th>\n",
       "      <th>Cust_Accept (%)</th>\n",
       "    </tr>\n",
       "    <tr>\n",
       "      <th>Cluster</th>\n",
       "      <th></th>\n",
       "      <th></th>\n",
       "      <th></th>\n",
       "      <th></th>\n",
       "      <th></th>\n",
       "      <th></th>\n",
       "      <th></th>\n",
       "      <th></th>\n",
       "      <th></th>\n",
       "      <th></th>\n",
       "      <th></th>\n",
       "      <th></th>\n",
       "      <th></th>\n",
       "      <th></th>\n",
       "      <th></th>\n",
       "      <th></th>\n",
       "      <th></th>\n",
       "    </tr>\n",
       "  </thead>\n",
       "  <tbody>\n",
       "    <tr>\n",
       "      <td>0</td>\n",
       "      <td>47.862500</td>\n",
       "      <td>52465.656778</td>\n",
       "      <td>1.227500</td>\n",
       "      <td>291.192500</td>\n",
       "      <td>19.146250</td>\n",
       "      <td>99.583750</td>\n",
       "      <td>25.372500</td>\n",
       "      <td>18.390000</td>\n",
       "      <td>46.331250</td>\n",
       "      <td>3.103750</td>\n",
       "      <td>4.761250</td>\n",
       "      <td>2.266250</td>\n",
       "      <td>6.077500</td>\n",
       "      <td>474.195000</td>\n",
       "      <td>37.569836</td>\n",
       "      <td>26.654788</td>\n",
       "      <td>5.000000</td>\n",
       "    </tr>\n",
       "    <tr>\n",
       "      <td>1</td>\n",
       "      <td>40.853495</td>\n",
       "      <td>28499.263441</td>\n",
       "      <td>1.126344</td>\n",
       "      <td>31.221774</td>\n",
       "      <td>6.005376</td>\n",
       "      <td>25.755376</td>\n",
       "      <td>9.083333</td>\n",
       "      <td>6.087366</td>\n",
       "      <td>17.766129</td>\n",
       "      <td>2.153226</td>\n",
       "      <td>2.169355</td>\n",
       "      <td>0.530914</td>\n",
       "      <td>3.098118</td>\n",
       "      <td>483.673387</td>\n",
       "      <td>73.362528</td>\n",
       "      <td>10.369226</td>\n",
       "      <td>3.449821</td>\n",
       "    </tr>\n",
       "    <tr>\n",
       "      <td>2</td>\n",
       "      <td>46.433382</td>\n",
       "      <td>76739.800878</td>\n",
       "      <td>0.437775</td>\n",
       "      <td>617.834553</td>\n",
       "      <td>56.926794</td>\n",
       "      <td>398.846266</td>\n",
       "      <td>83.083455</td>\n",
       "      <td>60.412884</td>\n",
       "      <td>70.165447</td>\n",
       "      <td>1.614934</td>\n",
       "      <td>5.414348</td>\n",
       "      <td>5.469985</td>\n",
       "      <td>8.431918</td>\n",
       "      <td>471.620791</td>\n",
       "      <td>24.721003</td>\n",
       "      <td>63.729498</td>\n",
       "      <td>14.690093</td>\n",
       "    </tr>\n",
       "  </tbody>\n",
       "</table>\n",
       "</div>"
      ],
      "text/plain": [
       "               Age        Income  Children    Wine ($)  Fruit ($)    Meat ($)  \\\n",
       "Cluster                                                                         \n",
       "0        47.862500  52465.656778  1.227500  291.192500  19.146250   99.583750   \n",
       "1        40.853495  28499.263441  1.126344   31.221774   6.005376   25.755376   \n",
       "2        46.433382  76739.800878  0.437775  617.834553  56.926794  398.846266   \n",
       "\n",
       "          Fish ($)  Sweets ($)  Gold_Products ($)  Discount_Purchases  \\\n",
       "Cluster                                                                 \n",
       "0        25.372500   18.390000          46.331250            3.103750   \n",
       "1         9.083333    6.087366          17.766129            2.153226   \n",
       "2        83.083455   60.412884          70.165447            1.614934   \n",
       "\n",
       "         Web_Purchases  Catalog_Purchases  Store_Purchases  Days_Enrolled  \\\n",
       "Cluster                                                                     \n",
       "0             4.761250           2.266250         6.077500     474.195000   \n",
       "1             2.169355           0.530914         3.098118     483.673387   \n",
       "2             5.414348           5.469985         8.431918     471.620791   \n",
       "\n",
       "         Avg_Purch_Freq  Avg_Spend ($)  Cust_Accept (%)  \n",
       "Cluster                                                  \n",
       "0             37.569836      26.654788         5.000000  \n",
       "1             73.362528      10.369226         3.449821  \n",
       "2             24.721003      63.729498        14.690093  "
      ]
     },
     "execution_count": 111,
     "metadata": {},
     "output_type": "execute_result"
    }
   ],
   "source": [
    "kmeans = KMeans(n_clusters = 3)\n",
    "kmeans.fit(X)\n",
    "labels = kmeans.labels_\n",
    "marketing['Cluster'] = labels\n",
    "print('Cluster Counts')\n",
    "print(marketing['Cluster'].value_counts())\n",
    "education = marketing.groupby(['Cluster', 'Education'])['Education'].count()\n",
    "print('\\nPercentage of Cluster Totals by Education')\n",
    "print(round((education / education.groupby(level=0).sum()) * 100))\n",
    "relationship = marketing.groupby(['Cluster', 'Relationship_Status'])['Education'].count()\n",
    "print('\\nPercentage of Cluster Totals by Relationship Status')\n",
    "print(round((relationship / relationship.groupby(level=0).sum()) * 100))\n",
    "marketing.groupby('Cluster').mean()"
   ]
  },
  {
   "cell_type": "markdown",
   "metadata": {},
   "source": [
    "*Regression to Predict Cust_Accept (%)*"
   ]
  },
  {
   "cell_type": "code",
   "execution_count": 112,
   "metadata": {},
   "outputs": [],
   "source": [
    "### Random Forest Regressor, HyperParameter Tuning ###\n",
    "from sklearn.ensemble import RandomForestRegressor\n",
    "from sklearn.model_selection import train_test_split\n",
    "X = categorical.values\n",
    "y = marketing['Cust_Accept (%)'].values\n",
    "X_train, X_test, y_train, y_test = train_test_split(X, y, test_size=.25, random_state=42)\n",
    "rfr = RandomForestRegressor(n_jobs=-1, oob_score=True)\n",
    "grid_search = GridSearchCV(rfr, \n",
    "                           param_grid={\n",
    "                                       \"n_estimators\": [100, 200, 600, 1000],\n",
    "                                       \"min_samples_leaf\": [5, 3, 2, 1],\n",
    "                                       \"max_features\": ['sqrt', 'log2', .5, None]\n",
    "                                       },\n",
    "                           n_jobs=-1,\n",
    "                           cv=5,\n",
    "                           iid=False, # just return the average score across folds\n",
    "                           return_train_score=False, scoring = 'r2')\n",
    "grid_search.fit(X_train, y_train)\n",
    "y_pred_test = grid_search.predict(X_test)\n",
    "best_rfr = grid_search.best_estimator_"
   ]
  },
  {
   "cell_type": "code",
   "execution_count": 116,
   "metadata": {},
   "outputs": [
    {
     "name": "stdout",
     "output_type": "stream",
     "text": [
      "\n",
      " *Most Important Education Category*\n",
      "                 cols      imp\n",
      " Education_Graduation  0.00964\n",
      "\n",
      " *Most Important Relationship_Status Category*\n",
      "                        cols       imp\n",
      " Relationship_Status_Married  0.006945\n",
      "\n",
      " *Most Important Purchases Category*\n",
      "              cols       imp\n",
      " Catalog_Purchases  0.051836\n",
      "\n",
      " *Most Important ($) Category*\n",
      "     cols       imp\n",
      " Wine ($)  0.177836\n"
     ]
    },
    {
     "data": {
      "image/png": "[encoded data removed]",
      "text/plain": [
       "<Figure size 864x504 with 1 Axes>"
      ]
     },
     "metadata": {
      "needs_background": "light"
     },
     "output_type": "display_data"
    },
    {
     "name": "stdout",
     "output_type": "stream",
     "text": [
      "\n",
      "OOB Score:  0.42087160493827114\n",
      "\n",
      "Best Params: {'max_features': 'sqrt', 'min_samples_leaf': 1, 'n_estimators': 200}\n",
      "\n",
      "Testing RMSE: 10.427190973117655\n",
      "\n",
      "Testing R2:  0.42650685720762427\n"
     ]
    }
   ],
   "source": [
    "### Analyzing Performance & Feature Importance Towards Cust Accept % ###\n",
    "\n",
    "from sklearn.metrics import r2_score, mean_squared_error, make_scorer\n",
    "from sklearn.model_selection import GridSearchCV\n",
    "\n",
    "\n",
    "def rf_feat_importance(m, df):\n",
    "    return pd.DataFrame({'cols':df.columns, 'imp':m.feature_importances_}).sort_values('imp', ascending=False)\n",
    "\n",
    "def plot_fi(fi): \n",
    "    return fi.plot('cols', 'imp', 'barh', figsize=(12,7), legend=False)\n",
    "\n",
    "fi = rf_feat_importance(best_rfr, categorical)\n",
    "for feature in ['Education', 'Relationship_Status', 'Purchases', '($)']:\n",
    "    print('\\n', '*Most Important', feature, 'Category*' )\n",
    "    new = fi.loc[fi['cols'].str.contains(feature)]\n",
    "    print(new.sort_values('imp', ascending=False).head(1).to_string(index=False))\n",
    "\n",
    "plot_fi(fi)\n",
    "plt.show()\n",
    "\n",
    "print('\\nOOB Score: ', best_rfr.oob_score_)\n",
    "print('\\nBest Params:', grid_search.best_params_)\n",
    "print('\\nTesting RMSE:', np.sqrt(mean_squared_error(y_test, y_pred_test)))\n",
    "print('\\nTesting R2: ', grid_search.score(X_test, y_test))"
   ]
  }
 ],
 "metadata": {
  "kernelspec": {
   "display_name": "Python 3",
   "language": "python",
   "name": "python3"
  },
  "language_info": {
   "codemirror_mode": {
    "name": "ipython",
    "version": 3
   },
   "file_extension": ".py",
   "mimetype": "text/x-python",
   "name": "python",
   "nbconvert_exporter": "python",
   "pygments_lexer": "ipython3",
   "version": "3.7.4"
  }
 },
 "nbformat": 4,
 "nbformat_minor": 2
}
